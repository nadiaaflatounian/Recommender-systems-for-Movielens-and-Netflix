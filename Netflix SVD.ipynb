{
 "cells": [
  {
   "cell_type": "markdown",
   "metadata": {},
   "source": [
    "### Introduction to the Notebook\n",
    "\n",
    "In this Jupyter notebook we aim to implement a recommender system using Singular Value Decomposition (SVD) and SVD++ techniques available in the Surprise package. The dataset used for this implementation is the Netflix dataset. Due to the potential memory constraints and computational complexity, we opted not to implement manual SVD on this dataset.\n",
    "\n",
    "### About Surprise Package\n",
    "\n",
    "The Surprise package, short for \"Simple Python RecommendatIon System Engine,\" is a Python scikit for building and analyzing recommender systems. It provides a simple and efficient way to implement collaborative filtering algorithms, including matrix factorization-based methods like SVD and its variations.\n",
    "\n",
    "### How Surprise Package Works\n",
    "\n",
    "1. **Algorithm Implementations**: Surprise offers ready-to-use implementations of various collaborative filtering algorithms, including matrix factorization techniques like SVD, SVD++, NMF, etc.\n",
    "\n",
    "2. **Data Loading and Preparation**: You can load your dataset into Surprise using its built-in functionalities. It supports different file formats, including CSV and Pandas DataFrame.\n",
    "\n",
    "3. **Model Training**: Once the data is loaded, you can choose an algorithm and train it on your dataset. Surprise handles the training process, including data splitting for cross-validation and parameter tuning.\n",
    "\n",
    "4. **Evaluation**: Surprise provides evaluation metrics for assessing the performance of your recommender system, such as RMSE (Root Mean Squared Error) and MAE (Mean Absolute Error).\n",
    "\n",
    "5. **Prediction**: After training the model, you can make predictions for user-item pairs to recommend items to users. Surprise handles the prediction process efficiently.\n",
    "\n",
    "6. **Hyperparameter Tuning**: Surprise offers tools for hyperparameter tuning, such as GridSearchCV, to find the best combination of parameters for your algorithm.\n",
    "\n"
   ]
  },
  {
   "cell_type": "code",
   "execution_count": 1,
   "metadata": {},
   "outputs": [
    {
     "data": {
      "text/html": [
       "<div>\n",
       "<style scoped>\n",
       "    .dataframe tbody tr th:only-of-type {\n",
       "        vertical-align: middle;\n",
       "    }\n",
       "\n",
       "    .dataframe tbody tr th {\n",
       "        vertical-align: top;\n",
       "    }\n",
       "\n",
       "    .dataframe thead th {\n",
       "        text-align: right;\n",
       "    }\n",
       "</style>\n",
       "<table border=\"1\" class=\"dataframe\">\n",
       "  <thead>\n",
       "    <tr style=\"text-align: right;\">\n",
       "      <th></th>\n",
       "      <th>MovieID</th>\n",
       "      <th>CustomerID</th>\n",
       "      <th>Rating</th>\n",
       "      <th>Date</th>\n",
       "      <th>YearOfRelease</th>\n",
       "      <th>MovieTitle</th>\n",
       "      <th>RatingYear</th>\n",
       "      <th>MovieAge</th>\n",
       "      <th>user_activity</th>\n",
       "      <th>AverageMovieAgeRated</th>\n",
       "      <th>user_average_rating</th>\n",
       "      <th>average_rating_per_movie</th>\n",
       "      <th>number_of_ratings_per_movie</th>\n",
       "      <th>scaled_movie_age</th>\n",
       "    </tr>\n",
       "  </thead>\n",
       "  <tbody>\n",
       "    <tr>\n",
       "      <th>0</th>\n",
       "      <td>1</td>\n",
       "      <td>1488844</td>\n",
       "      <td>3</td>\n",
       "      <td>2005-09-06</td>\n",
       "      <td>2003</td>\n",
       "      <td>Dinosaur Planet</td>\n",
       "      <td>2005</td>\n",
       "      <td>2</td>\n",
       "      <td>1.473012</td>\n",
       "      <td>1.640503</td>\n",
       "      <td>3.253308</td>\n",
       "      <td>3.910534</td>\n",
       "      <td>1.010541</td>\n",
       "      <td>1.215054</td>\n",
       "    </tr>\n",
       "    <tr>\n",
       "      <th>1</th>\n",
       "      <td>1</td>\n",
       "      <td>822109</td>\n",
       "      <td>5</td>\n",
       "      <td>2005-05-13</td>\n",
       "      <td>2003</td>\n",
       "      <td>Dinosaur Planet</td>\n",
       "      <td>2005</td>\n",
       "      <td>2</td>\n",
       "      <td>1.031355</td>\n",
       "      <td>1.405855</td>\n",
       "      <td>4.083333</td>\n",
       "      <td>3.910534</td>\n",
       "      <td>1.010541</td>\n",
       "      <td>1.215054</td>\n",
       "    </tr>\n",
       "    <tr>\n",
       "      <th>2</th>\n",
       "      <td>1</td>\n",
       "      <td>885013</td>\n",
       "      <td>4</td>\n",
       "      <td>2005-10-19</td>\n",
       "      <td>2003</td>\n",
       "      <td>Dinosaur Planet</td>\n",
       "      <td>2005</td>\n",
       "      <td>2</td>\n",
       "      <td>1.077044</td>\n",
       "      <td>1.400853</td>\n",
       "      <td>3.873563</td>\n",
       "      <td>3.910534</td>\n",
       "      <td>1.010541</td>\n",
       "      <td>1.215054</td>\n",
       "    </tr>\n",
       "    <tr>\n",
       "      <th>3</th>\n",
       "      <td>1</td>\n",
       "      <td>30878</td>\n",
       "      <td>4</td>\n",
       "      <td>2005-12-26</td>\n",
       "      <td>2003</td>\n",
       "      <td>Dinosaur Planet</td>\n",
       "      <td>2005</td>\n",
       "      <td>2</td>\n",
       "      <td>1.275924</td>\n",
       "      <td>1.525706</td>\n",
       "      <td>3.634304</td>\n",
       "      <td>3.910534</td>\n",
       "      <td>1.010541</td>\n",
       "      <td>1.215054</td>\n",
       "    </tr>\n",
       "    <tr>\n",
       "      <th>4</th>\n",
       "      <td>1</td>\n",
       "      <td>823519</td>\n",
       "      <td>3</td>\n",
       "      <td>2004-05-03</td>\n",
       "      <td>2003</td>\n",
       "      <td>Dinosaur Planet</td>\n",
       "      <td>2004</td>\n",
       "      <td>1</td>\n",
       "      <td>1.139754</td>\n",
       "      <td>1.326786</td>\n",
       "      <td>3.917197</td>\n",
       "      <td>3.910534</td>\n",
       "      <td>1.010541</td>\n",
       "      <td>1.172043</td>\n",
       "    </tr>\n",
       "  </tbody>\n",
       "</table>\n",
       "</div>"
      ],
      "text/plain": [
       "   MovieID  CustomerID  Rating        Date  YearOfRelease       MovieTitle  \\\n",
       "0        1     1488844       3  2005-09-06           2003  Dinosaur Planet   \n",
       "1        1      822109       5  2005-05-13           2003  Dinosaur Planet   \n",
       "2        1      885013       4  2005-10-19           2003  Dinosaur Planet   \n",
       "3        1       30878       4  2005-12-26           2003  Dinosaur Planet   \n",
       "4        1      823519       3  2004-05-03           2003  Dinosaur Planet   \n",
       "\n",
       "   RatingYear  MovieAge  user_activity  AverageMovieAgeRated  \\\n",
       "0        2005         2       1.473012              1.640503   \n",
       "1        2005         2       1.031355              1.405855   \n",
       "2        2005         2       1.077044              1.400853   \n",
       "3        2005         2       1.275924              1.525706   \n",
       "4        2004         1       1.139754              1.326786   \n",
       "\n",
       "   user_average_rating  average_rating_per_movie  number_of_ratings_per_movie  \\\n",
       "0             3.253308                  3.910534                     1.010541   \n",
       "1             4.083333                  3.910534                     1.010541   \n",
       "2             3.873563                  3.910534                     1.010541   \n",
       "3             3.634304                  3.910534                     1.010541   \n",
       "4             3.917197                  3.910534                     1.010541   \n",
       "\n",
       "   scaled_movie_age  \n",
       "0          1.215054  \n",
       "1          1.215054  \n",
       "2          1.215054  \n",
       "3          1.215054  \n",
       "4          1.172043  "
      ]
     },
     "execution_count": 1,
     "metadata": {},
     "output_type": "execute_result"
    }
   ],
   "source": [
    "import pandas as pd\n",
    "import numpy as np\n",
    "training_df = pd.read_csv('C:/Users/nafla/OneDrive/Documents/system development/training_data.csv')\n",
    "training_df.head()"
   ]
  },
  {
   "cell_type": "code",
   "execution_count": 2,
   "metadata": {},
   "outputs": [],
   "source": [
    "\n",
    "from surprise import Dataset, Reader, SVD\n",
    "from surprise.model_selection import train_test_split\n",
    "from surprise.accuracy import rmse"
   ]
  },
  {
   "cell_type": "code",
   "execution_count": 3,
   "metadata": {},
   "outputs": [
    {
     "name": "stdout",
     "output_type": "stream",
     "text": [
      "   MovieID  CustomerID  Rating        Date  YearOfRelease       MovieTitle  \\\n",
      "0        1     1488844       3  2005-09-06           2003  Dinosaur Planet   \n",
      "1        1      822109       5  2005-05-13           2003  Dinosaur Planet   \n",
      "2        1      885013       4  2005-10-19           2003  Dinosaur Planet   \n",
      "3        1       30878       4  2005-12-26           2003  Dinosaur Planet   \n",
      "4        1      823519       3  2004-05-03           2003  Dinosaur Planet   \n",
      "\n",
      "   RatingYear  MovieAge  user_activity  AverageMovieAgeRated  \\\n",
      "0        2005         2           1.47                  1.64   \n",
      "1        2005         2           1.03                  1.41   \n",
      "2        2005         2           1.08                  1.40   \n",
      "3        2005         2           1.28                  1.53   \n",
      "4        2004         1           1.14                  1.33   \n",
      "\n",
      "   user_average_rating  average_rating_per_movie  number_of_ratings_per_movie  \\\n",
      "0                 3.25                      3.91                         1.01   \n",
      "1                 4.08                      3.91                         1.01   \n",
      "2                 3.87                      3.91                         1.01   \n",
      "3                 3.63                      3.91                         1.01   \n",
      "4                 3.92                      3.91                         1.01   \n",
      "\n",
      "   scaled_movie_age  \n",
      "0              1.22  \n",
      "1              1.22  \n",
      "2              1.22  \n",
      "3              1.22  \n",
      "4              1.17  \n"
     ]
    }
   ],
   "source": [
    "# List of your columns to be rounded and converted\n",
    "columns_to_round_and_convert = ['user_activity', 'AverageMovieAgeRated', 'user_average_rating', 'average_rating_per_movie', 'number_of_ratings_per_movie', 'scaled_movie_age']\n",
    "\n",
    "# Apply rounding and conversion to all specified columns\n",
    "for column in columns_to_round_and_convert:\n",
    "    training_df[column] = training_df[column].round(2)\n",
    "\n",
    "# Display the DataFrame to verify the changes\n",
    "print(training_df.head())"
   ]
  },
  {
   "cell_type": "markdown",
   "metadata": {},
   "source": [
    "# Stratified Sampling Method \n",
    "\n",
    "To create a representative sample of our dataset, we employ a stratified sampling method that accounts for three key dimensions: Rating Distribution, User Activity, and Item Popularity. This approach ensures our sample maintains the diversity and characteristics of the entire dataset, facilitating more reliable model training and evaluation.\n",
    "\n",
    "- User Activity is quantified by the number of ratings a user has provided.\n",
    "- Item Popularity reflects the number of ratings an item has received.\n",
    "\n",
    "Finally, We combine User Activity, Item Popularity, and Rating into a composite stratification key for each record. This multi-dimensional key ensures our sampling process considers the distribution across all three axes."
   ]
  },
  {
   "cell_type": "code",
   "execution_count": 4,
   "metadata": {},
   "outputs": [],
   "source": [
    "# Assign each user and item to a bin based on the quantiles\n",
    "training_df['UserActivityBin'] = pd.qcut(training_df.groupby('CustomerID')['Rating'].transform('size'), \n",
    "                                q=[0, .25, .5, .75, 1], labels=['low', 'medium', 'medium-high', 'high'])\n",
    "\n",
    "training_df['ItemPopularityBin'] = pd.qcut(training_df.groupby('MovieID')['Rating'].transform('size'), \n",
    "                                   q=[0, .25, .5, .75, 1], labels=['low', 'medium', 'medium-high', 'high'])\n",
    "\n",
    "# Combine these with Rating to create a stratification key\n",
    "training_df['Strata'] = training_df['UserActivityBin'].astype(str) + \"_\" + training_df['ItemPopularityBin'].astype(str) + \"_\" + training_df['Rating'].astype(str)\n",
    "training_df['Strata'] = training_df['UserActivityBin'].astype(str) + training_df['Rating'].astype(str)\n",
    "\n",
    "# Perform stratified sampling\n",
    "# we use groupby and  frac to specify a fraction of each strata and in case number of rows is less that 10 it takes all rows\n",
    "strat_sample_df = training_df.groupby('Strata').apply(lambda x: x.sample(frac=0.005 if len(x) > 10 else len(x)/len(x))).reset_index(drop=True)\n"
   ]
  },
  {
   "cell_type": "markdown",
   "metadata": {},
   "source": [
    "##  Recommender System with SVD"
   ]
  },
  {
   "cell_type": "code",
   "execution_count": 5,
   "metadata": {},
   "outputs": [],
   "source": [
    "from surprise import SVD\n",
    "from surprise import Dataset\n",
    "from surprise.model_selection import GridSearchCV"
   ]
  },
  {
   "cell_type": "markdown",
   "metadata": {},
   "source": [
    "### 1. Loading data "
   ]
  },
  {
   "cell_type": "code",
   "execution_count": 30,
   "metadata": {},
   "outputs": [],
   "source": [
    "# Defining rating scale\n",
    "reader = Reader(rating_scale=(1, 5))\n",
    "# Loading data to surprise data set\n",
    "data = Dataset.load_from_df(strat_sample_df[['CustomerID', 'MovieID', 'Rating']], reader)"
   ]
  },
  {
   "cell_type": "markdown",
   "metadata": {},
   "source": [
    "### 2. Hyperparameter Tuning with Grid Search in Surprise Package\n",
    "\n",
    "\n",
    "1. **Define Hyperparameters**: The `param_grid` dictionary defines a grid of hyperparameters that we want to search over. It includes parameters such as `n_epochs`, `lr_all`, `reg_all`, and `n_factors`.\n",
    "\n",
    "2. **Create GridSearchCV Object**: We create a `GridSearchCV` object named `grid_search`. This object is configured with:\n",
    "   - The algorithm class (`SVD` in this case) that we want to tune.\n",
    "   - The parameter grid defined earlier (`param_grid`).\n",
    "   - Evaluation measures (`\"rmse\"` and `\"mae\"`).\n",
    "   - Number of folds for cross-validation (`cv=5` for 5-fold cross-validation).\n",
    "\n",
    "3. **Fit GridSearchCV Object**: We fit the `GridSearchCV` object to our data (`data`). This performs an exhaustive search over the hyperparameter grid and evaluates each combination using cross-validation.\n",
    "\n",
    "4. **Get Best Hyperparameters**: After fitting, we access the best hyperparameters found by the grid search using `best_score` and `best_params` attributes.\n",
    "\n",
    "5. **Print Results**: Finally, we print out the best RMSE score achieved and the corresponding best hyperparameters.\n",
    "\n",
    "\n"
   ]
  },
  {
   "cell_type": "code",
   "execution_count": 31,
   "metadata": {},
   "outputs": [
    {
     "name": "stdout",
     "output_type": "stream",
     "text": [
      "Best rmse: 1.0277875931473905\n",
      "Best hyperparameters: {'n_epochs': 10, 'lr_all': 0.005, 'reg_all': 0.4, 'n_factors': 10}\n"
     ]
    }
   ],
   "source": [
    "# Define params for gread search\n",
    "\n",
    "# n_epochs: The total number of iterations over the entire dataset during the training process.\n",
    "# lr_all: The learning rate for all parameters, controlling the step size in the gradient descent optimization.\n",
    "# reg_all: The regularization term for all parameters, used to penalize larger parameter values to prevent overfitting.\n",
    "# n_factors: The number of latent factors to use, which represents the dimensionality of the user/item feature space.\n",
    "\n",
    "param_grid = {\"n_epochs\": [5, 10], \"lr_all\": [0.002, 0.005], \"reg_all\": [0.4, 0.6], \"n_factors\": [5 ,10 ,30 ,50, 100, 150]}\n",
    "\n",
    "# Create a GridSearchCV object\n",
    "grid_search = GridSearchCV(SVD, param_grid, measures=[\"rmse\", \"mae\"], cv=5)\n",
    "\n",
    "# Fit the GridSearchCV object\n",
    "grid_search.fit(data)\n",
    "\n",
    "# Get the best hyperparameters\n",
    "# best RMSE score\n",
    "print(\"Best rmse:\", grid_search.best_score[\"rmse\"])\n",
    "\n",
    "# combination of parameters that gave the best RMSE score\n",
    "print(\"Best hyperparameters:\", grid_search.best_params[\"rmse\"])"
   ]
  },
  {
   "cell_type": "markdown",
   "metadata": {},
   "source": [
    "### 3. Fitting the model"
   ]
  },
  {
   "cell_type": "code",
   "execution_count": 32,
   "metadata": {},
   "outputs": [
    {
     "data": {
      "text/plain": [
       "<surprise.prediction_algorithms.matrix_factorization.SVD at 0x1c5d0792210>"
      ]
     },
     "execution_count": 32,
     "metadata": {},
     "output_type": "execute_result"
    }
   ],
   "source": [
    "# fit the algorithm that yields the best rmse:\n",
    "algo = grid_search.best_estimator[\"rmse\"]\n",
    "algo.fit(data.build_full_trainset())"
   ]
  },
  {
   "cell_type": "markdown",
   "metadata": {},
   "source": [
    "### 4. Making rating predictions"
   ]
  },
  {
   "cell_type": "code",
   "execution_count": 42,
   "metadata": {},
   "outputs": [
    {
     "name": "stdout",
     "output_type": "stream",
     "text": [
      "Predicted rating: 3.5996141981724303\n"
     ]
    }
   ],
   "source": [
    "# Predict rating for a specific user-item pair\n",
    "user_id = '1'\n",
    "item_id = '1'\n",
    "predicted_rating = algo.predict(user_id, item_id)\n",
    "print(\"Predicted rating:\", predicted_rating.est)"
   ]
  },
  {
   "cell_type": "markdown",
   "metadata": {},
   "source": [
    "### 5. Defining movie recommendation function\n",
    "\n",
    "This function `recommend_top_n_unseen_movies` recommends the top N unseen movies to a given user based on a trained model. Here's an explanation of the function:\n",
    "\n",
    "- **Parameters**:\n",
    "  - `user_id`: ID of the user for whom recommendations are to be made.\n",
    "  - `model`: Trained recommender system model (e.g., SVD or SVD++).\n",
    "  - `movies_df`: DataFrame containing information about movies, including MovieID and MovieTitle.\n",
    "  - `n`: Number of recommendations to be made (default is 10).\n",
    "\n",
    "**Steps**:\n",
    "1. **Get Rated Movie IDs**: Extract the movie IDs rated by the user from the dataset.\n",
    "2. **Get All Movie IDs**: Retrieve all unique movie IDs available in the dataset.\n",
    "3. **Identify Unseen Movies**: Find the movie IDs that the user has not rated (unseen movies).\n",
    "4. **Predict Ratings**: Use the trained model to predict ratings for the unseen movies.\n",
    "5. **Sort Predictions**: Sort the predicted ratings in descending order to identify the top N predictions.\n",
    "6. **Get Movie Titles**: Retrieve the movie titles corresponding to the top N predicted ratings.\n",
    "7. **Return Recommendations**: Return the top N recommended movies along with their IDs, titles, and predicted ratings.\n",
    "\n",
    "**Output**:\n",
    "The function returns a list of tuples, where each tuple contains the MovieID, MovieTitle, and predicted rating for one of the top N recommended movies.\n",
    "\n",
    "This function simplifies the process of recommending movies to users by automating the steps involved in predicting ratings for unseen movies and selecting the top recommendations based on these ratings."
   ]
  },
  {
   "cell_type": "code",
   "execution_count": 38,
   "metadata": {},
   "outputs": [],
   "source": [
    "def recommend_top_n_unseen_movies(user_id, model, movies_df, n=10):\n",
    "    # Get all the movie IDs rated by the user\n",
    "    rated_movie_ids = strat_sample_df[strat_sample_df['CustomerID'] == user_id]['MovieID'].tolist()\n",
    "    \n",
    "    # Get all the movie IDs in the dataset\n",
    "    all_movie_ids = movies_df['MovieID'].unique()\n",
    "    \n",
    "    # Identify the unseen movies (movies not rated by the user)\n",
    "    unseen_movie_ids = [movie_id for movie_id in all_movie_ids if movie_id not in rated_movie_ids]\n",
    "    \n",
    "    # Predict ratings for unseen movies\n",
    "    predictions = [(movie_id, model.predict(user_id, movie_id).est) for movie_id in unseen_movie_ids]\n",
    "    \n",
    "    # Sort the predictions based on predicted rating in descending order\n",
    "    top_n_predictions = sorted(predictions, key=lambda x: x[1], reverse=True)[:n]\n",
    "    \n",
    "    # Get movie titles corresponding to the top N predicted ratings\n",
    "    top_n_movies = [(movie_id, movies_df[movies_df['MovieID'] == movie_id]['MovieTitle'].iloc[0], rating) for movie_id, rating in top_n_predictions]\n",
    "    \n",
    "    return top_n_movies\n",
    "\n",
    "\n"
   ]
  },
  {
   "cell_type": "markdown",
   "metadata": {},
   "source": [
    "### 6. Making movie recommendations"
   ]
  },
  {
   "cell_type": "code",
   "execution_count": 63,
   "metadata": {},
   "outputs": [
    {
     "name": "stdout",
     "output_type": "stream",
     "text": [
      "Movie ID: 2102, Movie Title: The Simpsons: Season 6, Predicted Rating: 4.388529479452689\n",
      "Movie ID: 2452, Movie Title: Lord of the Rings: The Fellowship of the Ring, Predicted Rating: 4.351073301339274\n",
      "Movie ID: 3962, Movie Title: Finding Nemo (Widescreen), Predicted Rating: 4.33947766718005\n",
      "Movie ID: 1947, Movie Title: Gilmore Girls: Season 3, Predicted Rating: 4.3325438855746965\n",
      "Movie ID: 3456, Movie Title: Lost: Season 1, Predicted Rating: 4.288582071208768\n",
      "Movie ID: 1409, Movie Title: The O.C.: Season 1, Predicted Rating: 4.278009961641653\n",
      "Movie ID: 4306, Movie Title: The Sixth Sense, Predicted Rating: 4.2580117489011675\n",
      "Movie ID: 1357, Movie Title: Stargate SG-1: Season 7, Predicted Rating: 4.2575081374242405\n",
      "Movie ID: 2114, Movie Title: Firefly, Predicted Rating: 4.24769236263177\n",
      "Movie ID: 1476, Movie Title: Six Feet Under: Season 4, Predicted Rating: 4.2443280914137\n"
     ]
    }
   ],
   "source": [
    "# recommending movie for one user:\n",
    "user_id = '1'\n",
    "top_n_recommendations = recommend_top_n_unseen_movies(user_id, algo, strat_sample_df, n=10)\n",
    "for movie_id, movie_title, predicted_rating in top_n_recommendations:\n",
    "    print(f\"Movie ID: {movie_id}, Movie Title: {movie_title}, Predicted Rating: {predicted_rating}\")"
   ]
  },
  {
   "cell_type": "markdown",
   "metadata": {},
   "source": [
    "### Recommendation System with SVD++"
   ]
  },
  {
   "cell_type": "code",
   "execution_count": 44,
   "metadata": {},
   "outputs": [
    {
     "data": {
      "text/html": [
       "<div>\n",
       "<style scoped>\n",
       "    .dataframe tbody tr th:only-of-type {\n",
       "        vertical-align: middle;\n",
       "    }\n",
       "\n",
       "    .dataframe tbody tr th {\n",
       "        vertical-align: top;\n",
       "    }\n",
       "\n",
       "    .dataframe thead th {\n",
       "        text-align: right;\n",
       "    }\n",
       "</style>\n",
       "<table border=\"1\" class=\"dataframe\">\n",
       "  <thead>\n",
       "    <tr style=\"text-align: right;\">\n",
       "      <th></th>\n",
       "      <th>MovieID</th>\n",
       "      <th>CustomerID</th>\n",
       "      <th>Rating</th>\n",
       "      <th>Date</th>\n",
       "      <th>YearOfRelease</th>\n",
       "      <th>MovieTitle</th>\n",
       "      <th>RatingYear</th>\n",
       "      <th>MovieAge</th>\n",
       "      <th>user_activity</th>\n",
       "      <th>AverageMovieAgeRated</th>\n",
       "      <th>user_average_rating</th>\n",
       "      <th>average_rating_per_movie</th>\n",
       "      <th>number_of_ratings_per_movie</th>\n",
       "      <th>scaled_movie_age</th>\n",
       "      <th>UserActivityBin</th>\n",
       "      <th>ItemPopularityBin</th>\n",
       "      <th>Strata</th>\n",
       "      <th>ChoosingMovie</th>\n",
       "    </tr>\n",
       "  </thead>\n",
       "  <tbody>\n",
       "    <tr>\n",
       "      <th>0</th>\n",
       "      <td>3659</td>\n",
       "      <td>164845</td>\n",
       "      <td>1</td>\n",
       "      <td>2005-02-20</td>\n",
       "      <td>1968</td>\n",
       "      <td>The Horse in the Gray Flannel Suit</td>\n",
       "      <td>2005</td>\n",
       "      <td>37</td>\n",
       "      <td>1.34</td>\n",
       "      <td>1.64</td>\n",
       "      <td>2.08</td>\n",
       "      <td>3.60</td>\n",
       "      <td>1.02</td>\n",
       "      <td>2.72</td>\n",
       "      <td>high</td>\n",
       "      <td>low</td>\n",
       "      <td>high1</td>\n",
       "      <td>1</td>\n",
       "    </tr>\n",
       "    <tr>\n",
       "      <th>1</th>\n",
       "      <td>4008</td>\n",
       "      <td>507603</td>\n",
       "      <td>1</td>\n",
       "      <td>2005-08-27</td>\n",
       "      <td>2002</td>\n",
       "      <td>David Blaine: Fearless</td>\n",
       "      <td>2005</td>\n",
       "      <td>3</td>\n",
       "      <td>2.48</td>\n",
       "      <td>1.68</td>\n",
       "      <td>1.26</td>\n",
       "      <td>3.92</td>\n",
       "      <td>1.02</td>\n",
       "      <td>1.26</td>\n",
       "      <td>high</td>\n",
       "      <td>low</td>\n",
       "      <td>high1</td>\n",
       "      <td>1</td>\n",
       "    </tr>\n",
       "    <tr>\n",
       "      <th>2</th>\n",
       "      <td>2751</td>\n",
       "      <td>2636478</td>\n",
       "      <td>1</td>\n",
       "      <td>2003-06-05</td>\n",
       "      <td>1991</td>\n",
       "      <td>Naked Gun 2 1/2: The Smell of Fear</td>\n",
       "      <td>2003</td>\n",
       "      <td>12</td>\n",
       "      <td>1.48</td>\n",
       "      <td>1.94</td>\n",
       "      <td>3.61</td>\n",
       "      <td>3.54</td>\n",
       "      <td>1.36</td>\n",
       "      <td>1.65</td>\n",
       "      <td>high</td>\n",
       "      <td>medium</td>\n",
       "      <td>high1</td>\n",
       "      <td>1</td>\n",
       "    </tr>\n",
       "    <tr>\n",
       "      <th>3</th>\n",
       "      <td>2235</td>\n",
       "      <td>1035650</td>\n",
       "      <td>1</td>\n",
       "      <td>2005-08-29</td>\n",
       "      <td>2004</td>\n",
       "      <td>Undertow</td>\n",
       "      <td>2005</td>\n",
       "      <td>1</td>\n",
       "      <td>1.29</td>\n",
       "      <td>1.61</td>\n",
       "      <td>3.30</td>\n",
       "      <td>2.65</td>\n",
       "      <td>1.12</td>\n",
       "      <td>1.17</td>\n",
       "      <td>high</td>\n",
       "      <td>low</td>\n",
       "      <td>high1</td>\n",
       "      <td>1</td>\n",
       "    </tr>\n",
       "    <tr>\n",
       "      <th>4</th>\n",
       "      <td>4262</td>\n",
       "      <td>380354</td>\n",
       "      <td>1</td>\n",
       "      <td>2004-07-22</td>\n",
       "      <td>1999</td>\n",
       "      <td>Sleepy Hollow</td>\n",
       "      <td>2004</td>\n",
       "      <td>5</td>\n",
       "      <td>1.44</td>\n",
       "      <td>1.55</td>\n",
       "      <td>3.30</td>\n",
       "      <td>3.68</td>\n",
       "      <td>2.01</td>\n",
       "      <td>1.34</td>\n",
       "      <td>high</td>\n",
       "      <td>medium-high</td>\n",
       "      <td>high1</td>\n",
       "      <td>1</td>\n",
       "    </tr>\n",
       "  </tbody>\n",
       "</table>\n",
       "</div>"
      ],
      "text/plain": [
       "   MovieID  CustomerID  Rating        Date  YearOfRelease  \\\n",
       "0     3659      164845       1  2005-02-20           1968   \n",
       "1     4008      507603       1  2005-08-27           2002   \n",
       "2     2751     2636478       1  2003-06-05           1991   \n",
       "3     2235     1035650       1  2005-08-29           2004   \n",
       "4     4262      380354       1  2004-07-22           1999   \n",
       "\n",
       "                           MovieTitle  RatingYear  MovieAge  user_activity  \\\n",
       "0  The Horse in the Gray Flannel Suit        2005        37           1.34   \n",
       "1              David Blaine: Fearless        2005         3           2.48   \n",
       "2  Naked Gun 2 1/2: The Smell of Fear        2003        12           1.48   \n",
       "3                            Undertow        2005         1           1.29   \n",
       "4                       Sleepy Hollow        2004         5           1.44   \n",
       "\n",
       "   AverageMovieAgeRated  user_average_rating  average_rating_per_movie  \\\n",
       "0                  1.64                 2.08                      3.60   \n",
       "1                  1.68                 1.26                      3.92   \n",
       "2                  1.94                 3.61                      3.54   \n",
       "3                  1.61                 3.30                      2.65   \n",
       "4                  1.55                 3.30                      3.68   \n",
       "\n",
       "   number_of_ratings_per_movie  scaled_movie_age UserActivityBin  \\\n",
       "0                         1.02              2.72            high   \n",
       "1                         1.02              1.26            high   \n",
       "2                         1.36              1.65            high   \n",
       "3                         1.12              1.17            high   \n",
       "4                         2.01              1.34            high   \n",
       "\n",
       "  ItemPopularityBin Strata  ChoosingMovie  \n",
       "0               low  high1              1  \n",
       "1               low  high1              1  \n",
       "2            medium  high1              1  \n",
       "3               low  high1              1  \n",
       "4       medium-high  high1              1  "
      ]
     },
     "execution_count": 44,
     "metadata": {},
     "output_type": "execute_result"
    }
   ],
   "source": [
    "# Add a new column for implicit feedback\n",
    "# here we concidered watching or not whatching a movie as implicit feedback\n",
    "strat_sample_df['ChoosingMovie'] = 1\n",
    "strat_sample_df.head()"
   ]
  },
  {
   "cell_type": "markdown",
   "metadata": {},
   "source": [
    "### 1. Defining and loading data in Surprise dataset"
   ]
  },
  {
   "cell_type": "code",
   "execution_count": 51,
   "metadata": {},
   "outputs": [],
   "source": [
    "# Defining data for implicit and explicit rating\n",
    "implicit_data = strat_sample_df[['CustomerID', 'MovieID', 'ChoosingMovie']]\n",
    "explicit_data = strat_sample_df[['CustomerID', 'MovieID', 'Rating']]\n",
    "\n",
    "# Rename columns to match Surprise library's requirements\n",
    "implicit_data.columns = ['userID', 'itemID', 'rating']\n",
    "explicit_data.columns = ['userID', 'itemID', 'rating']\n",
    "\n",
    "explicit_rating_scale = (1, 5)  # For explicit feedback,  ratings are between 1 and 5\n",
    "implicit_rating_scale = (0, 1)  # For implicit feedback,  binary (0 or 1) feedback\n",
    "\n",
    "# Create a custom reader\n",
    "reader = Reader(rating_scale=(0, 5))\n",
    "\n",
    "\n",
    "# Concatenate implicit and explicit data\n",
    "data = pd.concat([implicit_data, explicit_data])\n",
    "\n",
    "# Load the data into Surprise dataset\n",
    "data = Dataset.load_from_df(data, reader)\n"
   ]
  },
  {
   "cell_type": "markdown",
   "metadata": {},
   "source": [
    "### 2. Hyperparameter Tuning with Grid Search in Surprise Package same as SVD"
   ]
  },
  {
   "cell_type": "code",
   "execution_count": 52,
   "metadata": {},
   "outputs": [
    {
     "name": "stdout",
     "output_type": "stream",
     "text": [
      "Best rmse: 1.5131964310440733\n",
      "Best hyperparameters: {'n_epochs': 5, 'lr_all': 0.002, 'reg_all': 0.4, 'n_factors': 5}\n"
     ]
    }
   ],
   "source": [
    "from surprise import SVDpp\n",
    "# Define params for gread search\n",
    "\n",
    "# n_epochs: The total number of iterations over the entire dataset during the training process.\n",
    "# lr_all: The learning rate for all parameters, controlling the step size in the gradient descent optimization.\n",
    "# reg_all: The regularization term for all parameters, used to penalize larger parameter values to prevent overfitting.\n",
    "# n_factors: The number of latent factors to use, which represents the dimensionality of the user/item feature space.\n",
    "\n",
    "param_grid = {\"n_epochs\": [5, 10], \"lr_all\": [0.002, 0.005], \"reg_all\": [0.4, 0.6], \"n_factors\": [5 ,10 ,30 ,50, 100, 150]}\n",
    "\n",
    "# Create a GridSearchCV object\n",
    "grid_search = GridSearchCV(SVDpp, param_grid, measures=[\"rmse\", \"mae\"], cv=5)\n",
    "\n",
    "# Fit the GridSearchCV object\n",
    "grid_search.fit(data)\n",
    "\n",
    "# Get the best hyperparameters\n",
    "# best RMSE score\n",
    "print(\"Best rmse:\", grid_search.best_score[\"rmse\"])\n",
    "\n",
    "# combination of parameters that gave the best RMSE score\n",
    "print(\"Best hyperparameters:\", grid_search.best_params[\"rmse\"])"
   ]
  },
  {
   "cell_type": "markdown",
   "metadata": {},
   "source": [
    "### 3. Fitting the SVD++ model"
   ]
  },
  {
   "cell_type": "code",
   "execution_count": 53,
   "metadata": {},
   "outputs": [
    {
     "data": {
      "text/plain": [
       "<surprise.prediction_algorithms.matrix_factorization.SVDpp at 0x1c606df6590>"
      ]
     },
     "execution_count": 53,
     "metadata": {},
     "output_type": "execute_result"
    }
   ],
   "source": [
    "# fit the algorithm that yields the best rmse:\n",
    "algo_pp = grid_search.best_estimator[\"rmse\"]\n",
    "algo_pp.fit(data.build_full_trainset())"
   ]
  },
  {
   "cell_type": "markdown",
   "metadata": {},
   "source": [
    "### 4. Predict rating using SVD++ model and previous defined prediction function"
   ]
  },
  {
   "cell_type": "code",
   "execution_count": 70,
   "metadata": {},
   "outputs": [
    {
     "name": "stdout",
     "output_type": "stream",
     "text": [
      "Predicted rating: 2.299807099086215\n"
     ]
    }
   ],
   "source": [
    "# predict rating for one user as example\n",
    "user_id = '1'\n",
    "item_id = '1'\n",
    "predicted_rating = algo_pp.predict(user_id, item_id)\n",
    "print(\"Predicted rating:\", predicted_rating.est)"
   ]
  },
  {
   "cell_type": "markdown",
   "metadata": {},
   "source": [
    "### 5. Making movie recommendations with SVD++"
   ]
  },
  {
   "cell_type": "code",
   "execution_count": 71,
   "metadata": {},
   "outputs": [
    {
     "name": "stdout",
     "output_type": "stream",
     "text": [
      "Movie ID: 2452, Movie Title: Lord of the Rings: The Fellowship of the Ring, Predicted Rating: 2.6682179380875297\n",
      "Movie ID: 3962, Movie Title: Finding Nemo (Widescreen), Predicted Rating: 2.6619335528518615\n",
      "Movie ID: 4306, Movie Title: The Sixth Sense, Predicted Rating: 2.6205785383111353\n",
      "Movie ID: 3290, Movie Title: The Godfather  Part II, Predicted Rating: 2.6159148477378724\n",
      "Movie ID: 2782, Movie Title: Braveheart, Predicted Rating: 2.603256314982738\n",
      "Movie ID: 2942, Movie Title: Friends: Season 6, Predicted Rating: 2.596779186773781\n",
      "Movie ID: 1905, Movie Title: Pirates of the Caribbean: The Curse of the Black Pearl, Predicted Rating: 2.594323946857848\n",
      "Movie ID: 2862, Movie Title: The Silence of the Lambs, Predicted Rating: 2.5923590486685084\n",
      "Movie ID: 2102, Movie Title: The Simpsons: Season 6, Predicted Rating: 2.5903985322698597\n",
      "Movie ID: 1476, Movie Title: Six Feet Under: Season 4, Predicted Rating: 2.580848285638552\n"
     ]
    }
   ],
   "source": [
    "# Example usage:\n",
    "user_id = '10'\n",
    "top_n_recommendations = recommend_top_n_unseen_movies(user_id, algo_pp, strat_sample_df, n=10)\n",
    "for movie_id, movie_title, predicted_rating in top_n_recommendations:\n",
    "    print(f\"Movie ID: {movie_id}, Movie Title: {movie_title}, Predicted Rating: {predicted_rating}\")"
   ]
  }
 ],
 "metadata": {
  "kernelspec": {
   "display_name": "base",
   "language": "python",
   "name": "python3"
  },
  "language_info": {
   "codemirror_mode": {
    "name": "ipython",
    "version": 3
   },
   "file_extension": ".py",
   "mimetype": "text/x-python",
   "name": "python",
   "nbconvert_exporter": "python",
   "pygments_lexer": "ipython3",
   "version": "3.11.4"
  }
 },
 "nbformat": 4,
 "nbformat_minor": 2
}
