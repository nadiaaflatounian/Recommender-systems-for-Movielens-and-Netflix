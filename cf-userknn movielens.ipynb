{
 "cells": [
  {
   "cell_type": "code",
   "execution_count": 34,
   "metadata": {},
   "outputs": [
    {
     "data": {
      "text/html": [
       "<div>\n",
       "<style scoped>\n",
       "    .dataframe tbody tr th:only-of-type {\n",
       "        vertical-align: middle;\n",
       "    }\n",
       "\n",
       "    .dataframe tbody tr th {\n",
       "        vertical-align: top;\n",
       "    }\n",
       "\n",
       "    .dataframe thead th {\n",
       "        text-align: right;\n",
       "    }\n",
       "</style>\n",
       "<table border=\"1\" class=\"dataframe\">\n",
       "  <thead>\n",
       "    <tr style=\"text-align: right;\">\n",
       "      <th></th>\n",
       "      <th>userId</th>\n",
       "      <th>movieId</th>\n",
       "      <th>rating</th>\n",
       "      <th>timestamp</th>\n",
       "      <th>title</th>\n",
       "      <th>num_genres</th>\n",
       "      <th>(no genres listed)</th>\n",
       "      <th>Action</th>\n",
       "      <th>Adventure</th>\n",
       "      <th>Animation</th>\n",
       "      <th>...</th>\n",
       "      <th>Film-Noir</th>\n",
       "      <th>Horror</th>\n",
       "      <th>IMAX</th>\n",
       "      <th>Musical</th>\n",
       "      <th>Mystery</th>\n",
       "      <th>Romance</th>\n",
       "      <th>Sci-Fi</th>\n",
       "      <th>Thriller</th>\n",
       "      <th>War</th>\n",
       "      <th>Western</th>\n",
       "    </tr>\n",
       "  </thead>\n",
       "  <tbody>\n",
       "    <tr>\n",
       "      <th>0</th>\n",
       "      <td>1</td>\n",
       "      <td>1</td>\n",
       "      <td>4.0</td>\n",
       "      <td>2008-11-03 17:52:19</td>\n",
       "      <td>Toy Story (1995)</td>\n",
       "      <td>5</td>\n",
       "      <td>0</td>\n",
       "      <td>0</td>\n",
       "      <td>1</td>\n",
       "      <td>1</td>\n",
       "      <td>...</td>\n",
       "      <td>0</td>\n",
       "      <td>0</td>\n",
       "      <td>0</td>\n",
       "      <td>0</td>\n",
       "      <td>0</td>\n",
       "      <td>0</td>\n",
       "      <td>0</td>\n",
       "      <td>0</td>\n",
       "      <td>0</td>\n",
       "      <td>0</td>\n",
       "    </tr>\n",
       "    <tr>\n",
       "      <th>1</th>\n",
       "      <td>2</td>\n",
       "      <td>1</td>\n",
       "      <td>5.0</td>\n",
       "      <td>1996-06-26 19:06:11</td>\n",
       "      <td>Toy Story (1995)</td>\n",
       "      <td>5</td>\n",
       "      <td>0</td>\n",
       "      <td>0</td>\n",
       "      <td>1</td>\n",
       "      <td>1</td>\n",
       "      <td>...</td>\n",
       "      <td>0</td>\n",
       "      <td>0</td>\n",
       "      <td>0</td>\n",
       "      <td>0</td>\n",
       "      <td>0</td>\n",
       "      <td>0</td>\n",
       "      <td>0</td>\n",
       "      <td>0</td>\n",
       "      <td>0</td>\n",
       "      <td>0</td>\n",
       "    </tr>\n",
       "    <tr>\n",
       "      <th>2</th>\n",
       "      <td>7</td>\n",
       "      <td>1</td>\n",
       "      <td>4.0</td>\n",
       "      <td>2000-11-18 03:27:04</td>\n",
       "      <td>Toy Story (1995)</td>\n",
       "      <td>5</td>\n",
       "      <td>0</td>\n",
       "      <td>0</td>\n",
       "      <td>1</td>\n",
       "      <td>1</td>\n",
       "      <td>...</td>\n",
       "      <td>0</td>\n",
       "      <td>0</td>\n",
       "      <td>0</td>\n",
       "      <td>0</td>\n",
       "      <td>0</td>\n",
       "      <td>0</td>\n",
       "      <td>0</td>\n",
       "      <td>0</td>\n",
       "      <td>0</td>\n",
       "      <td>0</td>\n",
       "    </tr>\n",
       "    <tr>\n",
       "      <th>3</th>\n",
       "      <td>10</td>\n",
       "      <td>1</td>\n",
       "      <td>3.0</td>\n",
       "      <td>2015-05-03 15:19:54</td>\n",
       "      <td>Toy Story (1995)</td>\n",
       "      <td>5</td>\n",
       "      <td>0</td>\n",
       "      <td>0</td>\n",
       "      <td>1</td>\n",
       "      <td>1</td>\n",
       "      <td>...</td>\n",
       "      <td>0</td>\n",
       "      <td>0</td>\n",
       "      <td>0</td>\n",
       "      <td>0</td>\n",
       "      <td>0</td>\n",
       "      <td>0</td>\n",
       "      <td>0</td>\n",
       "      <td>0</td>\n",
       "      <td>0</td>\n",
       "      <td>0</td>\n",
       "    </tr>\n",
       "    <tr>\n",
       "      <th>4</th>\n",
       "      <td>12</td>\n",
       "      <td>1</td>\n",
       "      <td>5.0</td>\n",
       "      <td>1997-05-01 15:32:18</td>\n",
       "      <td>Toy Story (1995)</td>\n",
       "      <td>5</td>\n",
       "      <td>0</td>\n",
       "      <td>0</td>\n",
       "      <td>1</td>\n",
       "      <td>1</td>\n",
       "      <td>...</td>\n",
       "      <td>0</td>\n",
       "      <td>0</td>\n",
       "      <td>0</td>\n",
       "      <td>0</td>\n",
       "      <td>0</td>\n",
       "      <td>0</td>\n",
       "      <td>0</td>\n",
       "      <td>0</td>\n",
       "      <td>0</td>\n",
       "      <td>0</td>\n",
       "    </tr>\n",
       "  </tbody>\n",
       "</table>\n",
       "<p>5 rows × 26 columns</p>\n",
       "</div>"
      ],
      "text/plain": [
       "   userId  movieId  rating            timestamp             title  num_genres  \\\n",
       "0       1        1     4.0  2008-11-03 17:52:19  Toy Story (1995)           5   \n",
       "1       2        1     5.0  1996-06-26 19:06:11  Toy Story (1995)           5   \n",
       "2       7        1     4.0  2000-11-18 03:27:04  Toy Story (1995)           5   \n",
       "3      10        1     3.0  2015-05-03 15:19:54  Toy Story (1995)           5   \n",
       "4      12        1     5.0  1997-05-01 15:32:18  Toy Story (1995)           5   \n",
       "\n",
       "   (no genres listed)  Action  Adventure  Animation  ...  Film-Noir  Horror  \\\n",
       "0                   0       0          1          1  ...          0       0   \n",
       "1                   0       0          1          1  ...          0       0   \n",
       "2                   0       0          1          1  ...          0       0   \n",
       "3                   0       0          1          1  ...          0       0   \n",
       "4                   0       0          1          1  ...          0       0   \n",
       "\n",
       "   IMAX  Musical  Mystery  Romance  Sci-Fi  Thriller  War  Western  \n",
       "0     0        0        0        0       0         0    0        0  \n",
       "1     0        0        0        0       0         0    0        0  \n",
       "2     0        0        0        0       0         0    0        0  \n",
       "3     0        0        0        0       0         0    0        0  \n",
       "4     0        0        0        0       0         0    0        0  \n",
       "\n",
       "[5 rows x 26 columns]"
      ]
     },
     "execution_count": 34,
     "metadata": {},
     "output_type": "execute_result"
    }
   ],
   "source": [
    "import pandas as pd\n",
    "import numpy as np\n",
    "training_df = pd.read_csv(\"C:/Users/nafla/Downloads/movielens.csv\")\n",
    "training_df.head()"
   ]
  },
  {
   "cell_type": "code",
   "execution_count": 35,
   "metadata": {},
   "outputs": [],
   "source": [
    "training_df.rename(columns={'userId': 'CustomerID', 'movieId': 'MovieID', 'rating': 'Rating'}, inplace=True)"
   ]
  },
  {
   "cell_type": "code",
   "execution_count": 36,
   "metadata": {},
   "outputs": [],
   "source": [
    "training_df['CustomerID'] = training_df['CustomerID'].astype(str)\n",
    "training_df['MovieID'] = training_df['MovieID'].astype(str)\n",
    "training_df['Rating'] = pd.to_numeric(training_df['Rating'], errors='coerce')  # Converts to float, makes non-numeric as NaN"
   ]
  },
  {
   "cell_type": "code",
   "execution_count": 37,
   "metadata": {},
   "outputs": [
    {
     "name": "stdout",
     "output_type": "stream",
     "text": [
      "0.25    15.0\n",
      "0.50    32.0\n",
      "0.75    95.0\n",
      "Name: CustomerID, dtype: float64\n",
      "0.25    1.0\n",
      "0.50    2.0\n",
      "0.75    8.0\n",
      "Name: MovieID, dtype: float64\n"
     ]
    }
   ],
   "source": [
    "# Calculate quantiles for user activity and item popularity\n",
    "user_activity_quantiles = training_df['CustomerID'].value_counts().quantile([0.25, 0.5, 0.75])\n",
    "item_popularity_quantiles = training_df['MovieID'].value_counts().quantile([0.25, 0.5, 0.75])\n",
    "print(user_activity_quantiles)\n",
    "print(item_popularity_quantiles)"
   ]
  },
  {
   "cell_type": "code",
   "execution_count": 38,
   "metadata": {},
   "outputs": [
    {
     "name": "stdout",
     "output_type": "stream",
     "text": [
      "Number of rows in the sampled DataFrame: 125351\n"
     ]
    }
   ],
   "source": [
    "num_sampled_rows = len(training_df)\n",
    "print(f\"Number of rows in the sampled DataFrame: {num_sampled_rows}\")"
   ]
  },
  {
   "cell_type": "markdown",
   "metadata": {},
   "source": [
    "# Splitting dataset to training, test, validation"
   ]
  },
  {
   "cell_type": "code",
   "execution_count": 39,
   "metadata": {},
   "outputs": [],
   "source": [
    "from sklearn.model_selection import train_test_split\n",
    "\n",
    "# Split the remaining data into training, testing, and validation sets\n",
    "train, testing_data = train_test_split(training_df, test_size=0.2, random_state=42)\n",
    "training_data , validation_data = train_test_split(train, test_size=0.2, random_state=42)\n",
    "\n"
   ]
  },
  {
   "cell_type": "code",
   "execution_count": 40,
   "metadata": {},
   "outputs": [
    {
     "name": "stdout",
     "output_type": "stream",
     "text": [
      "Training Data Size: 80224\n",
      "Validation Data Size: 20056\n",
      "Testing Data Size: 25071\n"
     ]
    }
   ],
   "source": [
    "# Calculate the size of each split\n",
    "training_size = training_data.shape[0]  # Number of rows in the training data\n",
    "validation_size = validation_data.shape[0]  # Number of rows in the validation data\n",
    "testing_size = testing_data.shape[0]  # Number of rows in the testing data\n",
    "\n",
    "# Print the sizes\n",
    "print(f\"Training Data Size: {training_size}\")\n",
    "print(f\"Validation Data Size: {validation_size}\")\n",
    "print(f\"Testing Data Size: {testing_size}\")"
   ]
  },
  {
   "cell_type": "code",
   "execution_count": 41,
   "metadata": {},
   "outputs": [
    {
     "name": "stdout",
     "output_type": "stream",
     "text": [
      "Unique MovieIDs in Training Data: 9253\n",
      "Unique MovieIDs in Validation Data: 5041\n",
      "Unique MovieIDs in Testing Data: 5537\n"
     ]
    }
   ],
   "source": [
    "# Assuming final_training_data, validation_data, and testing_data are your data splits\n",
    "\n",
    "# Count unique MovieIDs in the final training data\n",
    "unique_movies_training = training_data['MovieID'].nunique()\n",
    "\n",
    "# Count unique MovieIDs in the validation data\n",
    "unique_movies_validation = validation_data['MovieID'].nunique()\n",
    "\n",
    "# Count unique MovieIDs in the testing data\n",
    "unique_movies_testing = testing_data['MovieID'].nunique()\n",
    "\n",
    "# Print the counts\n",
    "print(f\"Unique MovieIDs in Training Data: {unique_movies_training}\")\n",
    "print(f\"Unique MovieIDs in Validation Data: {unique_movies_validation}\")\n",
    "print(f\"Unique MovieIDs in Testing Data: {unique_movies_testing}\")\n"
   ]
  },
  {
   "cell_type": "markdown",
   "metadata": {},
   "source": [
    "# Creating User - Item matrix"
   ]
  },
  {
   "cell_type": "code",
   "execution_count": 42,
   "metadata": {},
   "outputs": [],
   "source": [
    "# Creating customer-movie matrix\n",
    "user_item_matrix = training_data.pivot_table(index='CustomerID', columns='MovieID', values='Rating').fillna(0)"
   ]
  },
  {
   "cell_type": "code",
   "execution_count": 43,
   "metadata": {},
   "outputs": [
    {
     "data": {
      "text/html": [
       "<div>\n",
       "<style scoped>\n",
       "    .dataframe tbody tr th:only-of-type {\n",
       "        vertical-align: middle;\n",
       "    }\n",
       "\n",
       "    .dataframe tbody tr th {\n",
       "        vertical-align: top;\n",
       "    }\n",
       "\n",
       "    .dataframe thead th {\n",
       "        text-align: right;\n",
       "    }\n",
       "</style>\n",
       "<table border=\"1\" class=\"dataframe\">\n",
       "  <thead>\n",
       "    <tr style=\"text-align: right;\">\n",
       "      <th>MovieID</th>\n",
       "      <th>1</th>\n",
       "      <th>10</th>\n",
       "      <th>100</th>\n",
       "      <th>1000</th>\n",
       "      <th>100008</th>\n",
       "      <th>100044</th>\n",
       "      <th>100058</th>\n",
       "      <th>100083</th>\n",
       "      <th>100087</th>\n",
       "      <th>100106</th>\n",
       "      <th>...</th>\n",
       "      <th>99764</th>\n",
       "      <th>99809</th>\n",
       "      <th>99843</th>\n",
       "      <th>999</th>\n",
       "      <th>99910</th>\n",
       "      <th>99912</th>\n",
       "      <th>99917</th>\n",
       "      <th>99957</th>\n",
       "      <th>99964</th>\n",
       "      <th>99986</th>\n",
       "    </tr>\n",
       "    <tr>\n",
       "      <th>CustomerID</th>\n",
       "      <th></th>\n",
       "      <th></th>\n",
       "      <th></th>\n",
       "      <th></th>\n",
       "      <th></th>\n",
       "      <th></th>\n",
       "      <th></th>\n",
       "      <th></th>\n",
       "      <th></th>\n",
       "      <th></th>\n",
       "      <th></th>\n",
       "      <th></th>\n",
       "      <th></th>\n",
       "      <th></th>\n",
       "      <th></th>\n",
       "      <th></th>\n",
       "      <th></th>\n",
       "      <th></th>\n",
       "      <th></th>\n",
       "      <th></th>\n",
       "      <th></th>\n",
       "    </tr>\n",
       "  </thead>\n",
       "  <tbody>\n",
       "    <tr>\n",
       "      <th>1</th>\n",
       "      <td>0.0</td>\n",
       "      <td>0.0</td>\n",
       "      <td>0.0</td>\n",
       "      <td>0.0</td>\n",
       "      <td>0.0</td>\n",
       "      <td>0.0</td>\n",
       "      <td>0.0</td>\n",
       "      <td>0.0</td>\n",
       "      <td>0.0</td>\n",
       "      <td>0.0</td>\n",
       "      <td>...</td>\n",
       "      <td>0.0</td>\n",
       "      <td>0.0</td>\n",
       "      <td>0.0</td>\n",
       "      <td>0.0</td>\n",
       "      <td>0.0</td>\n",
       "      <td>0.0</td>\n",
       "      <td>0.0</td>\n",
       "      <td>0.0</td>\n",
       "      <td>0.0</td>\n",
       "      <td>0.0</td>\n",
       "    </tr>\n",
       "    <tr>\n",
       "      <th>10</th>\n",
       "      <td>0.0</td>\n",
       "      <td>0.0</td>\n",
       "      <td>0.0</td>\n",
       "      <td>0.0</td>\n",
       "      <td>0.0</td>\n",
       "      <td>0.0</td>\n",
       "      <td>0.0</td>\n",
       "      <td>0.0</td>\n",
       "      <td>0.0</td>\n",
       "      <td>0.0</td>\n",
       "      <td>...</td>\n",
       "      <td>0.0</td>\n",
       "      <td>0.0</td>\n",
       "      <td>0.0</td>\n",
       "      <td>0.0</td>\n",
       "      <td>0.0</td>\n",
       "      <td>0.0</td>\n",
       "      <td>0.0</td>\n",
       "      <td>0.0</td>\n",
       "      <td>0.0</td>\n",
       "      <td>0.0</td>\n",
       "    </tr>\n",
       "    <tr>\n",
       "      <th>100</th>\n",
       "      <td>0.0</td>\n",
       "      <td>0.0</td>\n",
       "      <td>0.0</td>\n",
       "      <td>0.0</td>\n",
       "      <td>0.0</td>\n",
       "      <td>0.0</td>\n",
       "      <td>0.0</td>\n",
       "      <td>0.0</td>\n",
       "      <td>0.0</td>\n",
       "      <td>0.0</td>\n",
       "      <td>...</td>\n",
       "      <td>0.0</td>\n",
       "      <td>0.0</td>\n",
       "      <td>0.0</td>\n",
       "      <td>0.0</td>\n",
       "      <td>0.0</td>\n",
       "      <td>0.0</td>\n",
       "      <td>0.0</td>\n",
       "      <td>0.0</td>\n",
       "      <td>0.0</td>\n",
       "      <td>0.0</td>\n",
       "    </tr>\n",
       "    <tr>\n",
       "      <th>1000</th>\n",
       "      <td>3.5</td>\n",
       "      <td>0.0</td>\n",
       "      <td>0.0</td>\n",
       "      <td>0.0</td>\n",
       "      <td>0.0</td>\n",
       "      <td>0.0</td>\n",
       "      <td>0.0</td>\n",
       "      <td>0.0</td>\n",
       "      <td>0.0</td>\n",
       "      <td>0.0</td>\n",
       "      <td>...</td>\n",
       "      <td>0.0</td>\n",
       "      <td>0.0</td>\n",
       "      <td>0.0</td>\n",
       "      <td>0.0</td>\n",
       "      <td>0.0</td>\n",
       "      <td>0.0</td>\n",
       "      <td>0.0</td>\n",
       "      <td>0.0</td>\n",
       "      <td>0.0</td>\n",
       "      <td>0.0</td>\n",
       "    </tr>\n",
       "    <tr>\n",
       "      <th>1001</th>\n",
       "      <td>5.0</td>\n",
       "      <td>0.0</td>\n",
       "      <td>0.0</td>\n",
       "      <td>0.0</td>\n",
       "      <td>0.0</td>\n",
       "      <td>0.0</td>\n",
       "      <td>0.0</td>\n",
       "      <td>0.0</td>\n",
       "      <td>0.0</td>\n",
       "      <td>0.0</td>\n",
       "      <td>...</td>\n",
       "      <td>0.0</td>\n",
       "      <td>0.0</td>\n",
       "      <td>0.0</td>\n",
       "      <td>0.0</td>\n",
       "      <td>0.0</td>\n",
       "      <td>0.0</td>\n",
       "      <td>0.0</td>\n",
       "      <td>0.0</td>\n",
       "      <td>0.0</td>\n",
       "      <td>0.0</td>\n",
       "    </tr>\n",
       "  </tbody>\n",
       "</table>\n",
       "<p>5 rows × 9253 columns</p>\n",
       "</div>"
      ],
      "text/plain": [
       "MovieID       1   10  100  1000  100008  100044  100058  100083  100087  \\\n",
       "CustomerID                                                                \n",
       "1           0.0  0.0  0.0   0.0     0.0     0.0     0.0     0.0     0.0   \n",
       "10          0.0  0.0  0.0   0.0     0.0     0.0     0.0     0.0     0.0   \n",
       "100         0.0  0.0  0.0   0.0     0.0     0.0     0.0     0.0     0.0   \n",
       "1000        3.5  0.0  0.0   0.0     0.0     0.0     0.0     0.0     0.0   \n",
       "1001        5.0  0.0  0.0   0.0     0.0     0.0     0.0     0.0     0.0   \n",
       "\n",
       "MovieID     100106  ...  99764  99809  99843  999  99910  99912  99917  99957  \\\n",
       "CustomerID          ...                                                         \n",
       "1              0.0  ...    0.0    0.0    0.0  0.0    0.0    0.0    0.0    0.0   \n",
       "10             0.0  ...    0.0    0.0    0.0  0.0    0.0    0.0    0.0    0.0   \n",
       "100            0.0  ...    0.0    0.0    0.0  0.0    0.0    0.0    0.0    0.0   \n",
       "1000           0.0  ...    0.0    0.0    0.0  0.0    0.0    0.0    0.0    0.0   \n",
       "1001           0.0  ...    0.0    0.0    0.0  0.0    0.0    0.0    0.0    0.0   \n",
       "\n",
       "MovieID     99964  99986  \n",
       "CustomerID                \n",
       "1             0.0    0.0  \n",
       "10            0.0    0.0  \n",
       "100           0.0    0.0  \n",
       "1000          0.0    0.0  \n",
       "1001          0.0    0.0  \n",
       "\n",
       "[5 rows x 9253 columns]"
      ]
     },
     "execution_count": 43,
     "metadata": {},
     "output_type": "execute_result"
    }
   ],
   "source": [
    "user_item_matrix.head()"
   ]
  },
  {
   "cell_type": "markdown",
   "metadata": {},
   "source": [
    "# Define similarity functions "
   ]
  },
  {
   "cell_type": "code",
   "execution_count": 44,
   "metadata": {},
   "outputs": [],
   "source": [
    "from sklearn.metrics.pairwise import cosine_similarity\n",
    "import pandas as pd\n",
    "import numpy as np\n",
    "\n",
    "def calculate_cosine_similarity(user_item_matrix, target_user_ratings):\n",
    "    \"\"\"\n",
    "    Calculate cosine similarity scores between a target user's ratings and all other users.\n",
    "    \n",
    "    Parameters:\n",
    "    - user_item_matrix: DataFrame with users as rows, movies as columns, and ratings as values.\n",
    "    - target_user_ratings: Series containing the target user's ratings, indexed by MovieID.\n",
    "    \n",
    "    Returns:\n",
    "    A Series with user IDs as the index and the cosine similarity scores as the values.\n",
    "    \"\"\"\n",
    "    # Ensure target_user_ratings is a DataFrame row for compatibility with cosine_similarity\n",
    "    target_user_df = pd.DataFrame(target_user_ratings).T.fillna(0)\n",
    "    \n",
    "    # Align user_item_matrix with target_user_df to match columns (MovieIDs)\n",
    "    aligned_user_item_matrix = user_item_matrix.reindex(columns=target_user_df.columns, fill_value=0)\n",
    "    \n",
    "    # Calculate cosine similarities\n",
    "    similarities = cosine_similarity(aligned_user_item_matrix, target_user_df)\n",
    "    \n",
    "    # Flatten the similarities array and create a Series with user IDs as index\n",
    "    similarities_series = pd.Series(similarities.flatten(), index=aligned_user_item_matrix.index)\n",
    "    \n",
    "    return similarities_series\n",
    "\n"
   ]
  },
  {
   "cell_type": "code",
   "execution_count": 83,
   "metadata": {},
   "outputs": [],
   "source": [
    "\n",
    "from scipy.stats import pearsonr\n",
    "\n",
    "# defining function to calculate pearson correlation for pair of users\n",
    "def calculate_pearson_similarity(user_item_matrix, target_user_ratings):\n",
    "    \"\"\"\n",
    "    Calculate the Pearson correlation coefficient between a target user's ratings\n",
    "    and all other users' ratings in the user-item matrix.\n",
    "    \n",
    "    Parameters:\n",
    "    - user_item_matrix: DataFrame with users as rows, movies as columns, and ratings as values.\n",
    "    - target_user_ratings: Series containing the target user's ratings, indexed by MovieID.\n",
    "    \n",
    "    Returns:\n",
    "    - A Series with user IDs as the index and the Pearson correlation coefficients as the values.\n",
    "    \"\"\"\n",
    "    similarities = {}\n",
    "    \n",
    "    user_item_matrix_replaced = user_item_matrix.replace(0, np.nan)\n",
    "\n",
    "    # Loop through each user in the user-item matrix\n",
    "    for user_id, user_ratings in user_item_matrix_replaced.iterrows():\n",
    "        # Find common movies that both the target user and the current user have rated\n",
    "        common_movies = user_ratings.dropna().index.intersection(target_user_ratings.dropna().index)\n",
    "        \n",
    "        if len(common_movies) < 2:\n",
    "            # Assign a default similarity score of 0 for pairs with fewer than 2 common ratings assuming they don't have any similarity\n",
    "            similarities[user_id] = 0 \n",
    "            continue  # Skip further calculations for this pair\n",
    "        correlation, _ = pearsonr(user_ratings.loc[common_movies], target_user_ratings.loc[common_movies])\n",
    "        if np.isfinite(correlation):\n",
    "            similarities[user_id] = correlation\n",
    "\n",
    "    # Convert the similarities dictionary to a pandas Series\n",
    "    similarity_series = pd.Series(similarities, name='Similarity').sort_values(ascending=False)\n",
    "    \n",
    "    return similarity_series\n"
   ]
  },
  {
   "cell_type": "code",
   "execution_count": 47,
   "metadata": {},
   "outputs": [],
   "source": [
    "# defining function to calculate manhattan distance for ratings of each pair of users\n",
    "def calculate_manhattan_similarity(user_item_matrix, target_user_ratings):\n",
    "    \"\"\"\n",
    "    Calculate user similarities using Manhattan distance, comparing target user's ratings\n",
    "    with those in the user_item_matrix.\n",
    "    \n",
    "    Parameters:\n",
    "    - user_item_matrix: DataFrame where rows are users, columns are items, and values are ratings (training data).\n",
    "    - target_user_ratings: Series or dict containing the target user's movie ratings.\n",
    "    \n",
    "    Returns:\n",
    "    A Series with user IDs as the index and the similarity scores as the values.\n",
    "    \"\"\"\n",
    "    similarities = {}\n",
    "\n",
    "    for user_id in user_item_matrix.index:\n",
    "        user_ratings = user_item_matrix.loc[user_id]\n",
    "        \n",
    "        # Calculate distance only for movies both have rated\n",
    "        common_movies = user_ratings.index.intersection(target_user_ratings.index)\n",
    "        if not common_movies.empty:\n",
    "            distance = np.nansum(np.abs(user_ratings[common_movies] - target_user_ratings[common_movies]))\n",
    "            similarity = 1 / (1 + distance) if distance != 0 else 0\n",
    "        else:\n",
    "            similarity = 0  # No common movies means no similarity\n",
    "        \n",
    "        similarities[user_id] = similarity\n",
    "\n",
    "    similarity_series = pd.Series(similarities, name=\"Similarity\").sort_values(ascending=False)\n",
    "    return similarity_series\n",
    "\n",
    "\n"
   ]
  },
  {
   "cell_type": "markdown",
   "metadata": {},
   "source": [
    "# Predict ratings using similarities"
   ]
  },
  {
   "cell_type": "code",
   "execution_count": 86,
   "metadata": {},
   "outputs": [],
   "source": [
    "# defining a function to predict rating for each pair of user and movie based on their similarity\n",
    "def predict_rating(user_item_matrix, target_user_ratings, movie_id, k, similarity_method):\n",
    "\n",
    "    \"\"\"\n",
    "    Predict the rating for a given movie by a target user, based on the ratings of top-k similar users.\n",
    "    \n",
    "    Parameters:\n",
    "    - user_item_matrix: DataFrame with users as rows, movies as columns, and ratings as values.\n",
    "    - target_user_id: The ID of the user for whom the rating is being predicted.\n",
    "    - movie_id: The ID of the movie for which the rating is being predicted.\n",
    "    - k: Number of top similar users to consider for prediction.\n",
    "    - similarity_method: Function to calculate similarity scores between users.\n",
    "    \n",
    "    Returns:\n",
    "    - Predicted rating for the movie by the target user.\n",
    "    \"\"\"\n",
    "\n",
    "    \n",
    "    # Calculate similarity scores between the target user and all others\n",
    "    similarities = similarity_method(user_item_matrix, target_user_ratings)\n",
    "    \n",
    "   # Filter users who have rated the movie\n",
    "    users_who_rated_movie = user_item_matrix.index[user_item_matrix[movie_id].notnull()]\n",
    "    users_with_similarity_scores = similarities.index.intersection(users_who_rated_movie)\n",
    "\n",
    "    # Retain similarity scores for users who have rated the movie\n",
    "    similarities_filtered = similarities.loc[users_with_similarity_scores]\n",
    "    \n",
    "    # Filter top-k similar users from those who have rated the movie\n",
    "    top_k_users = similarities_filtered.nlargest(k).index\n",
    "    \n",
    "    # Retrieve ratings for the movie from these top-k similar users\n",
    "    top_k_ratings = user_item_matrix.loc[top_k_users, movie_id]\n",
    "    \n",
    " # Calculate weighted average rating\n",
    "    if not top_k_ratings.isnull().all():\n",
    "        weighted_ratings = top_k_ratings * similarities.loc[top_k_users]\n",
    "        predicted_rating = weighted_ratings.sum() / similarities.loc[top_k_users].sum()\n",
    "    else:\n",
    "        # Use the average rating for the movie if available\n",
    "        if user_item_matrix[movie_id].notnull().any():\n",
    "            predicted_rating = user_item_matrix[movie_id].mean()\n",
    "        else:\n",
    "            # Default rating if the movie has not been rated by anyone\n",
    "            predicted_rating = 2.5\n",
    "            \n",
    "    return predicted_rating\n",
    "\n",
    "\n"
   ]
  },
  {
   "cell_type": "code",
   "execution_count": 61,
   "metadata": {},
   "outputs": [],
   "source": [
    "from sklearn.metrics import mean_squared_error\n",
    "from math import sqrt\n",
    "\n",
    "# defining a function to evaluate accuracy of prediced ratings for each pair of user and movie\n",
    "def evaluate_predictions(validation_data, user_item_matrix, k, similarity_method):\n",
    "    \"\"\"\n",
    "    Evaluate the recommendation system by predicting ratings for each user-movie pair in the validation set\n",
    "    and comparing the predictions to the actual ratings using RMSE.\n",
    "    \n",
    "    Parameters:\n",
    "    - validation_data: DataFrame containing 'CustomerID', 'MovieID', and 'Rating'.\n",
    "    - user_item_matrix: DataFrame representing the user-item matrix from the training set.\n",
    "    - k: The number of top similar users to consider when making predictions.\n",
    "    - similarity_method: The function to calculate similarity scores between users.\n",
    "    \n",
    "    Returns:\n",
    "    - rmse: The root mean square error of the predicted ratings against the actual ratings.\n",
    "    - movie_evaluated_count: The number of unique movies for which predictions were made.\n",
    "    \"\"\"\n",
    "    actual_ratings = []\n",
    "    predicted_ratings = []\n",
    "\n",
    "    user_ratings_map = validation_data.groupby('CustomerID').apply(lambda x: x.set_index('MovieID')['Rating'])\n",
    "\n",
    "    # Iterate over each row in the validation data\n",
    "    # Inside evaluate_predictions, before calling predict_rating:\n",
    "    for _, row in validation_data.iterrows():\n",
    "        user_id = row['CustomerID']\n",
    "        movie_id = row['MovieID']\n",
    "        actual_rating = row['Rating']\n",
    "    \n",
    "    # Prepare target_user_ratings as a Series\n",
    "    # This assumes you have a way to extract all ratings for user_id from validation_data\n",
    "    # Here's a placeholder for how you might do this, replace with your actual logic\n",
    "        target_user_ratings = user_ratings_map.get(user_id, pd.Series(dtype='float64'))\n",
    "\n",
    "    # Now call predict_rating with target_user_ratings instead of target_user_id\n",
    "    if movie_id in user_item_matrix.columns and not target_user_ratings.empty:  # Check if movie exists in training data\n",
    "        predicted_rating = predict_rating(user_item_matrix, target_user_ratings, movie_id, k, similarity_method)\n",
    "        actual_ratings.append(actual_rating)\n",
    "        predicted_ratings.append(predicted_rating)\n",
    "        \n",
    "    \n",
    "    # Calculate RMSE between actual and predicted ratings\n",
    "    rmse = sqrt(mean_squared_error(actual_ratings, predicted_ratings))\n",
    "    \n",
    "    return rmse\n",
    "\n",
    "\n"
   ]
  },
  {
   "cell_type": "code",
   "execution_count": 93,
   "metadata": {},
   "outputs": [
    {
     "name": "stderr",
     "output_type": "stream",
     "text": [
      "c:\\Users\\nafla\\anaconda3\\Lib\\site-packages\\scipy\\stats\\_stats_py.py:4424: ConstantInputWarning: An input array is constant; the correlation coefficient is not defined.\n",
      "  warnings.warn(stats.ConstantInputWarning(msg))\n"
     ]
    },
    {
     "name": "stdout",
     "output_type": "stream",
     "text": [
      "Evaluated pearson method with k=5: RMSE = 1.0\n",
      "Evaluated cosine method with k=5: RMSE = 0.266099347709436\n",
      "Evaluated manhattan method with k=5: RMSE = 0.31744765154224996\n"
     ]
    },
    {
     "name": "stderr",
     "output_type": "stream",
     "text": [
      "c:\\Users\\nafla\\anaconda3\\Lib\\site-packages\\scipy\\stats\\_stats_py.py:4424: ConstantInputWarning: An input array is constant; the correlation coefficient is not defined.\n",
      "  warnings.warn(stats.ConstantInputWarning(msg))\n"
     ]
    },
    {
     "name": "stdout",
     "output_type": "stream",
     "text": [
      "Evaluated pearson method with k=25: RMSE = 0.88\n",
      "Evaluated cosine method with k=25: RMSE = 0.2544680613344197\n",
      "Evaluated manhattan method with k=25: RMSE = 0.12164465837838923\n"
     ]
    },
    {
     "name": "stderr",
     "output_type": "stream",
     "text": [
      "c:\\Users\\nafla\\anaconda3\\Lib\\site-packages\\scipy\\stats\\_stats_py.py:4424: ConstantInputWarning: An input array is constant; the correlation coefficient is not defined.\n",
      "  warnings.warn(stats.ConstantInputWarning(msg))\n"
     ]
    },
    {
     "name": "stdout",
     "output_type": "stream",
     "text": [
      "Evaluated pearson method with k=45: RMSE = 0.6545487200724738\n",
      "Evaluated cosine method with k=45: RMSE = 0.32094258461903447\n",
      "Evaluated manhattan method with k=45: RMSE = 0.25736731649934164\n"
     ]
    },
    {
     "name": "stderr",
     "output_type": "stream",
     "text": [
      "c:\\Users\\nafla\\anaconda3\\Lib\\site-packages\\scipy\\stats\\_stats_py.py:4424: ConstantInputWarning: An input array is constant; the correlation coefficient is not defined.\n",
      "  warnings.warn(stats.ConstantInputWarning(msg))\n"
     ]
    },
    {
     "name": "stdout",
     "output_type": "stream",
     "text": [
      "Evaluated pearson method with k=65: RMSE = 0.552106540411931\n",
      "Evaluated cosine method with k=65: RMSE = 0.37231580317879254\n",
      "Evaluated manhattan method with k=65: RMSE = 0.3468774527642984\n"
     ]
    },
    {
     "name": "stderr",
     "output_type": "stream",
     "text": [
      "c:\\Users\\nafla\\anaconda3\\Lib\\site-packages\\scipy\\stats\\_stats_py.py:4424: ConstantInputWarning: An input array is constant; the correlation coefficient is not defined.\n",
      "  warnings.warn(stats.ConstantInputWarning(msg))\n"
     ]
    },
    {
     "name": "stdout",
     "output_type": "stream",
     "text": [
      "Evaluated pearson method with k=85: RMSE = 0.5453080590675472\n",
      "Evaluated cosine method with k=85: RMSE = 0.3237758367520186\n",
      "Evaluated manhattan method with k=85: RMSE = 0.40117386998915083\n"
     ]
    },
    {
     "name": "stderr",
     "output_type": "stream",
     "text": [
      "c:\\Users\\nafla\\anaconda3\\Lib\\site-packages\\scipy\\stats\\_stats_py.py:4424: ConstantInputWarning: An input array is constant; the correlation coefficient is not defined.\n",
      "  warnings.warn(stats.ConstantInputWarning(msg))\n"
     ]
    },
    {
     "name": "stdout",
     "output_type": "stream",
     "text": [
      "Evaluated pearson method with k=105: RMSE = 0.533404753725965\n",
      "Evaluated cosine method with k=105: RMSE = 0.3684959649591414\n",
      "Evaluated manhattan method with k=105: RMSE = 0.440401559041222\n"
     ]
    },
    {
     "name": "stderr",
     "output_type": "stream",
     "text": [
      "c:\\Users\\nafla\\anaconda3\\Lib\\site-packages\\scipy\\stats\\_stats_py.py:4424: ConstantInputWarning: An input array is constant; the correlation coefficient is not defined.\n",
      "  warnings.warn(stats.ConstantInputWarning(msg))\n"
     ]
    },
    {
     "name": "stdout",
     "output_type": "stream",
     "text": [
      "Evaluated pearson method with k=125: RMSE = 0.5314169890829787\n",
      "Evaluated cosine method with k=125: RMSE = 0.4418894199833283\n",
      "Evaluated manhattan method with k=125: RMSE = 0.4673793960297603\n"
     ]
    },
    {
     "name": "stderr",
     "output_type": "stream",
     "text": [
      "c:\\Users\\nafla\\anaconda3\\Lib\\site-packages\\scipy\\stats\\_stats_py.py:4424: ConstantInputWarning: An input array is constant; the correlation coefficient is not defined.\n",
      "  warnings.warn(stats.ConstantInputWarning(msg))\n"
     ]
    },
    {
     "name": "stdout",
     "output_type": "stream",
     "text": [
      "Evaluated pearson method with k=145: RMSE = 0.5314169890829785\n",
      "Evaluated cosine method with k=145: RMSE = 0.4760509381998136\n",
      "Evaluated manhattan method with k=145: RMSE = 0.4839459392009612\n"
     ]
    },
    {
     "name": "stderr",
     "output_type": "stream",
     "text": [
      "c:\\Users\\nafla\\anaconda3\\Lib\\site-packages\\scipy\\stats\\_stats_py.py:4424: ConstantInputWarning: An input array is constant; the correlation coefficient is not defined.\n",
      "  warnings.warn(stats.ConstantInputWarning(msg))\n"
     ]
    },
    {
     "name": "stdout",
     "output_type": "stream",
     "text": [
      "Evaluated pearson method with k=165: RMSE = 0.5314169890829787\n",
      "Evaluated cosine method with k=165: RMSE = 0.50921925757295\n",
      "Evaluated manhattan method with k=165: RMSE = 0.5298544943566895\n"
     ]
    },
    {
     "name": "stderr",
     "output_type": "stream",
     "text": [
      "c:\\Users\\nafla\\anaconda3\\Lib\\site-packages\\scipy\\stats\\_stats_py.py:4424: ConstantInputWarning: An input array is constant; the correlation coefficient is not defined.\n",
      "  warnings.warn(stats.ConstantInputWarning(msg))\n"
     ]
    },
    {
     "name": "stdout",
     "output_type": "stream",
     "text": [
      "Evaluated pearson method with k=185: RMSE = 0.5314169890829787\n",
      "Evaluated cosine method with k=185: RMSE = 0.5491536480733257\n",
      "Evaluated manhattan method with k=185: RMSE = 0.5760755542844112\n"
     ]
    },
    {
     "name": "stderr",
     "output_type": "stream",
     "text": [
      "c:\\Users\\nafla\\anaconda3\\Lib\\site-packages\\scipy\\stats\\_stats_py.py:4424: ConstantInputWarning: An input array is constant; the correlation coefficient is not defined.\n",
      "  warnings.warn(stats.ConstantInputWarning(msg))\n"
     ]
    },
    {
     "name": "stdout",
     "output_type": "stream",
     "text": [
      "Evaluated pearson method with k=205: RMSE = 0.5314169890829786\n",
      "Evaluated cosine method with k=205: RMSE = 0.5753234027541527\n",
      "Evaluated manhattan method with k=205: RMSE = 0.613823953169499\n"
     ]
    },
    {
     "name": "stderr",
     "output_type": "stream",
     "text": [
      "c:\\Users\\nafla\\anaconda3\\Lib\\site-packages\\scipy\\stats\\_stats_py.py:4424: ConstantInputWarning: An input array is constant; the correlation coefficient is not defined.\n",
      "  warnings.warn(stats.ConstantInputWarning(msg))\n"
     ]
    },
    {
     "name": "stdout",
     "output_type": "stream",
     "text": [
      "Evaluated pearson method with k=225: RMSE = 0.5314169890829787\n",
      "Evaluated cosine method with k=225: RMSE = 0.6040526089176543\n",
      "Evaluated manhattan method with k=225: RMSE = 0.6450854972192552\n"
     ]
    },
    {
     "name": "stderr",
     "output_type": "stream",
     "text": [
      "c:\\Users\\nafla\\anaconda3\\Lib\\site-packages\\scipy\\stats\\_stats_py.py:4424: ConstantInputWarning: An input array is constant; the correlation coefficient is not defined.\n",
      "  warnings.warn(stats.ConstantInputWarning(msg))\n"
     ]
    },
    {
     "name": "stdout",
     "output_type": "stream",
     "text": [
      "Evaluated pearson method with k=245: RMSE = 0.5314169890829787\n",
      "Evaluated cosine method with k=245: RMSE = 0.6185319004984662\n",
      "Evaluated manhattan method with k=245: RMSE = 0.6715049703881482\n"
     ]
    },
    {
     "name": "stderr",
     "output_type": "stream",
     "text": [
      "c:\\Users\\nafla\\anaconda3\\Lib\\site-packages\\scipy\\stats\\_stats_py.py:4424: ConstantInputWarning: An input array is constant; the correlation coefficient is not defined.\n",
      "  warnings.warn(stats.ConstantInputWarning(msg))\n"
     ]
    },
    {
     "name": "stdout",
     "output_type": "stream",
     "text": [
      "Evaluated pearson method with k=265: RMSE = 0.5314169890829787\n",
      "Evaluated cosine method with k=265: RMSE = 0.6387312402118386\n",
      "Evaluated manhattan method with k=265: RMSE = 0.6700150690837794\n"
     ]
    },
    {
     "name": "stderr",
     "output_type": "stream",
     "text": [
      "c:\\Users\\nafla\\anaconda3\\Lib\\site-packages\\scipy\\stats\\_stats_py.py:4424: ConstantInputWarning: An input array is constant; the correlation coefficient is not defined.\n",
      "  warnings.warn(stats.ConstantInputWarning(msg))\n"
     ]
    },
    {
     "name": "stdout",
     "output_type": "stream",
     "text": [
      "Evaluated pearson method with k=285: RMSE = 0.5314169890829785\n",
      "Evaluated cosine method with k=285: RMSE = 0.639106138861109\n",
      "Evaluated manhattan method with k=285: RMSE = 0.6911994795260131\n",
      "Best Configuration: Method = manhattan, k = 25, RMSE = 0.12164465837838923\n"
     ]
    }
   ],
   "source": [
    "\n",
    "# Define a dictionary to hold your similarity methods for easy access\n",
    "similarity_methods = {\n",
    "    'pearson': calculate_pearson_similarity,\n",
    "    'cosine': calculate_cosine_similarity,\n",
    "    'manhattan': calculate_manhattan_similarity  \n",
    "}\n",
    "\n",
    "# Define the range of k values you want to test\n",
    "k_values = range(5, 300, 20)\n",
    "\n",
    "# Placeholder for storing grid search results\n",
    "grid_search_results = []\n",
    "\n",
    "# Perform grid search\n",
    "for k in k_values:\n",
    "    for method_name, method_function in similarity_methods.items():\n",
    "        # Evaluate the recommender system's performance for each combination of k and similarity method\n",
    "        rmse = evaluate_predictions(validation_data, user_item_matrix, k, method_function)\n",
    "        \n",
    "        # Store the results\n",
    "        grid_search_results.append({'method': method_name, 'k': k, 'rmse': rmse})\n",
    "        \n",
    "        # Optionally print the results for each iteration\n",
    "        print(f\"Evaluated {method_name} method with k={k}: RMSE = {rmse}\")\n",
    "\n",
    "# Find the best performing combination of k and similarity method based on RMSE\n",
    "best_configuration = min(grid_search_results, key=lambda x: x['rmse'])\n",
    "\n",
    "# Output the best combination found\n",
    "print(f\"Best Configuration: Method = {best_configuration['method']}, k = {best_configuration['k']}, RMSE = {best_configuration['rmse']}\")\n"
   ]
  }
 ],
 "metadata": {
  "kernelspec": {
   "display_name": "base",
   "language": "python",
   "name": "python3"
  },
  "language_info": {
   "codemirror_mode": {
    "name": "ipython",
    "version": 3
   },
   "file_extension": ".py",
   "mimetype": "text/x-python",
   "name": "python",
   "nbconvert_exporter": "python",
   "pygments_lexer": "ipython3",
   "version": "3.11.4"
  }
 },
 "nbformat": 4,
 "nbformat_minor": 2
}
