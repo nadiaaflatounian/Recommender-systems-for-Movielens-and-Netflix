{
 "cells": [
  {
   "cell_type": "code",
   "execution_count": 6,
   "metadata": {},
   "outputs": [
    {
     "data": {
      "text/html": [
       "<div>\n",
       "<style scoped>\n",
       "    .dataframe tbody tr th:only-of-type {\n",
       "        vertical-align: middle;\n",
       "    }\n",
       "\n",
       "    .dataframe tbody tr th {\n",
       "        vertical-align: top;\n",
       "    }\n",
       "\n",
       "    .dataframe thead th {\n",
       "        text-align: right;\n",
       "    }\n",
       "</style>\n",
       "<table border=\"1\" class=\"dataframe\">\n",
       "  <thead>\n",
       "    <tr style=\"text-align: right;\">\n",
       "      <th></th>\n",
       "      <th>MovieID</th>\n",
       "      <th>CustomerID</th>\n",
       "      <th>Rating</th>\n",
       "      <th>Date</th>\n",
       "      <th>YearOfRelease</th>\n",
       "      <th>RatingYear</th>\n",
       "      <th>MovieAge</th>\n",
       "    </tr>\n",
       "  </thead>\n",
       "  <tbody>\n",
       "    <tr>\n",
       "      <th>0</th>\n",
       "      <td>1</td>\n",
       "      <td>1488844</td>\n",
       "      <td>3</td>\n",
       "      <td>2005-09-06</td>\n",
       "      <td>2003</td>\n",
       "      <td>2005</td>\n",
       "      <td>2</td>\n",
       "    </tr>\n",
       "    <tr>\n",
       "      <th>1</th>\n",
       "      <td>1</td>\n",
       "      <td>822109</td>\n",
       "      <td>5</td>\n",
       "      <td>2005-05-13</td>\n",
       "      <td>2003</td>\n",
       "      <td>2005</td>\n",
       "      <td>2</td>\n",
       "    </tr>\n",
       "    <tr>\n",
       "      <th>2</th>\n",
       "      <td>1</td>\n",
       "      <td>885013</td>\n",
       "      <td>4</td>\n",
       "      <td>2005-10-19</td>\n",
       "      <td>2003</td>\n",
       "      <td>2005</td>\n",
       "      <td>2</td>\n",
       "    </tr>\n",
       "    <tr>\n",
       "      <th>3</th>\n",
       "      <td>1</td>\n",
       "      <td>30878</td>\n",
       "      <td>4</td>\n",
       "      <td>2005-12-26</td>\n",
       "      <td>2003</td>\n",
       "      <td>2005</td>\n",
       "      <td>2</td>\n",
       "    </tr>\n",
       "    <tr>\n",
       "      <th>4</th>\n",
       "      <td>1</td>\n",
       "      <td>823519</td>\n",
       "      <td>3</td>\n",
       "      <td>2004-05-03</td>\n",
       "      <td>2003</td>\n",
       "      <td>2004</td>\n",
       "      <td>1</td>\n",
       "    </tr>\n",
       "  </tbody>\n",
       "</table>\n",
       "</div>"
      ],
      "text/plain": [
       "   MovieID  CustomerID  Rating        Date  YearOfRelease  RatingYear  \\\n",
       "0        1     1488844       3  2005-09-06           2003        2005   \n",
       "1        1      822109       5  2005-05-13           2003        2005   \n",
       "2        1      885013       4  2005-10-19           2003        2005   \n",
       "3        1       30878       4  2005-12-26           2003        2005   \n",
       "4        1      823519       3  2004-05-03           2003        2004   \n",
       "\n",
       "   MovieAge  \n",
       "0         2  \n",
       "1         2  \n",
       "2         2  \n",
       "3         2  \n",
       "4         1  "
      ]
     },
     "execution_count": 6,
     "metadata": {},
     "output_type": "execute_result"
    }
   ],
   "source": [
    "import pandas as pd\n",
    "import numpy as np\n",
    "training_df = pd.read_csv('C:/Users/nafla/OneDrive/Documents/system development/Netflix/training_data.csv')\n",
    "training_df.head()"
   ]
  },
  {
   "cell_type": "code",
   "execution_count": 7,
   "metadata": {},
   "outputs": [],
   "source": [
    "training_df['CustomerID'] = training_df['CustomerID'].astype('int32')\n",
    "training_df['MovieID'] = training_df['MovieID'].astype('int16')\n",
    "training_df['Rating'] = training_df['Rating'].astype('float32')"
   ]
  },
  {
   "cell_type": "code",
   "execution_count": 8,
   "metadata": {},
   "outputs": [],
   "source": [
    "# Stratified sampling to maintain the distribution of ratings\n",
    "# First, group by 'Rating', then sample a fraction from each group\n",
    "\n",
    "# Define the fraction of each group to sample\n",
    "frac = 0.1\n",
    "\n",
    "# Perform the stratified sampling\n",
    "strat_sample_df = training_df.groupby('Rating', group_keys=False).apply(lambda x: x.sample(frac=frac, random_state=42))\n",
    "\n"
   ]
  },
  {
   "cell_type": "markdown",
   "metadata": {},
   "source": [
    "Scipy Sparse Matrix Convert the DataFrame to a sparse matrix format using scipy, which is much more memory-efficient for sparse data."
   ]
  },
  {
   "cell_type": "code",
   "execution_count": 10,
   "metadata": {},
   "outputs": [],
   "source": [
    "from scipy.sparse import csr_matrix\n",
    "\n",
    "# Create a sparse matrix\n",
    "user_item_matrix_sparse = csr_matrix((strat_sample_df['Rating'], (strat_sample_df['CustomerID'], strat_sample_df['MovieID'])))\n",
    "\n"
   ]
  },
  {
   "cell_type": "markdown",
   "metadata": {},
   "source": [
    "Calculate User Similarities\n",
    "we Used manhattan similarity from cityblock to calculate similarities between all pairs of users. Since manhattan similarity requires no missing values, fill missing ratings with 0s (implying an \"unknown\" rather than a \"bad\" rating)."
   ]
  },
  {
   "cell_type": "code",
   "execution_count": 13,
   "metadata": {},
   "outputs": [],
   "source": [
    "from scipy.spatial.distance import cityblock\n",
    "\n",
    "def manhattan_similarity(user1_ratings, user2_ratings):\n",
    "    common = user1_ratings.index.intersection(user2_ratings.index)\n",
    "    if len(common) == 0:\n",
    "        return 0\n",
    "    # Inverse distance for similarity\n",
    "    return 1 / (1 + cityblock(user1_ratings[common], user2_ratings[common]))\n"
   ]
  },
  {
   "cell_type": "code",
   "execution_count": 14,
   "metadata": {},
   "outputs": [],
   "source": [
    "# find the k nearest neighbors for a given user who have rated a specific item:\n",
    "\n",
    "def find_k_nearest_neighbors(user_id, item_id, k, user_item_matrix, similarity_matrix):\n",
    "    # Indices of users who have rated the item\n",
    "    users_who_rated_item = np.where(user_item_matrix[:, item_id].toarray().ravel() > 0)[0]\n",
    "    \n",
    "    # Similarities between the target user and users who rated the item\n",
    "    similarities = similarity_matrix[user_id, users_who_rated_item]\n",
    "    \n",
    "    # Get the indices of the top k similar users\n",
    "    k_nearest_neighbors_indices = np.argsort(similarities)[-k:]\n",
    "    \n",
    "    # Return the actual user IDs and their similarities\n",
    "    return users_who_rated_item[k_nearest_neighbors_indices], similarities[k_nearest_neighbors_indices]\n"
   ]
  },
  {
   "cell_type": "code",
   "execution_count": 15,
   "metadata": {},
   "outputs": [],
   "source": [
    "# Predict the rating for the target item by taking the weighted average of the ratings from these neighbors\n",
    "\n",
    "def predict_rating(user_id, item_id, k, user_item_matrix, similarity_matrix):\n",
    "    neighbors_indices, similarities = find_k_nearest_neighbors(user_id, item_id, k, user_item_matrix, similarity_matrix)\n",
    "    \n",
    "    # Ratings from neighbors for the item\n",
    "    neighbor_ratings = user_item_matrix[neighbors_indices, item_id].toarray().ravel()\n",
    "    \n",
    "    # Compute weighted average\n",
    "    if similarities.sum() > 0:\n",
    "        predicted_rating = np.dot(neighbor_ratings, similarities) / similarities.sum()\n",
    "    else:\n",
    "        predicted_rating = np.mean(user_item_matrix[:, item_id].toarray()[user_item_matrix[:, item_id].toarray().ravel() > 0])  # Fallback to mean item rating if no similarities\n",
    "    \n",
    "    return predicted_rating\n"
   ]
  }
 ],
 "metadata": {
  "kernelspec": {
   "display_name": "base",
   "language": "python",
   "name": "python3"
  },
  "language_info": {
   "codemirror_mode": {
    "name": "ipython",
    "version": 3
   },
   "file_extension": ".py",
   "mimetype": "text/x-python",
   "name": "python",
   "nbconvert_exporter": "python",
   "pygments_lexer": "ipython3",
   "version": "3.11.4"
  }
 },
 "nbformat": 4,
 "nbformat_minor": 2
}
