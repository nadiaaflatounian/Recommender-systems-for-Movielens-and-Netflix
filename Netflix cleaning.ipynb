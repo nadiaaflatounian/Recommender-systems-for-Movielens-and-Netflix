{
 "cells": [
  {
   "cell_type": "markdown",
   "metadata": {},
   "source": [
    "# Movie Ratings Dataset\n",
    "This Python script process and convert the Netflix prize dataset's combined_data_1.txt file into a structured pandas DataFrame. The dataset is structured such that each section starts with a movie ID followed by a colon, and subsequent lines provide customer ratings for that movie, including the customer ID, the rating given, and the rating date.\n",
    "\n",
    "The script defines a function read_netflix_ratings, which reads the dataset line by line. It distinguishes between lines that represent movie IDs and those that represent user ratings.\n",
    "\n",
    "MovieID, customer ID, rating and the rating date are compiled into a list which is then transformed into a DataFrame with columns for the movie ID, customer ID, rating, and date."
   ]
  },
  {
   "cell_type": "code",
   "execution_count": 1,
   "metadata": {},
   "outputs": [],
   "source": [
    "import pandas as pd\n",
    "\n",
    "# Function to process the combined_data_1 file\n",
    "def read_netflix_ratings(file_path):\n",
    "    data = []  # List to store each rating as a list\n",
    "    current_movie_id = None  # Variable to keep track of the current movie ID\n",
    "    with open(file_path, 'r') as file:\n",
    "        for line in file:\n",
    "            if line.endswith(':\\n'):  # This line is a movie ID\n",
    "                current_movie_id = line[:-2]  # Remove the colon and newline to get the ID\n",
    "            else:  # This line is a rating\n",
    "                customer_id, rating, date = line.strip().split(',')\n",
    "                data.append([current_movie_id, customer_id, rating, date])\n",
    "    return pd.DataFrame(data, columns=['MovieID', 'CustomerID', 'Rating', 'Date'])\n",
    "\n",
    "# Path to the combined_data_1 file\n",
    "ratings_file_path = 'C:/Users/nafla/OneDrive/Documents/system development/Netflix/combined_data_1.txt'\n",
    "ratings_df = read_netflix_ratings(ratings_file_path)\n"
   ]
  },
  {
   "cell_type": "code",
   "execution_count": 2,
   "metadata": {},
   "outputs": [
    {
     "data": {
      "text/html": [
       "<div>\n",
       "<style scoped>\n",
       "    .dataframe tbody tr th:only-of-type {\n",
       "        vertical-align: middle;\n",
       "    }\n",
       "\n",
       "    .dataframe tbody tr th {\n",
       "        vertical-align: top;\n",
       "    }\n",
       "\n",
       "    .dataframe thead th {\n",
       "        text-align: right;\n",
       "    }\n",
       "</style>\n",
       "<table border=\"1\" class=\"dataframe\">\n",
       "  <thead>\n",
       "    <tr style=\"text-align: right;\">\n",
       "      <th></th>\n",
       "      <th>MovieID</th>\n",
       "      <th>CustomerID</th>\n",
       "      <th>Rating</th>\n",
       "      <th>Date</th>\n",
       "    </tr>\n",
       "  </thead>\n",
       "  <tbody>\n",
       "    <tr>\n",
       "      <th>0</th>\n",
       "      <td>1</td>\n",
       "      <td>1488844</td>\n",
       "      <td>3</td>\n",
       "      <td>2005-09-06</td>\n",
       "    </tr>\n",
       "    <tr>\n",
       "      <th>1</th>\n",
       "      <td>1</td>\n",
       "      <td>822109</td>\n",
       "      <td>5</td>\n",
       "      <td>2005-05-13</td>\n",
       "    </tr>\n",
       "    <tr>\n",
       "      <th>2</th>\n",
       "      <td>1</td>\n",
       "      <td>885013</td>\n",
       "      <td>4</td>\n",
       "      <td>2005-10-19</td>\n",
       "    </tr>\n",
       "    <tr>\n",
       "      <th>3</th>\n",
       "      <td>1</td>\n",
       "      <td>30878</td>\n",
       "      <td>4</td>\n",
       "      <td>2005-12-26</td>\n",
       "    </tr>\n",
       "    <tr>\n",
       "      <th>4</th>\n",
       "      <td>1</td>\n",
       "      <td>823519</td>\n",
       "      <td>3</td>\n",
       "      <td>2004-05-03</td>\n",
       "    </tr>\n",
       "  </tbody>\n",
       "</table>\n",
       "</div>"
      ],
      "text/plain": [
       "  MovieID CustomerID Rating        Date\n",
       "0       1    1488844      3  2005-09-06\n",
       "1       1     822109      5  2005-05-13\n",
       "2       1     885013      4  2005-10-19\n",
       "3       1      30878      4  2005-12-26\n",
       "4       1     823519      3  2004-05-03"
      ]
     },
     "execution_count": 2,
     "metadata": {},
     "output_type": "execute_result"
    }
   ],
   "source": [
    "ratings_df.head()"
   ]
  },
  {
   "cell_type": "markdown",
   "metadata": {},
   "source": [
    "# Movie Title Dataset\n",
    "\n",
    "This Python script processes the movie_titles.csv file from the Netflix prize dataset, creating a structured pandas DataFrame that includes movie IDs and their respective years of release. The dataset is assumed to have lines formatted with at least two pieces of information per movie: the movie ID and the year of release, possibly followed by the movie title, which this script ignores for simplicity.\n",
    "As it iterates over each line, the function splits the line into components based on commas, specifically designed to split into at most three parts to ensure the title, which may contain commas, is not split."
   ]
  },
  {
   "cell_type": "code",
   "execution_count": 3,
   "metadata": {},
   "outputs": [
    {
     "data": {
      "text/html": [
       "<div>\n",
       "<style scoped>\n",
       "    .dataframe tbody tr th:only-of-type {\n",
       "        vertical-align: middle;\n",
       "    }\n",
       "\n",
       "    .dataframe tbody tr th {\n",
       "        vertical-align: top;\n",
       "    }\n",
       "\n",
       "    .dataframe thead th {\n",
       "        text-align: right;\n",
       "    }\n",
       "</style>\n",
       "<table border=\"1\" class=\"dataframe\">\n",
       "  <thead>\n",
       "    <tr style=\"text-align: right;\">\n",
       "      <th></th>\n",
       "      <th>MovieID</th>\n",
       "      <th>YearOfRelease</th>\n",
       "    </tr>\n",
       "  </thead>\n",
       "  <tbody>\n",
       "    <tr>\n",
       "      <th>0</th>\n",
       "      <td>1</td>\n",
       "      <td>2003</td>\n",
       "    </tr>\n",
       "    <tr>\n",
       "      <th>1</th>\n",
       "      <td>2</td>\n",
       "      <td>2004</td>\n",
       "    </tr>\n",
       "    <tr>\n",
       "      <th>2</th>\n",
       "      <td>3</td>\n",
       "      <td>1997</td>\n",
       "    </tr>\n",
       "    <tr>\n",
       "      <th>3</th>\n",
       "      <td>4</td>\n",
       "      <td>1994</td>\n",
       "    </tr>\n",
       "    <tr>\n",
       "      <th>4</th>\n",
       "      <td>5</td>\n",
       "      <td>2004</td>\n",
       "    </tr>\n",
       "  </tbody>\n",
       "</table>\n",
       "</div>"
      ],
      "text/plain": [
       "   MovieID  YearOfRelease\n",
       "0        1           2003\n",
       "1        2           2004\n",
       "2        3           1997\n",
       "3        4           1994\n",
       "4        5           2004"
      ]
     },
     "execution_count": 3,
     "metadata": {},
     "output_type": "execute_result"
    }
   ],
   "source": [
    "def read_movie_titles(file_path):\n",
    "    data = []  # Initialize an empty list to store the data\n",
    "    with open(file_path, 'r', encoding='latin1') as file:\n",
    "        for line in file:\n",
    "            parts = line.strip().split(',', 2)  # Split each line, expecting at least 2 parts\n",
    "            if len(parts) >= 2:  # Check if we have at least two parts (MovieID and Year)\n",
    "                movie_id, year_of_release = parts[:2]  # Extract MovieID and YearOfRelease\n",
    "                data.append([movie_id, year_of_release])\n",
    "            else:\n",
    "                print(f\"Skipping malformed line: {line.strip()}\")\n",
    "    # Convert the list to a DataFrame with only MovieID and YearOfRelease\n",
    "    return pd.DataFrame(data, columns=['MovieID', 'YearOfRelease'])\n",
    "\n",
    "movie_titles_path = 'C:/Users/nafla/OneDrive/Documents/system development/Netflix/movie_titles.csv'\n",
    "movies_df = read_movie_titles(movie_titles_path)\n",
    "\n",
    "# Convert MovieID and YearOfRelease to the appropriate data types\n",
    "movies_df['MovieID'] = movies_df['MovieID'].astype(int)\n",
    "# Direct conversion to integers, setting errors='coerce' to handle non-integer values by converting them to NaN\n",
    "movies_df['YearOfRelease'] = pd.to_numeric(movies_df['YearOfRelease'], errors='coerce').astype('Int64')\n",
    "# Note: Using 'Int64' (capital \"I\") to allow for NaN values in an integer column\n",
    "\n",
    "# Display the first few rows of the DataFrame\n",
    "movies_df.head()\n"
   ]
  },
  {
   "cell_type": "markdown",
   "metadata": {},
   "source": [
    "# Combine Datasets"
   ]
  },
  {
   "cell_type": "code",
   "execution_count": 4,
   "metadata": {},
   "outputs": [
    {
     "data": {
      "text/html": [
       "<div>\n",
       "<style scoped>\n",
       "    .dataframe tbody tr th:only-of-type {\n",
       "        vertical-align: middle;\n",
       "    }\n",
       "\n",
       "    .dataframe tbody tr th {\n",
       "        vertical-align: top;\n",
       "    }\n",
       "\n",
       "    .dataframe thead th {\n",
       "        text-align: right;\n",
       "    }\n",
       "</style>\n",
       "<table border=\"1\" class=\"dataframe\">\n",
       "  <thead>\n",
       "    <tr style=\"text-align: right;\">\n",
       "      <th></th>\n",
       "      <th>MovieID</th>\n",
       "      <th>CustomerID</th>\n",
       "      <th>Rating</th>\n",
       "      <th>Date</th>\n",
       "      <th>YearOfRelease</th>\n",
       "    </tr>\n",
       "  </thead>\n",
       "  <tbody>\n",
       "    <tr>\n",
       "      <th>0</th>\n",
       "      <td>1</td>\n",
       "      <td>1488844</td>\n",
       "      <td>3</td>\n",
       "      <td>2005-09-06</td>\n",
       "      <td>2003</td>\n",
       "    </tr>\n",
       "    <tr>\n",
       "      <th>1</th>\n",
       "      <td>1</td>\n",
       "      <td>822109</td>\n",
       "      <td>5</td>\n",
       "      <td>2005-05-13</td>\n",
       "      <td>2003</td>\n",
       "    </tr>\n",
       "    <tr>\n",
       "      <th>2</th>\n",
       "      <td>1</td>\n",
       "      <td>885013</td>\n",
       "      <td>4</td>\n",
       "      <td>2005-10-19</td>\n",
       "      <td>2003</td>\n",
       "    </tr>\n",
       "    <tr>\n",
       "      <th>3</th>\n",
       "      <td>1</td>\n",
       "      <td>30878</td>\n",
       "      <td>4</td>\n",
       "      <td>2005-12-26</td>\n",
       "      <td>2003</td>\n",
       "    </tr>\n",
       "    <tr>\n",
       "      <th>4</th>\n",
       "      <td>1</td>\n",
       "      <td>823519</td>\n",
       "      <td>3</td>\n",
       "      <td>2004-05-03</td>\n",
       "      <td>2003</td>\n",
       "    </tr>\n",
       "  </tbody>\n",
       "</table>\n",
       "</div>"
      ],
      "text/plain": [
       "   MovieID CustomerID Rating        Date YearOfRelease\n",
       "0        1    1488844      3  2005-09-06          2003\n",
       "1        1     822109      5  2005-05-13          2003\n",
       "2        1     885013      4  2005-10-19          2003\n",
       "3        1      30878      4  2005-12-26          2003\n",
       "4        1     823519      3  2004-05-03          2003"
      ]
     },
     "execution_count": 4,
     "metadata": {},
     "output_type": "execute_result"
    }
   ],
   "source": [
    "# Ensure that MovieID is the correct data type in both DataFrames\n",
    "ratings_df['MovieID'] = ratings_df['MovieID'].astype(int)\n",
    "movies_df['MovieID'] = movies_df['MovieID'].astype(int)\n",
    "\n",
    "# Create a dictionary from movies_df mapping MovieID to YearOfRelease\n",
    "year_of_release_dict = movies_df.set_index('MovieID')['YearOfRelease'].to_dict()\n",
    "\n",
    "# Use the map function to create a new column in ratings_df for YearOfRelease\n",
    "ratings_df['YearOfRelease'] = ratings_df['MovieID'].map(year_of_release_dict)\n",
    "\n",
    "# Display the first few rows to verify the new column has been added correctly\n",
    "ratings_df.head()\n"
   ]
  },
  {
   "cell_type": "code",
   "execution_count": null,
   "metadata": {},
   "outputs": [
    {
     "name": "stdout",
     "output_type": "stream",
     "text": [
      "<class 'pandas.core.frame.DataFrame'>\n",
      "RangeIndex: 24053764 entries, 0 to 24053763\n",
      "Data columns (total 5 columns):\n",
      " #   Column         Dtype \n",
      "---  ------         ----- \n",
      " 0   MovieID        int32 \n",
      " 1   CustomerID     object\n",
      " 2   Rating         object\n",
      " 3   Date           object\n",
      " 4   YearOfRelease  object\n",
      "dtypes: int32(1), object(4)\n",
      "memory usage: 825.8+ MB\n",
      "MovieID          0.000000\n",
      "CustomerID       0.000000\n",
      "Rating           0.000000\n",
      "Date             0.000000\n",
      "YearOfRelease    0.000786\n",
      "dtype: float64\n"
     ]
    }
   ],
   "source": [
    "# Print out the data types and counts\n",
    "ratings_df.info()\n",
    "\n",
    "# Calculate the percentage of missing values for each column\n",
    "missing_percentage = ratings_df.isnull().mean() * 100\n",
    "\n",
    "# Display the missing percentages\n",
    "print(missing_percentage)"
   ]
  },
  {
   "cell_type": "code",
   "execution_count": null,
   "metadata": {},
   "outputs": [
    {
     "name": "stdout",
     "output_type": "stream",
     "text": [
      "Number of duplicate rows: 0\n"
     ]
    }
   ],
   "source": [
    "# Check for duplicate rows\n",
    "duplicate_rows = ratings_df.duplicated().sum()\n",
    "print(f\"Number of duplicate rows: {duplicate_rows}\")"
   ]
  },
  {
   "cell_type": "code",
   "execution_count": null,
   "metadata": {},
   "outputs": [
    {
     "name": "stdout",
     "output_type": "stream",
     "text": [
      "MovieID            4499\n",
      "CustomerID       470758\n",
      "Rating                5\n",
      "Date               2182\n",
      "YearOfRelease        89\n",
      "dtype: int64\n"
     ]
    }
   ],
   "source": [
    "# Calculate the number of unique values in each column\n",
    "unique_values_count = ratings_df.nunique()\n",
    "\n",
    "# Display the number of unique values for each column\n",
    "print(unique_values_count)"
   ]
  },
  {
   "cell_type": "code",
   "execution_count": 6,
   "metadata": {},
   "outputs": [],
   "source": [
    "\n",
    "# Change the CustomerID data type as integer\n",
    "ratings_df['CustomerID'] = ratings_df['CustomerID'].astype(int)\n",
    "\n",
    "# Change the Rating data type as integer\n",
    "ratings_df['Rating'] = ratings_df['Rating'].astype(int)\n",
    "\n",
    "# Change the Date data type as date time\n",
    "ratings_df['Date'] = pd.to_datetime(ratings_df['Date'], format='%Y-%m-%d')\n",
    "\n",
    "# Convert YearOfRelease to pandas nullable integer data type\n",
    "ratings_df['YearOfRelease'] = ratings_df['YearOfRelease'].astype('Int64')\n"
   ]
  },
  {
   "cell_type": "code",
   "execution_count": 13,
   "metadata": {},
   "outputs": [],
   "source": [
    "# Drop rows where YearOfRelease is missing\n",
    "ratings_df = ratings_df.dropna(subset=['YearOfRelease'])"
   ]
  },
  {
   "cell_type": "code",
   "execution_count": 8,
   "metadata": {},
   "outputs": [],
   "source": [
    "\n",
    "# Calculate the year from the rating date\n",
    "ratings_df['RatingYear'] = ratings_df['Date'].dt.year\n",
    "\n",
    "# Calculate the age of the movie at the time of the rating\n",
    "ratings_df['MovieAge'] = ratings_df['RatingYear'] - ratings_df['YearOfRelease']"
   ]
  },
  {
   "cell_type": "code",
   "execution_count": 14,
   "metadata": {},
   "outputs": [
    {
     "name": "stdout",
     "output_type": "stream",
     "text": [
      "<class 'pandas.core.frame.DataFrame'>\n",
      "Int64Index: 24053575 entries, 0 to 24053763\n",
      "Data columns (total 7 columns):\n",
      " #   Column         Dtype         \n",
      "---  ------         -----         \n",
      " 0   MovieID        int32         \n",
      " 1   CustomerID     int32         \n",
      " 2   Rating         int32         \n",
      " 3   Date           datetime64[ns]\n",
      " 4   YearOfRelease  Int64         \n",
      " 5   RatingYear     int64         \n",
      " 6   MovieAge       Int64         \n",
      "dtypes: Int64(2), datetime64[ns](1), int32(3), int64(1)\n",
      "memory usage: 1.2 GB\n",
      "MovieID          0.0\n",
      "CustomerID       0.0\n",
      "Rating           0.0\n",
      "Date             0.0\n",
      "YearOfRelease    0.0\n",
      "RatingYear       0.0\n",
      "MovieAge         0.0\n",
      "dtype: float64\n"
     ]
    }
   ],
   "source": [
    "# checing the changes\n",
    "ratings_df.info()\n",
    "# Calculate the percentage of missing values for each column\n",
    "missing_percentage = ratings_df.isnull().mean() * 100\n",
    "# Display the missing percentages\n",
    "print(missing_percentage)"
   ]
  },
  {
   "cell_type": "code",
   "execution_count": 15,
   "metadata": {},
   "outputs": [
    {
     "data": {
      "text/html": [
       "<div>\n",
       "<style scoped>\n",
       "    .dataframe tbody tr th:only-of-type {\n",
       "        vertical-align: middle;\n",
       "    }\n",
       "\n",
       "    .dataframe tbody tr th {\n",
       "        vertical-align: top;\n",
       "    }\n",
       "\n",
       "    .dataframe thead th {\n",
       "        text-align: right;\n",
       "    }\n",
       "</style>\n",
       "<table border=\"1\" class=\"dataframe\">\n",
       "  <thead>\n",
       "    <tr style=\"text-align: right;\">\n",
       "      <th></th>\n",
       "      <th>MovieID</th>\n",
       "      <th>CustomerID</th>\n",
       "      <th>Rating</th>\n",
       "      <th>Date</th>\n",
       "      <th>YearOfRelease</th>\n",
       "      <th>RatingYear</th>\n",
       "      <th>MovieAge</th>\n",
       "    </tr>\n",
       "  </thead>\n",
       "  <tbody>\n",
       "    <tr>\n",
       "      <th>0</th>\n",
       "      <td>1</td>\n",
       "      <td>1488844</td>\n",
       "      <td>3</td>\n",
       "      <td>2005-09-06</td>\n",
       "      <td>2003</td>\n",
       "      <td>2005</td>\n",
       "      <td>2</td>\n",
       "    </tr>\n",
       "    <tr>\n",
       "      <th>1</th>\n",
       "      <td>1</td>\n",
       "      <td>822109</td>\n",
       "      <td>5</td>\n",
       "      <td>2005-05-13</td>\n",
       "      <td>2003</td>\n",
       "      <td>2005</td>\n",
       "      <td>2</td>\n",
       "    </tr>\n",
       "    <tr>\n",
       "      <th>2</th>\n",
       "      <td>1</td>\n",
       "      <td>885013</td>\n",
       "      <td>4</td>\n",
       "      <td>2005-10-19</td>\n",
       "      <td>2003</td>\n",
       "      <td>2005</td>\n",
       "      <td>2</td>\n",
       "    </tr>\n",
       "    <tr>\n",
       "      <th>3</th>\n",
       "      <td>1</td>\n",
       "      <td>30878</td>\n",
       "      <td>4</td>\n",
       "      <td>2005-12-26</td>\n",
       "      <td>2003</td>\n",
       "      <td>2005</td>\n",
       "      <td>2</td>\n",
       "    </tr>\n",
       "    <tr>\n",
       "      <th>4</th>\n",
       "      <td>1</td>\n",
       "      <td>823519</td>\n",
       "      <td>3</td>\n",
       "      <td>2004-05-03</td>\n",
       "      <td>2003</td>\n",
       "      <td>2004</td>\n",
       "      <td>1</td>\n",
       "    </tr>\n",
       "  </tbody>\n",
       "</table>\n",
       "</div>"
      ],
      "text/plain": [
       "   MovieID  CustomerID  Rating       Date  YearOfRelease  RatingYear  MovieAge\n",
       "0        1     1488844       3 2005-09-06           2003        2005         2\n",
       "1        1      822109       5 2005-05-13           2003        2005         2\n",
       "2        1      885013       4 2005-10-19           2003        2005         2\n",
       "3        1       30878       4 2005-12-26           2003        2005         2\n",
       "4        1      823519       3 2004-05-03           2003        2004         1"
      ]
     },
     "execution_count": 15,
     "metadata": {},
     "output_type": "execute_result"
    }
   ],
   "source": [
    "ratings_df.head()"
   ]
  },
  {
   "cell_type": "code",
   "execution_count": 16,
   "metadata": {},
   "outputs": [],
   "source": [
    "# Saving final data frame as CSV\n",
    "ratings_df.to_csv('C:/Users/nafla/OneDrive/Documents/system development/Netflix/training_data.csv', index=False)"
   ]
  }
 ],
 "metadata": {
  "kernelspec": {
   "display_name": "base",
   "language": "python",
   "name": "python3"
  },
  "language_info": {
   "codemirror_mode": {
    "name": "ipython",
    "version": 3
   },
   "file_extension": ".py",
   "mimetype": "text/x-python",
   "name": "python",
   "nbconvert_exporter": "python",
   "pygments_lexer": "ipython3",
   "version": "3.11.4"
  }
 },
 "nbformat": 4,
 "nbformat_minor": 2
}
