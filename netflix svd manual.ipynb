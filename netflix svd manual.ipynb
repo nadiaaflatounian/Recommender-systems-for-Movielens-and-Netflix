{
 "cells": [
  {
   "cell_type": "code",
   "execution_count": null,
   "metadata": {},
   "outputs": [],
   "source": [
    "def create_user_item_matrix(df):    #This line creates a user-item matrix using pivot_table and fills missing values with 0.\n",
    "    \"\"\"\n",
    "    Transforms the DataFrame into a user-item matrix\n",
    "    \"\"\"\n",
    "    pivot_table = df.pivot(index='CustomerID', columns='MovieID', values='Rating').fillna(0)\n",
    "    return pivot_table\n",
    "\n",
    "train_matrix_df = create_user_item_matrix(train_data)\n",
    "validation_matrix_df = create_user_item_matrix(validation_data)\n",
    "test_matrix_df = create_user_item_matrix(test_data)\n",
    "\n",
    "\n",
    "# Convert the DataFrame to a sparse matrix\n",
    "train_matrix = csr_matrix(train_matrix_df.values)\n",
    "validation_matrix = csr_matrix(validation_matrix_df.values)\n",
    "test_matrix = csr_matrix(test_matrix_df.values)"
   ]
  },
  {
   "cell_type": "code",
   "execution_count": null,
   "metadata": {},
   "outputs": [],
   "source": [
    "# Perform SVD on the CSR matrix\n",
    "U, sigma, Vt = svds(train_matrix, k=50)  # k is the number of singular values and vectors\n",
    "sigma_diag_matrix = np.diag(sigma)\n",
    "\n",
    "# Convert the matrices back to DataFrames for easier interpretation and processing\n",
    "user_factors_df = pd.DataFrame(U, index=train_matrix_df.index)\n",
    "movie_factors_df = pd.DataFrame(Vt.T, index=train_matrix_df.columns)  # Transpose Vt to align with movie IDs"
   ]
  },
  {
   "cell_type": "code",
   "execution_count": null,
   "metadata": {},
   "outputs": [],
   "source": [
    "def predict_ratings(user_factors, sigma_diag_matrix, item_factors, user_item_matrix):\n",
    "    # Prediction using dot product\n",
    "    predictions = np.dot(np.dot(user_factors, sigma_diag_matrix), item_factors.T)\n",
    "\n",
    "    # Convert predictions to a DataFrame with the same structure as the training set\n",
    "    preds_df_temp = pd.DataFrame(predictions, columns=train_matrix_df.columns, index=train_matrix_df.index)\n",
    "\n",
    "    # Reindex the predictions DataFrame to match the validation/test user-item matrix, filling missing values with 0\n",
    "    preds_df = preds_df_temp.reindex(index=user_item_matrix.index, columns=user_item_matrix.columns, fill_value=0)\n",
    "\n",
    "    return preds_df\n"
   ]
  },
  {
   "cell_type": "code",
   "execution_count": null,
   "metadata": {},
   "outputs": [],
   "source": [
    "# Evaluate the model's accuracy function remains unchanged\n",
    "def evaluate_accuracy(predictions_df, actual_matrix_df):\n",
    "    predicted_ratings = predictions_df.values.flatten()\n",
    "    actual_ratings = actual_matrix_df.values.flatten()\n",
    "\n",
    "    non_zero_indices = actual_ratings.nonzero()\n",
    "    actual_ratings_filtered = actual_ratings[non_zero_indices]\n",
    "    predicted_ratings_filtered = predicted_ratings[non_zero_indices]\n",
    "\n",
    "    rmse = math.sqrt(mean_squared_error(actual_ratings_filtered, predicted_ratings_filtered))\n",
    "    mae = mean_absolute_error(actual_ratings_filtered, predicted_ratings_filtered)\n",
    "\n",
    "    return rmse, mae"
   ]
  },
  {
   "cell_type": "code",
   "execution_count": null,
   "metadata": {},
   "outputs": [],
   "source": [
    "# Final evaluation on the test set\n",
    "test_preds_df = predict_ratings(U, sigma_diag_matrix, movie_factors_df, test_matrix_df)\n",
    "test_rmse, test_mae = evaluate_accuracy(test_preds_df, test_matrix_df)\n",
    "print(f\"Test RMSE: {test_rmse}, Test MAE: {test_mae}\")\n"
   ]
  },
  {
   "cell_type": "code",
   "execution_count": null,
   "metadata": {},
   "outputs": [],
   "source": [
    "def recommend_movies(predictions_df, userID, movies_df, original_ratings_df, num_recommendations=5):\n",
    "    user_row_number = predictions_df.index.get_loc(userID)  # Find the user's index\n",
    "    sorted_user_predictions = predictions_df.iloc[user_row_number].sort_values(ascending=False).reset_index()\n",
    "    sorted_user_predictions.columns = ['MovieID', 'Predictions']\n",
    "\n",
    "    user_data = original_ratings_df[original_ratings_df.CustomerID == userID]\n",
    "\n",
    "    recommendations = (movies_df[~movies_df['MovieID'].isin(user_data['MovieID'])]\n",
    "                       .merge(sorted_user_predictions, on='MovieID')\n",
    "                       .sort_values('Predictions', ascending=False)\n",
    "                       .iloc[:num_recommendations, :])[['MovieTitle', 'Predictions']]\n",
    "\n",
    "    return recommendations\n",
    "\n",
    "\n"
   ]
  },
  {
   "cell_type": "code",
   "execution_count": null,
   "metadata": {},
   "outputs": [],
   "source": [
    "user_id = 596  # Example user ID\n",
    "recommendations = recommend_movies(validation_preds_df, user_id, training_df, validation_data, 5)\n",
    "\n",
    "print(f\"Recommendations for User ID {user_id}:\")\n",
    "for index, row in recommendations.iterrows():\n",
    "    print(f\"{row['MovieTitle']} - Rating Prediction: {row['Predictions']:.2f}\")"
   ]
  }
 ],
 "metadata": {
  "language_info": {
   "name": "python"
  }
 },
 "nbformat": 4,
 "nbformat_minor": 2
}
