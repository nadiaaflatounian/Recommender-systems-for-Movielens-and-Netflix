{
  "cells": [
    {
      "cell_type": "markdown",
      "metadata": {
        "id": "gNV6EnEA6_5z"
      },
      "source": [
        "# Movie Lens Dataset - SVD and SVD++"
      ]
    },
    {
      "cell_type": "markdown",
      "metadata": {},
      "source": [
        "Introduction to the Notebook\n",
        "\n",
        "In this Jupyter notebook we aim to implement a recommender system using Singular Value Decomposition (SVD) and SVD++ techniques. The dataset used for this implementation is the Movie Lens dataset. We implement SVD manually but due to the potential memory constraints and computational complexity, we opted not to implement manual SVD++ on this dataset."
      ]
    },
    {
      "cell_type": "code",
      "execution_count": 3,
      "metadata": {
        "id": "MW7CRdUd3qbE"
      },
      "outputs": [],
      "source": [
        "import pandas as pd\n",
        "import numpy as np\n",
        "import math\n",
        "import matplotlib.pyplot as plt\n",
        "import seaborn as sns\n",
        "import scipy.stats as stats\n",
        "from scipy.stats import spearmanr\n",
        "from scipy.sparse.linalg import svds\n",
        "from scipy.sparse import csr_matrix\n",
        "from sklearn.model_selection import train_test_split\n",
        "from sklearn.preprocessing import StandardScaler\n",
        "from sklearn.metrics import mean_squared_error, mean_absolute_error"
      ]
    },
    {
      "cell_type": "code",
      "execution_count": 4,
      "metadata": {
        "id": "Xak_7z3J7asU"
      },
      "outputs": [],
      "source": [
        "ratings = pd.read_csv(\"User_ratings_For_Movie.csv\")\n",
        "movies = pd.read_csv(\"movies.csv\")"
      ]
    },
    {
      "cell_type": "markdown",
      "metadata": {
        "id": "IvfBOR3u9GTs"
      },
      "source": [
        "## Data Cleaning"
      ]
    },
    {
      "cell_type": "markdown",
      "metadata": {
        "id": "VZfwP9UW9Im1"
      },
      "source": [
        "### Inspecting Data"
      ]
    },
    {
      "cell_type": "code",
      "execution_count": 5,
      "metadata": {
        "colab": {
          "base_uri": "https://localhost:8080/"
        },
        "id": "H16qBSHu9IGi",
        "outputId": "c955765c-19e3-45dc-a906-f4ec28bfa552"
      },
      "outputs": [
        {
          "name": "stdout",
          "output_type": "stream",
          "text": [
            "   userId  movieId  rating     timestamp\n",
            "0       1        1     4.0  1.225735e+09\n",
            "1       1      110     4.0  1.225865e+09\n",
            "2       1      158     4.0  1.225734e+09\n",
            "3       1      260     4.5  1.225735e+09\n",
            "4       1      356     5.0  1.225735e+09\n",
            "   movieId                               title  \\\n",
            "0        1                    Toy Story (1995)   \n",
            "1        2                      Jumanji (1995)   \n",
            "2        3             Grumpier Old Men (1995)   \n",
            "3        4            Waiting to Exhale (1995)   \n",
            "4        5  Father of the Bride Part II (1995)   \n",
            "\n",
            "                                        genres  \n",
            "0  Adventure|Animation|Children|Comedy|Fantasy  \n",
            "1                   Adventure|Children|Fantasy  \n",
            "2                               Comedy|Romance  \n",
            "3                         Comedy|Drama|Romance  \n",
            "4                                       Comedy  \n"
          ]
        }
      ],
      "source": [
        "print(ratings.head())\n",
        "print(movies.head())"
      ]
    },
    {
      "cell_type": "code",
      "execution_count": 6,
      "metadata": {
        "colab": {
          "base_uri": "https://localhost:8080/"
        },
        "id": "HIgXm8FU9Vd-",
        "outputId": "32227ad2-f7f5-4743-cd30-7b955bf8b490"
      },
      "outputs": [
        {
          "name": "stdout",
          "output_type": "stream",
          "text": [
            "<class 'pandas.core.frame.DataFrame'>\n",
            "RangeIndex: 125352 entries, 0 to 125351\n",
            "Data columns (total 4 columns):\n",
            " #   Column     Non-Null Count   Dtype  \n",
            "---  ------     --------------   -----  \n",
            " 0   userId     125352 non-null  int64  \n",
            " 1   movieId    125352 non-null  int64  \n",
            " 2   rating     125352 non-null  float64\n",
            " 3   timestamp  125351 non-null  float64\n",
            "dtypes: float64(2), int64(2)\n",
            "memory usage: 3.8 MB\n",
            "<class 'pandas.core.frame.DataFrame'>\n",
            "RangeIndex: 86537 entries, 0 to 86536\n",
            "Data columns (total 3 columns):\n",
            " #   Column   Non-Null Count  Dtype \n",
            "---  ------   --------------  ----- \n",
            " 0   movieId  86537 non-null  int64 \n",
            " 1   title    86537 non-null  object\n",
            " 2   genres   86537 non-null  object\n",
            "dtypes: int64(1), object(2)\n",
            "memory usage: 2.0+ MB\n"
          ]
        }
      ],
      "source": [
        "ratings.info()\n",
        "movies.info()"
      ]
    },
    {
      "cell_type": "markdown",
      "metadata": {
        "id": "CV46wAFU9bLI"
      },
      "source": [
        "### Handling Missing Values"
      ]
    },
    {
      "cell_type": "code",
      "execution_count": 7,
      "metadata": {
        "colab": {
          "base_uri": "https://localhost:8080/"
        },
        "id": "2fS1Fp7-9dE0",
        "outputId": "72be9314-6809-4f20-ffb2-a89ace72d6d5"
      },
      "outputs": [
        {
          "name": "stdout",
          "output_type": "stream",
          "text": [
            "userId       0\n",
            "movieId      0\n",
            "rating       0\n",
            "timestamp    1\n",
            "dtype: int64\n",
            "movieId    0\n",
            "title      0\n",
            "genres     0\n",
            "dtype: int64\n"
          ]
        }
      ],
      "source": [
        "# Check for missing values (NaN or null values)\n",
        "print(ratings.isnull().sum())\n",
        "print(movies.isnull().sum())"
      ]
    },
    {
      "cell_type": "markdown",
      "metadata": {
        "id": "d-GTKKUZ9nBM"
      },
      "source": [
        "### Merge Datasets"
      ]
    },
    {
      "cell_type": "code",
      "execution_count": 8,
      "metadata": {
        "colab": {
          "base_uri": "https://localhost:8080/"
        },
        "id": "_4BZS2X29oHd",
        "outputId": "1a42dd88-7287-452f-93a8-f39315f71323"
      },
      "outputs": [
        {
          "name": "stdout",
          "output_type": "stream",
          "text": [
            "   userId  movieId  rating     timestamp             title  \\\n",
            "0       1        1     4.0  1.225735e+09  Toy Story (1995)   \n",
            "1       2        1     5.0  8.358160e+08  Toy Story (1995)   \n",
            "2       7        1     4.0  9.745180e+08  Toy Story (1995)   \n",
            "3      10        1     3.0  1.430666e+09  Toy Story (1995)   \n",
            "4      12        1     5.0  8.625007e+08  Toy Story (1995)   \n",
            "\n",
            "                                        genres  \n",
            "0  Adventure|Animation|Children|Comedy|Fantasy  \n",
            "1  Adventure|Animation|Children|Comedy|Fantasy  \n",
            "2  Adventure|Animation|Children|Comedy|Fantasy  \n",
            "3  Adventure|Animation|Children|Comedy|Fantasy  \n",
            "4  Adventure|Animation|Children|Comedy|Fantasy  \n"
          ]
        }
      ],
      "source": [
        "df = pd.merge(ratings, movies, on='movieId')\n",
        "print(df.head())"
      ]
    },
    {
      "cell_type": "code",
      "execution_count": 9,
      "metadata": {
        "colab": {
          "base_uri": "https://localhost:8080/"
        },
        "id": "AcndQ_Z893g2",
        "outputId": "b83195d2-efe9-40bd-f69f-920ba80543b5"
      },
      "outputs": [
        {
          "name": "stdout",
          "output_type": "stream",
          "text": [
            "<class 'pandas.core.frame.DataFrame'>\n",
            "RangeIndex: 125352 entries, 0 to 125351\n",
            "Data columns (total 6 columns):\n",
            " #   Column     Non-Null Count   Dtype  \n",
            "---  ------     --------------   -----  \n",
            " 0   userId     125352 non-null  int64  \n",
            " 1   movieId    125352 non-null  int64  \n",
            " 2   rating     125352 non-null  float64\n",
            " 3   timestamp  125351 non-null  float64\n",
            " 4   title      125352 non-null  object \n",
            " 5   genres     125352 non-null  object \n",
            "dtypes: float64(2), int64(2), object(2)\n",
            "memory usage: 5.7+ MB\n"
          ]
        }
      ],
      "source": [
        "df.info()"
      ]
    },
    {
      "cell_type": "markdown",
      "metadata": {
        "id": "kB-DC1-r98q6"
      },
      "source": [
        "### Drop Unused Columns"
      ]
    },
    {
      "cell_type": "code",
      "execution_count": 10,
      "metadata": {
        "colab": {
          "base_uri": "https://localhost:8080/"
        },
        "id": "5DTl4Eog2hD0",
        "outputId": "819fd5ce-8bf5-40f2-d45f-3360f3ce395a"
      },
      "outputs": [
        {
          "name": "stdout",
          "output_type": "stream",
          "text": [
            "1\n"
          ]
        }
      ],
      "source": [
        "print(df['timestamp'].isnull().sum())"
      ]
    },
    {
      "cell_type": "code",
      "execution_count": 11,
      "metadata": {
        "id": "j6n1PJHU2nvs"
      },
      "outputs": [],
      "source": [
        "df = df.dropna(subset=['timestamp'])"
      ]
    },
    {
      "cell_type": "code",
      "execution_count": 12,
      "metadata": {
        "colab": {
          "base_uri": "https://localhost:8080/"
        },
        "id": "KPao0hZd0anC",
        "outputId": "e0492598-456e-4fa7-be70-60059ef1bc2e"
      },
      "outputs": [],
      "source": [
        "df['timestamp'] = pd.to_datetime(df['timestamp'], unit='s')\n"
      ]
    },
    {
      "cell_type": "code",
      "execution_count": 13,
      "metadata": {
        "id": "Bh7UGSPYEiXG"
      },
      "outputs": [],
      "source": [
        "#df.drop(['timestamp'], axis=1, inplace=True)"
      ]
    },
    {
      "cell_type": "code",
      "execution_count": 14,
      "metadata": {
        "colab": {
          "base_uri": "https://localhost:8080/",
          "height": 394
        },
        "id": "blJw-gIalW6n",
        "outputId": "a3795585-23de-480b-ad0e-82af0020307a"
      },
      "outputs": [
        {
          "data": {
            "text/html": [
              "<div>\n",
              "<style scoped>\n",
              "    .dataframe tbody tr th:only-of-type {\n",
              "        vertical-align: middle;\n",
              "    }\n",
              "\n",
              "    .dataframe tbody tr th {\n",
              "        vertical-align: top;\n",
              "    }\n",
              "\n",
              "    .dataframe thead th {\n",
              "        text-align: right;\n",
              "    }\n",
              "</style>\n",
              "<table border=\"1\" class=\"dataframe\">\n",
              "  <thead>\n",
              "    <tr style=\"text-align: right;\">\n",
              "      <th></th>\n",
              "      <th>userId</th>\n",
              "      <th>movieId</th>\n",
              "      <th>rating</th>\n",
              "      <th>timestamp</th>\n",
              "      <th>title</th>\n",
              "      <th>genres</th>\n",
              "    </tr>\n",
              "  </thead>\n",
              "  <tbody>\n",
              "    <tr>\n",
              "      <th>0</th>\n",
              "      <td>1</td>\n",
              "      <td>1</td>\n",
              "      <td>4.0</td>\n",
              "      <td>2008-11-03 17:52:19</td>\n",
              "      <td>Toy Story (1995)</td>\n",
              "      <td>Adventure|Animation|Children|Comedy|Fantasy</td>\n",
              "    </tr>\n",
              "    <tr>\n",
              "      <th>1</th>\n",
              "      <td>2</td>\n",
              "      <td>1</td>\n",
              "      <td>5.0</td>\n",
              "      <td>1996-06-26 19:06:11</td>\n",
              "      <td>Toy Story (1995)</td>\n",
              "      <td>Adventure|Animation|Children|Comedy|Fantasy</td>\n",
              "    </tr>\n",
              "    <tr>\n",
              "      <th>2</th>\n",
              "      <td>7</td>\n",
              "      <td>1</td>\n",
              "      <td>4.0</td>\n",
              "      <td>2000-11-18 03:27:04</td>\n",
              "      <td>Toy Story (1995)</td>\n",
              "      <td>Adventure|Animation|Children|Comedy|Fantasy</td>\n",
              "    </tr>\n",
              "    <tr>\n",
              "      <th>3</th>\n",
              "      <td>10</td>\n",
              "      <td>1</td>\n",
              "      <td>3.0</td>\n",
              "      <td>2015-05-03 15:19:54</td>\n",
              "      <td>Toy Story (1995)</td>\n",
              "      <td>Adventure|Animation|Children|Comedy|Fantasy</td>\n",
              "    </tr>\n",
              "    <tr>\n",
              "      <th>4</th>\n",
              "      <td>12</td>\n",
              "      <td>1</td>\n",
              "      <td>5.0</td>\n",
              "      <td>1997-05-01 15:32:18</td>\n",
              "      <td>Toy Story (1995)</td>\n",
              "      <td>Adventure|Animation|Children|Comedy|Fantasy</td>\n",
              "    </tr>\n",
              "  </tbody>\n",
              "</table>\n",
              "</div>"
            ],
            "text/plain": [
              "   userId  movieId  rating           timestamp             title  \\\n",
              "0       1        1     4.0 2008-11-03 17:52:19  Toy Story (1995)   \n",
              "1       2        1     5.0 1996-06-26 19:06:11  Toy Story (1995)   \n",
              "2       7        1     4.0 2000-11-18 03:27:04  Toy Story (1995)   \n",
              "3      10        1     3.0 2015-05-03 15:19:54  Toy Story (1995)   \n",
              "4      12        1     5.0 1997-05-01 15:32:18  Toy Story (1995)   \n",
              "\n",
              "                                        genres  \n",
              "0  Adventure|Animation|Children|Comedy|Fantasy  \n",
              "1  Adventure|Animation|Children|Comedy|Fantasy  \n",
              "2  Adventure|Animation|Children|Comedy|Fantasy  \n",
              "3  Adventure|Animation|Children|Comedy|Fantasy  \n",
              "4  Adventure|Animation|Children|Comedy|Fantasy  "
            ]
          },
          "execution_count": 14,
          "metadata": {},
          "output_type": "execute_result"
        }
      ],
      "source": [
        "df.head()"
      ]
    },
    {
      "cell_type": "markdown",
      "metadata": {
        "id": "omzocC60Fghw"
      },
      "source": [
        "## EDA"
      ]
    },
    {
      "cell_type": "markdown",
      "metadata": {
        "id": "qqC_KryxFj2O"
      },
      "source": [
        "### Descriptive Statistics"
      ]
    },
    {
      "cell_type": "code",
      "execution_count": 15,
      "metadata": {
        "colab": {
          "base_uri": "https://localhost:8080/",
          "height": 419
        },
        "id": "Mex9E_Z_Fkk3",
        "outputId": "86146eae-b1c5-45a5-c4ae-bbfb2b1ff07f"
      },
      "outputs": [
        {
          "data": {
            "text/html": [
              "<div>\n",
              "<style scoped>\n",
              "    .dataframe tbody tr th:only-of-type {\n",
              "        vertical-align: middle;\n",
              "    }\n",
              "\n",
              "    .dataframe tbody tr th {\n",
              "        vertical-align: top;\n",
              "    }\n",
              "\n",
              "    .dataframe thead th {\n",
              "        text-align: right;\n",
              "    }\n",
              "</style>\n",
              "<table border=\"1\" class=\"dataframe\">\n",
              "  <thead>\n",
              "    <tr style=\"text-align: right;\">\n",
              "      <th></th>\n",
              "      <th>userId</th>\n",
              "      <th>movieId</th>\n",
              "      <th>rating</th>\n",
              "      <th>timestamp</th>\n",
              "    </tr>\n",
              "  </thead>\n",
              "  <tbody>\n",
              "    <tr>\n",
              "      <th>count</th>\n",
              "      <td>125351.000000</td>\n",
              "      <td>125351.000000</td>\n",
              "      <td>125351.000000</td>\n",
              "      <td>125351</td>\n",
              "    </tr>\n",
              "    <tr>\n",
              "      <th>mean</th>\n",
              "      <td>646.079896</td>\n",
              "      <td>27844.978453</td>\n",
              "      <td>3.584323</td>\n",
              "      <td>2010-05-15 12:13:53.069628672</td>\n",
              "    </tr>\n",
              "    <tr>\n",
              "      <th>min</th>\n",
              "      <td>1.000000</td>\n",
              "      <td>1.000000</td>\n",
              "      <td>0.500000</td>\n",
              "      <td>1996-02-29 16:14:11</td>\n",
              "    </tr>\n",
              "    <tr>\n",
              "      <th>25%</th>\n",
              "      <td>318.000000</td>\n",
              "      <td>1208.000000</td>\n",
              "      <td>3.000000</td>\n",
              "      <td>2003-05-24 21:43:08.500000</td>\n",
              "    </tr>\n",
              "    <tr>\n",
              "      <th>50%</th>\n",
              "      <td>624.000000</td>\n",
              "      <td>3168.000000</td>\n",
              "      <td>4.000000</td>\n",
              "      <td>2010-03-16 14:47:28</td>\n",
              "    </tr>\n",
              "    <tr>\n",
              "      <th>75%</th>\n",
              "      <td>974.000000</td>\n",
              "      <td>40815.000000</td>\n",
              "      <td>4.500000</td>\n",
              "      <td>2017-08-25 04:09:02</td>\n",
              "    </tr>\n",
              "    <tr>\n",
              "      <th>max</th>\n",
              "      <td>1293.000000</td>\n",
              "      <td>288269.000000</td>\n",
              "      <td>5.000000</td>\n",
              "      <td>2023-07-20 07:26:24</td>\n",
              "    </tr>\n",
              "    <tr>\n",
              "      <th>std</th>\n",
              "      <td>372.152625</td>\n",
              "      <td>48904.887953</td>\n",
              "      <td>1.049878</td>\n",
              "      <td>NaN</td>\n",
              "    </tr>\n",
              "  </tbody>\n",
              "</table>\n",
              "</div>"
            ],
            "text/plain": [
              "              userId        movieId         rating  \\\n",
              "count  125351.000000  125351.000000  125351.000000   \n",
              "mean      646.079896   27844.978453       3.584323   \n",
              "min         1.000000       1.000000       0.500000   \n",
              "25%       318.000000    1208.000000       3.000000   \n",
              "50%       624.000000    3168.000000       4.000000   \n",
              "75%       974.000000   40815.000000       4.500000   \n",
              "max      1293.000000  288269.000000       5.000000   \n",
              "std       372.152625   48904.887953       1.049878   \n",
              "\n",
              "                           timestamp  \n",
              "count                         125351  \n",
              "mean   2010-05-15 12:13:53.069628672  \n",
              "min              1996-02-29 16:14:11  \n",
              "25%       2003-05-24 21:43:08.500000  \n",
              "50%              2010-03-16 14:47:28  \n",
              "75%              2017-08-25 04:09:02  \n",
              "max              2023-07-20 07:26:24  \n",
              "std                              NaN  "
            ]
          },
          "execution_count": 15,
          "metadata": {},
          "output_type": "execute_result"
        }
      ],
      "source": [
        "df.describe()"
      ]
    },
    {
      "cell_type": "code",
      "execution_count": 16,
      "metadata": {
        "colab": {
          "base_uri": "https://localhost:8080/"
        },
        "id": "0DS7R1qgF7Qh",
        "outputId": "48152085-f677-4d64-f1cf-fd28562e1352"
      },
      "outputs": [
        {
          "data": {
            "text/plain": [
              "genres\n",
              "Drama                                         7958\n",
              "Comedy                                        7150\n",
              "Comedy|Romance                                4122\n",
              "Drama|Romance                                 3534\n",
              "Action|Adventure|Sci-Fi                       3498\n",
              "                                              ... \n",
              "Crime|Drama|Mystery|Romance                      1\n",
              "Comedy|Mystery|Romance                           1\n",
              "Drama|Fantasy|War                                1\n",
              "Children|Documentary                             1\n",
              "Adventure|Animation|Fantasy|Musical|Sci-Fi       1\n",
              "Name: count, Length: 976, dtype: int64"
            ]
          },
          "execution_count": 16,
          "metadata": {},
          "output_type": "execute_result"
        }
      ],
      "source": [
        "# It counts the occurrences of each genre in the 'genres' column using value_counts() method.\n",
        "df['genres'].value_counts()"
      ]
    },
    {
      "cell_type": "code",
      "execution_count": 17,
      "metadata": {
        "colab": {
          "base_uri": "https://localhost:8080/",
          "height": 546
        },
        "id": "XgcX_uLnF_Hr",
        "outputId": "4c49eee2-aca9-42bb-e7e1-0cf17b22a2dc"
      },
      "outputs": [
        {
          "data": {
            "text/html": [
              "<div>\n",
              "<style scoped>\n",
              "    .dataframe tbody tr th:only-of-type {\n",
              "        vertical-align: middle;\n",
              "    }\n",
              "\n",
              "    .dataframe tbody tr th {\n",
              "        vertical-align: top;\n",
              "    }\n",
              "\n",
              "    .dataframe thead th {\n",
              "        text-align: right;\n",
              "    }\n",
              "</style>\n",
              "<table border=\"1\" class=\"dataframe\">\n",
              "  <thead>\n",
              "    <tr style=\"text-align: right;\">\n",
              "      <th></th>\n",
              "      <th>userId</th>\n",
              "      <th>movieId</th>\n",
              "      <th>rating</th>\n",
              "      <th>timestamp</th>\n",
              "      <th>title</th>\n",
              "      <th>genres</th>\n",
              "    </tr>\n",
              "  </thead>\n",
              "  <tbody>\n",
              "    <tr>\n",
              "      <th>count</th>\n",
              "      <td>125351.000000</td>\n",
              "      <td>125351.000000</td>\n",
              "      <td>125351.000000</td>\n",
              "      <td>125351</td>\n",
              "      <td>125351</td>\n",
              "      <td>125351</td>\n",
              "    </tr>\n",
              "    <tr>\n",
              "      <th>unique</th>\n",
              "      <td>NaN</td>\n",
              "      <td>NaN</td>\n",
              "      <td>NaN</td>\n",
              "      <td>NaN</td>\n",
              "      <td>11036</td>\n",
              "      <td>976</td>\n",
              "    </tr>\n",
              "    <tr>\n",
              "      <th>top</th>\n",
              "      <td>NaN</td>\n",
              "      <td>NaN</td>\n",
              "      <td>NaN</td>\n",
              "      <td>NaN</td>\n",
              "      <td>Shawshank Redemption, The (1994)</td>\n",
              "      <td>Drama</td>\n",
              "    </tr>\n",
              "    <tr>\n",
              "      <th>freq</th>\n",
              "      <td>NaN</td>\n",
              "      <td>NaN</td>\n",
              "      <td>NaN</td>\n",
              "      <td>NaN</td>\n",
              "      <td>476</td>\n",
              "      <td>7958</td>\n",
              "    </tr>\n",
              "    <tr>\n",
              "      <th>mean</th>\n",
              "      <td>646.079896</td>\n",
              "      <td>27844.978453</td>\n",
              "      <td>3.584323</td>\n",
              "      <td>2010-05-15 12:13:53.069628672</td>\n",
              "      <td>NaN</td>\n",
              "      <td>NaN</td>\n",
              "    </tr>\n",
              "    <tr>\n",
              "      <th>min</th>\n",
              "      <td>1.000000</td>\n",
              "      <td>1.000000</td>\n",
              "      <td>0.500000</td>\n",
              "      <td>1996-02-29 16:14:11</td>\n",
              "      <td>NaN</td>\n",
              "      <td>NaN</td>\n",
              "    </tr>\n",
              "    <tr>\n",
              "      <th>25%</th>\n",
              "      <td>318.000000</td>\n",
              "      <td>1208.000000</td>\n",
              "      <td>3.000000</td>\n",
              "      <td>2003-05-24 21:43:08.500000</td>\n",
              "      <td>NaN</td>\n",
              "      <td>NaN</td>\n",
              "    </tr>\n",
              "    <tr>\n",
              "      <th>50%</th>\n",
              "      <td>624.000000</td>\n",
              "      <td>3168.000000</td>\n",
              "      <td>4.000000</td>\n",
              "      <td>2010-03-16 14:47:28</td>\n",
              "      <td>NaN</td>\n",
              "      <td>NaN</td>\n",
              "    </tr>\n",
              "    <tr>\n",
              "      <th>75%</th>\n",
              "      <td>974.000000</td>\n",
              "      <td>40815.000000</td>\n",
              "      <td>4.500000</td>\n",
              "      <td>2017-08-25 04:09:02</td>\n",
              "      <td>NaN</td>\n",
              "      <td>NaN</td>\n",
              "    </tr>\n",
              "    <tr>\n",
              "      <th>max</th>\n",
              "      <td>1293.000000</td>\n",
              "      <td>288269.000000</td>\n",
              "      <td>5.000000</td>\n",
              "      <td>2023-07-20 07:26:24</td>\n",
              "      <td>NaN</td>\n",
              "      <td>NaN</td>\n",
              "    </tr>\n",
              "    <tr>\n",
              "      <th>std</th>\n",
              "      <td>372.152625</td>\n",
              "      <td>48904.887953</td>\n",
              "      <td>1.049878</td>\n",
              "      <td>NaN</td>\n",
              "      <td>NaN</td>\n",
              "      <td>NaN</td>\n",
              "    </tr>\n",
              "  </tbody>\n",
              "</table>\n",
              "</div>"
            ],
            "text/plain": [
              "               userId        movieId         rating  \\\n",
              "count   125351.000000  125351.000000  125351.000000   \n",
              "unique            NaN            NaN            NaN   \n",
              "top               NaN            NaN            NaN   \n",
              "freq              NaN            NaN            NaN   \n",
              "mean       646.079896   27844.978453       3.584323   \n",
              "min          1.000000       1.000000       0.500000   \n",
              "25%        318.000000    1208.000000       3.000000   \n",
              "50%        624.000000    3168.000000       4.000000   \n",
              "75%        974.000000   40815.000000       4.500000   \n",
              "max       1293.000000  288269.000000       5.000000   \n",
              "std        372.152625   48904.887953       1.049878   \n",
              "\n",
              "                            timestamp                             title  \\\n",
              "count                          125351                            125351   \n",
              "unique                            NaN                             11036   \n",
              "top                               NaN  Shawshank Redemption, The (1994)   \n",
              "freq                              NaN                               476   \n",
              "mean    2010-05-15 12:13:53.069628672                               NaN   \n",
              "min               1996-02-29 16:14:11                               NaN   \n",
              "25%        2003-05-24 21:43:08.500000                               NaN   \n",
              "50%               2010-03-16 14:47:28                               NaN   \n",
              "75%               2017-08-25 04:09:02                               NaN   \n",
              "max               2023-07-20 07:26:24                               NaN   \n",
              "std                               NaN                               NaN   \n",
              "\n",
              "        genres  \n",
              "count   125351  \n",
              "unique     976  \n",
              "top      Drama  \n",
              "freq      7958  \n",
              "mean       NaN  \n",
              "min        NaN  \n",
              "25%        NaN  \n",
              "50%        NaN  \n",
              "75%        NaN  \n",
              "max        NaN  \n",
              "std        NaN  "
            ]
          },
          "execution_count": 17,
          "metadata": {},
          "output_type": "execute_result"
        }
      ],
      "source": [
        "# Understanding the data\n",
        "df.describe(include='all')"
      ]
    },
    {
      "cell_type": "markdown",
      "metadata": {
        "id": "wMbUrdlRGIg_"
      },
      "source": [
        "### Visualizing the Distribution"
      ]
    },
    {
      "cell_type": "markdown",
      "metadata": {
        "id": "9046KJkGGKoQ"
      },
      "source": [
        "#### Normality Check"
      ]
    },
    {
      "cell_type": "code",
      "execution_count": 18,
      "metadata": {
        "colab": {
          "base_uri": "https://localhost:8080/"
        },
        "id": "OQt_SKzBGMaV",
        "outputId": "93ca2aba-7b02-4262-9550-03d3885f8dd7"
      },
      "outputs": [
        {
          "name": "stdout",
          "output_type": "stream",
          "text": [
            "Anderson-Darling Test statistic: 2731.156685408205, critical values: [0.576 0.656 0.787 0.918 1.092]\n",
            "Reject null hypothesis: Data is not normally distributed.\n"
          ]
        }
      ],
      "source": [
        "# Perform Anderson-Darling test on 'rating' column\n",
        "anderson_test = stats.anderson(df['rating'], dist='norm')\n",
        "print(f\"Anderson-Darling Test statistic: {anderson_test.statistic}, critical values: {anderson_test.critical_values}\")\n",
        "\n",
        "# Interpretation of the output\n",
        "if anderson_test.statistic > max(anderson_test.critical_values):\n",
        "    print(\"Reject null hypothesis: Data is not normally distributed.\")\n",
        "else:\n",
        "    print(\"Fail to reject null hypothesis: Data might be normal.\")\n"
      ]
    },
    {
      "cell_type": "markdown",
      "metadata": {
        "id": "TuZ7x-C8GQAW"
      },
      "source": [
        "#### Histogram"
      ]
    },
    {
      "cell_type": "code",
      "execution_count": 19,
      "metadata": {
        "colab": {
          "base_uri": "https://localhost:8080/",
          "height": 54
        },
        "id": "Kx0ZM8U1GPjN",
        "outputId": "43b11cbd-3738-4b97-b9eb-8fa078ec7745"
      },
      "outputs": [
        {
          "data": {
            "image/png": "[encoded data removed]",
            "text/plain": [
              "<Figure size 640x480 with 1 Axes>"
            ]
          },
          "metadata": {},
          "output_type": "display_data"
        }
      ],
      "source": [
        "plt.hist(df['rating'], bins=50)\n",
        "plt.title('Rating Distribution')\n",
        "plt.xlabel('Rating')\n",
        "plt.ylabel('Frequency')\n",
        "plt.show()"
      ]
    },
    {
      "cell_type": "markdown",
      "metadata": {
        "id": "5_-5mJR9GZBD"
      },
      "source": [
        "#### Boxplot"
      ]
    },
    {
      "cell_type": "code",
      "execution_count": 20,
      "metadata": {
        "colab": {
          "base_uri": "https://localhost:8080/",
          "height": 54
        },
        "id": "dI8fd_RoGaj5",
        "outputId": "b40b8db9-76ce-4b4c-dfc3-4f163147172b"
      },
      "outputs": [
        {
          "data": {
            "image/png": "[encoded data removed]",
            "text/plain": [
              "<Figure size 640x480 with 1 Axes>"
            ]
          },
          "metadata": {},
          "output_type": "display_data"
        }
      ],
      "source": [
        "plt.boxplot(df['rating'])\n",
        "plt.title('Boxplot of Ratings')\n",
        "plt.ylabel('Rating')\n",
        "plt.show()"
      ]
    },
    {
      "cell_type": "markdown",
      "metadata": {
        "id": "Ec053I9UJUQW"
      },
      "source": [
        "The ratings go from 1 to 5. The box in the center of the plot contains the middle 50% of the ratings. The line in the middle of the box represents the median rating, which is 4. The whiskers extend out from the top and bottom of the box. They show the range of the rest of the data, excluding outliers.\n",
        "\n",
        "- The ratings mostly range from around 3 to 4.5\n",
        "- The median rating appears to be around 4  indicating that half of the ratings are above  and half are below.\n",
        "- There are a few outliers on the lower side, indicating that there are a few unusually low ratings compared to the rest of the data.\n",
        "- There are no outliers on the higher side, so the highest ratings don't differ as much from the general dataset as the lowest ones do."
      ]
    },
    {
      "cell_type": "markdown",
      "metadata": {
        "id": "aKMZR-apJgkP"
      },
      "source": [
        "#### Correlation Matrix"
      ]
    },
    {
      "cell_type": "code",
      "execution_count": 21,
      "metadata": {
        "colab": {
          "base_uri": "https://localhost:8080/",
          "height": 54
        },
        "id": "HacCJtv8Jfcv",
        "outputId": "478183eb-9a45-437d-e7b3-1651844ef302"
      },
      "outputs": [
        {
          "data": {
            "image/png": "[encoded data removed]",
            "text/plain": [
              "<Figure size 1000x600 with 2 Axes>"
            ]
          },
          "metadata": {},
          "output_type": "display_data"
        }
      ],
      "source": [
        "# Drop non-numeric columns before calculating correlation matrix\n",
        "numeric_df = df.drop(columns=['title', 'genres'])\n",
        "\n",
        "# Calculate correlation matrix\n",
        "correlation_matrix = numeric_df.corr()\n",
        "\n",
        "# Plot the correlation matrix\n",
        "plt.figure(figsize=(10, 6))\n",
        "sns.heatmap(correlation_matrix, annot=True)\n",
        "plt.title('Correlation Matrix for Numeric Features')\n",
        "plt.show()\n"
      ]
    },
    {
      "cell_type": "markdown",
      "metadata": {},
      "source": [
        "\n",
        "- userld and movield: There appears to be a weak negative correlation of approximately -0.012. This means there might be a slight tendency for users with higher IDs to rate movies with lower IDs, and vice versa. However, the correlation is so weak that it may not be statistically significant.\n",
        "- userld and rating: There appears to be a very weak positive correlation of approximately 0.0047. This is so close to zero that it's likely there is no real correlation between user IDs and ratings.\n",
        "- userld and timestamp: There appears to be a very weak negative correlation of approximately -0.035. There isn't enough information to say for sure what this might mean in the context of the data.\n",
        "- movield and rating: There appears to be a weak positive correlation of approximately 0.51. This suggests that there might be a slight tendency for movies with higher IDs to have higher ratings.\n",
        "- movield and timestamp: There appears to be a weak positive correlation of approximately 0.6. This suggests that there might be a slight tendency for movies with higher IDs to be rated more recently (according to the timestamp).\n",
        "- rating and timestamp: There appears to be a very weak positive correlation of approximately 0.021. This is so close to zero that it's likely there is no real correlation between ratings and timestamps."
      ]
    },
    {
      "cell_type": "markdown",
      "metadata": {
        "id": "tW8z-CLpJtNV"
      },
      "source": [
        "#### Data Distribution"
      ]
    },
    {
      "cell_type": "code",
      "execution_count": 22,
      "metadata": {
        "colab": {
          "base_uri": "https://localhost:8080/",
          "height": 71
        },
        "id": "6dhnf29CJs5o",
        "outputId": "0cf09242-bd92-4b3c-d3aa-bb47dfa1b741"
      },
      "outputs": [
        {
          "name": "stderr",
          "output_type": "stream",
          "text": [
            "c:\\Users\\nafla\\anaconda3\\Lib\\site-packages\\seaborn\\_oldcore.py:1119: FutureWarning: use_inf_as_na option is deprecated and will be removed in a future version. Convert inf values to NaN before operating instead.\n",
            "  with pd.option_context('mode.use_inf_as_na', True):\n"
          ]
        },
        {
          "data": {
            "image/png": "[encoded data removed]",
            "text/plain": [
              "<Figure size 1000x600 with 1 Axes>"
            ]
          },
          "metadata": {},
          "output_type": "display_data"
        },
        {
          "data": {
            "image/png": "[encoded data removed]",
            "text/plain": [
              "<Figure size 1000x600 with 1 Axes>"
            ]
          },
          "metadata": {},
          "output_type": "display_data"
        }
      ],
      "source": [
        "# Ratings distribution\n",
        "plt.figure(figsize=(10, 6))\n",
        "sns.histplot(df['rating'], kde=True)\n",
        "plt.title('Distribution of Ratings')\n",
        "plt.xlabel('Rating')\n",
        "plt.ylabel('Frequency')\n",
        "plt.show()\n",
        "\n",
        "# Genres distribution\n",
        "plt.figure(figsize=(10, 6))\n",
        "genres = df['genres'].str.split('|').explode()\n",
        "sns.countplot(y=genres, order=genres.value_counts().index)\n",
        "plt.title('Distribution of Genres')\n",
        "plt.xlabel('Count')\n",
        "plt.ylabel('Genre')\n",
        "plt.show()"
      ]
    },
    {
      "cell_type": "code",
      "execution_count": 23,
      "metadata": {
        "colab": {
          "base_uri": "https://localhost:8080/",
          "height": 71
        },
        "id": "dcYtBPKrd0G0",
        "outputId": "72758194-0b25-4491-94b1-aed02f4f4c9a"
      },
      "outputs": [
        {
          "name": "stderr",
          "output_type": "stream",
          "text": [
            "c:\\Users\\nafla\\anaconda3\\Lib\\site-packages\\seaborn\\_oldcore.py:1119: FutureWarning: use_inf_as_na option is deprecated and will be removed in a future version. Convert inf values to NaN before operating instead.\n",
            "  with pd.option_context('mode.use_inf_as_na', True):\n"
          ]
        },
        {
          "data": {
            "image/png": "[encoded data removed]",
            "text/plain": [
              "<Figure size 1000x600 with 1 Axes>"
            ]
          },
          "metadata": {},
          "output_type": "display_data"
        },
        {
          "name": "stderr",
          "output_type": "stream",
          "text": [
            "c:\\Users\\nafla\\anaconda3\\Lib\\site-packages\\seaborn\\_oldcore.py:1119: FutureWarning: use_inf_as_na option is deprecated and will be removed in a future version. Convert inf values to NaN before operating instead.\n",
            "  with pd.option_context('mode.use_inf_as_na', True):\n"
          ]
        },
        {
          "data": {
            "image/png": "[encoded data removed]",
            "text/plain": [
              "<Figure size 1000x600 with 1 Axes>"
            ]
          },
          "metadata": {},
          "output_type": "display_data"
        }
      ],
      "source": [
        "# Distribution of the number of ratings per movie\n",
        "plt.figure(figsize=(10, 6))\n",
        "sns.histplot(df.groupby('movieId')['rating'].count(), kde=True, bins=30)\n",
        "plt.title('Distribution of Number of Ratings per Movie')\n",
        "plt.xlabel('Number of Ratings')\n",
        "plt.ylabel('Frequency')\n",
        "plt.show()\n",
        "\n",
        "# Distribution of the number of movies rated per user\n",
        "plt.figure(figsize=(10, 6))\n",
        "sns.histplot(df.groupby('userId')['rating'].count(), kde=True, bins=30)\n",
        "plt.title('Distribution of Number of Movies Rated per User')\n",
        "plt.xlabel('Number of Movies Rated')\n",
        "plt.ylabel('Frequency')\n",
        "plt.show()\n"
      ]
    },
    {
      "cell_type": "markdown",
      "metadata": {
        "id": "vQQIFDqZMC2I"
      },
      "source": [
        "### Detecting and Handling Outliers"
      ]
    },
    {
      "cell_type": "code",
      "execution_count": 24,
      "metadata": {
        "colab": {
          "base_uri": "https://localhost:8080/"
        },
        "id": "woWTq4jDMETB",
        "outputId": "de65052f-bd2c-4027-ca1a-f6d4ed815591"
      },
      "outputs": [
        {
          "name": "stdout",
          "output_type": "stream",
          "text": [
            "Number of outliers in 'rating': 1660\n"
          ]
        }
      ],
      "source": [
        "# Detecting outliers in 'rating' using IQR\n",
        "def count_outliers(data, feature):\n",
        "    Q1 = data[feature].quantile(0.25)\n",
        "    Q3 = data[feature].quantile(0.75)\n",
        "    IQR = Q3 - Q1\n",
        "    lower_bound = Q1 - 1.5 * IQR\n",
        "    upper_bound = Q3 + 1.5 * IQR\n",
        "\n",
        "    outliers = data.loc[(data[feature] < lower_bound) | (data[feature] > upper_bound), feature]\n",
        "    return outliers.count()\n",
        "\n",
        "Q1 = df['rating'].quantile(0.25)\n",
        "Q3 = df['rating'].quantile(0.75)\n",
        "IQR = Q3 - Q1\n",
        "lower_bound = Q1 - 1.5 * IQR\n",
        "upper_bound = Q3 + 1.5 * IQR\n",
        "\n",
        "\n",
        "# Outliers for the 'rating' column\n",
        "print(\"Number of outliers in 'rating':\", count_outliers(df, 'rating'))\n"
      ]
    },
    {
      "cell_type": "code",
      "execution_count": 25,
      "metadata": {
        "colab": {
          "base_uri": "https://localhost:8080/",
          "height": 394
        },
        "id": "5EkP08UsOqu2",
        "outputId": "c3257b55-12aa-465f-dfac-589a05471f73"
      },
      "outputs": [
        {
          "data": {
            "text/html": [
              "<div>\n",
              "<style scoped>\n",
              "    .dataframe tbody tr th:only-of-type {\n",
              "        vertical-align: middle;\n",
              "    }\n",
              "\n",
              "    .dataframe tbody tr th {\n",
              "        vertical-align: top;\n",
              "    }\n",
              "\n",
              "    .dataframe thead th {\n",
              "        text-align: right;\n",
              "    }\n",
              "</style>\n",
              "<table border=\"1\" class=\"dataframe\">\n",
              "  <thead>\n",
              "    <tr style=\"text-align: right;\">\n",
              "      <th></th>\n",
              "      <th>userId</th>\n",
              "      <th>movieId</th>\n",
              "      <th>rating</th>\n",
              "      <th>timestamp</th>\n",
              "      <th>title</th>\n",
              "      <th>genres</th>\n",
              "    </tr>\n",
              "  </thead>\n",
              "  <tbody>\n",
              "    <tr>\n",
              "      <th>0</th>\n",
              "      <td>1</td>\n",
              "      <td>1</td>\n",
              "      <td>4.0</td>\n",
              "      <td>2008-11-03 17:52:19</td>\n",
              "      <td>Toy Story (1995)</td>\n",
              "      <td>Adventure|Animation|Children|Comedy|Fantasy</td>\n",
              "    </tr>\n",
              "    <tr>\n",
              "      <th>1</th>\n",
              "      <td>2</td>\n",
              "      <td>1</td>\n",
              "      <td>5.0</td>\n",
              "      <td>1996-06-26 19:06:11</td>\n",
              "      <td>Toy Story (1995)</td>\n",
              "      <td>Adventure|Animation|Children|Comedy|Fantasy</td>\n",
              "    </tr>\n",
              "    <tr>\n",
              "      <th>2</th>\n",
              "      <td>7</td>\n",
              "      <td>1</td>\n",
              "      <td>4.0</td>\n",
              "      <td>2000-11-18 03:27:04</td>\n",
              "      <td>Toy Story (1995)</td>\n",
              "      <td>Adventure|Animation|Children|Comedy|Fantasy</td>\n",
              "    </tr>\n",
              "    <tr>\n",
              "      <th>3</th>\n",
              "      <td>10</td>\n",
              "      <td>1</td>\n",
              "      <td>3.0</td>\n",
              "      <td>2015-05-03 15:19:54</td>\n",
              "      <td>Toy Story (1995)</td>\n",
              "      <td>Adventure|Animation|Children|Comedy|Fantasy</td>\n",
              "    </tr>\n",
              "    <tr>\n",
              "      <th>4</th>\n",
              "      <td>12</td>\n",
              "      <td>1</td>\n",
              "      <td>5.0</td>\n",
              "      <td>1997-05-01 15:32:18</td>\n",
              "      <td>Toy Story (1995)</td>\n",
              "      <td>Adventure|Animation|Children|Comedy|Fantasy</td>\n",
              "    </tr>\n",
              "  </tbody>\n",
              "</table>\n",
              "</div>"
            ],
            "text/plain": [
              "   userId  movieId  rating           timestamp             title  \\\n",
              "0       1        1     4.0 2008-11-03 17:52:19  Toy Story (1995)   \n",
              "1       2        1     5.0 1996-06-26 19:06:11  Toy Story (1995)   \n",
              "2       7        1     4.0 2000-11-18 03:27:04  Toy Story (1995)   \n",
              "3      10        1     3.0 2015-05-03 15:19:54  Toy Story (1995)   \n",
              "4      12        1     5.0 1997-05-01 15:32:18  Toy Story (1995)   \n",
              "\n",
              "                                        genres  \n",
              "0  Adventure|Animation|Children|Comedy|Fantasy  \n",
              "1  Adventure|Animation|Children|Comedy|Fantasy  \n",
              "2  Adventure|Animation|Children|Comedy|Fantasy  \n",
              "3  Adventure|Animation|Children|Comedy|Fantasy  \n",
              "4  Adventure|Animation|Children|Comedy|Fantasy  "
            ]
          },
          "execution_count": 25,
          "metadata": {},
          "output_type": "execute_result"
        }
      ],
      "source": [
        "df.head()"
      ]
    },
    {
      "cell_type": "markdown",
      "metadata": {
        "id": "ribRzEtXOxuN"
      },
      "source": [
        "### Encoding Categorical Variables"
      ]
    },
    {
      "cell_type": "code",
      "execution_count": 26,
      "metadata": {
        "id": "KmcTqjchOzmV"
      },
      "outputs": [],
      "source": [
        "df_genres = df['genres'].str.get_dummies(sep='|')\n",
        "df = pd.concat([df, df_genres], axis=1)"
      ]
    },
    {
      "cell_type": "code",
      "execution_count": 27,
      "metadata": {
        "colab": {
          "base_uri": "https://localhost:8080/",
          "height": 457
        },
        "id": "AvaSQCxQO3D3",
        "outputId": "710497c3-e9ec-4ca1-c92d-541508be1f83"
      },
      "outputs": [
        {
          "data": {
            "text/html": [
              "<div>\n",
              "<style scoped>\n",
              "    .dataframe tbody tr th:only-of-type {\n",
              "        vertical-align: middle;\n",
              "    }\n",
              "\n",
              "    .dataframe tbody tr th {\n",
              "        vertical-align: top;\n",
              "    }\n",
              "\n",
              "    .dataframe thead th {\n",
              "        text-align: right;\n",
              "    }\n",
              "</style>\n",
              "<table border=\"1\" class=\"dataframe\">\n",
              "  <thead>\n",
              "    <tr style=\"text-align: right;\">\n",
              "      <th></th>\n",
              "      <th>userId</th>\n",
              "      <th>movieId</th>\n",
              "      <th>rating</th>\n",
              "      <th>timestamp</th>\n",
              "      <th>title</th>\n",
              "      <th>genres</th>\n",
              "      <th>(no genres listed)</th>\n",
              "      <th>Action</th>\n",
              "      <th>Adventure</th>\n",
              "      <th>Animation</th>\n",
              "      <th>...</th>\n",
              "      <th>Film-Noir</th>\n",
              "      <th>Horror</th>\n",
              "      <th>IMAX</th>\n",
              "      <th>Musical</th>\n",
              "      <th>Mystery</th>\n",
              "      <th>Romance</th>\n",
              "      <th>Sci-Fi</th>\n",
              "      <th>Thriller</th>\n",
              "      <th>War</th>\n",
              "      <th>Western</th>\n",
              "    </tr>\n",
              "  </thead>\n",
              "  <tbody>\n",
              "    <tr>\n",
              "      <th>0</th>\n",
              "      <td>1</td>\n",
              "      <td>1</td>\n",
              "      <td>4.0</td>\n",
              "      <td>2008-11-03 17:52:19</td>\n",
              "      <td>Toy Story (1995)</td>\n",
              "      <td>Adventure|Animation|Children|Comedy|Fantasy</td>\n",
              "      <td>0</td>\n",
              "      <td>0</td>\n",
              "      <td>1</td>\n",
              "      <td>1</td>\n",
              "      <td>...</td>\n",
              "      <td>0</td>\n",
              "      <td>0</td>\n",
              "      <td>0</td>\n",
              "      <td>0</td>\n",
              "      <td>0</td>\n",
              "      <td>0</td>\n",
              "      <td>0</td>\n",
              "      <td>0</td>\n",
              "      <td>0</td>\n",
              "      <td>0</td>\n",
              "    </tr>\n",
              "    <tr>\n",
              "      <th>1</th>\n",
              "      <td>2</td>\n",
              "      <td>1</td>\n",
              "      <td>5.0</td>\n",
              "      <td>1996-06-26 19:06:11</td>\n",
              "      <td>Toy Story (1995)</td>\n",
              "      <td>Adventure|Animation|Children|Comedy|Fantasy</td>\n",
              "      <td>0</td>\n",
              "      <td>0</td>\n",
              "      <td>1</td>\n",
              "      <td>1</td>\n",
              "      <td>...</td>\n",
              "      <td>0</td>\n",
              "      <td>0</td>\n",
              "      <td>0</td>\n",
              "      <td>0</td>\n",
              "      <td>0</td>\n",
              "      <td>0</td>\n",
              "      <td>0</td>\n",
              "      <td>0</td>\n",
              "      <td>0</td>\n",
              "      <td>0</td>\n",
              "    </tr>\n",
              "    <tr>\n",
              "      <th>2</th>\n",
              "      <td>7</td>\n",
              "      <td>1</td>\n",
              "      <td>4.0</td>\n",
              "      <td>2000-11-18 03:27:04</td>\n",
              "      <td>Toy Story (1995)</td>\n",
              "      <td>Adventure|Animation|Children|Comedy|Fantasy</td>\n",
              "      <td>0</td>\n",
              "      <td>0</td>\n",
              "      <td>1</td>\n",
              "      <td>1</td>\n",
              "      <td>...</td>\n",
              "      <td>0</td>\n",
              "      <td>0</td>\n",
              "      <td>0</td>\n",
              "      <td>0</td>\n",
              "      <td>0</td>\n",
              "      <td>0</td>\n",
              "      <td>0</td>\n",
              "      <td>0</td>\n",
              "      <td>0</td>\n",
              "      <td>0</td>\n",
              "    </tr>\n",
              "    <tr>\n",
              "      <th>3</th>\n",
              "      <td>10</td>\n",
              "      <td>1</td>\n",
              "      <td>3.0</td>\n",
              "      <td>2015-05-03 15:19:54</td>\n",
              "      <td>Toy Story (1995)</td>\n",
              "      <td>Adventure|Animation|Children|Comedy|Fantasy</td>\n",
              "      <td>0</td>\n",
              "      <td>0</td>\n",
              "      <td>1</td>\n",
              "      <td>1</td>\n",
              "      <td>...</td>\n",
              "      <td>0</td>\n",
              "      <td>0</td>\n",
              "      <td>0</td>\n",
              "      <td>0</td>\n",
              "      <td>0</td>\n",
              "      <td>0</td>\n",
              "      <td>0</td>\n",
              "      <td>0</td>\n",
              "      <td>0</td>\n",
              "      <td>0</td>\n",
              "    </tr>\n",
              "    <tr>\n",
              "      <th>4</th>\n",
              "      <td>12</td>\n",
              "      <td>1</td>\n",
              "      <td>5.0</td>\n",
              "      <td>1997-05-01 15:32:18</td>\n",
              "      <td>Toy Story (1995)</td>\n",
              "      <td>Adventure|Animation|Children|Comedy|Fantasy</td>\n",
              "      <td>0</td>\n",
              "      <td>0</td>\n",
              "      <td>1</td>\n",
              "      <td>1</td>\n",
              "      <td>...</td>\n",
              "      <td>0</td>\n",
              "      <td>0</td>\n",
              "      <td>0</td>\n",
              "      <td>0</td>\n",
              "      <td>0</td>\n",
              "      <td>0</td>\n",
              "      <td>0</td>\n",
              "      <td>0</td>\n",
              "      <td>0</td>\n",
              "      <td>0</td>\n",
              "    </tr>\n",
              "  </tbody>\n",
              "</table>\n",
              "<p>5 rows × 26 columns</p>\n",
              "</div>"
            ],
            "text/plain": [
              "   userId  movieId  rating           timestamp             title  \\\n",
              "0       1        1     4.0 2008-11-03 17:52:19  Toy Story (1995)   \n",
              "1       2        1     5.0 1996-06-26 19:06:11  Toy Story (1995)   \n",
              "2       7        1     4.0 2000-11-18 03:27:04  Toy Story (1995)   \n",
              "3      10        1     3.0 2015-05-03 15:19:54  Toy Story (1995)   \n",
              "4      12        1     5.0 1997-05-01 15:32:18  Toy Story (1995)   \n",
              "\n",
              "                                        genres  (no genres listed)  Action  \\\n",
              "0  Adventure|Animation|Children|Comedy|Fantasy                   0       0   \n",
              "1  Adventure|Animation|Children|Comedy|Fantasy                   0       0   \n",
              "2  Adventure|Animation|Children|Comedy|Fantasy                   0       0   \n",
              "3  Adventure|Animation|Children|Comedy|Fantasy                   0       0   \n",
              "4  Adventure|Animation|Children|Comedy|Fantasy                   0       0   \n",
              "\n",
              "   Adventure  Animation  ...  Film-Noir  Horror  IMAX  Musical  Mystery  \\\n",
              "0          1          1  ...          0       0     0        0        0   \n",
              "1          1          1  ...          0       0     0        0        0   \n",
              "2          1          1  ...          0       0     0        0        0   \n",
              "3          1          1  ...          0       0     0        0        0   \n",
              "4          1          1  ...          0       0     0        0        0   \n",
              "\n",
              "   Romance  Sci-Fi  Thriller  War  Western  \n",
              "0        0       0         0    0        0  \n",
              "1        0       0         0    0        0  \n",
              "2        0       0         0    0        0  \n",
              "3        0       0         0    0        0  \n",
              "4        0       0         0    0        0  \n",
              "\n",
              "[5 rows x 26 columns]"
            ]
          },
          "execution_count": 27,
          "metadata": {},
          "output_type": "execute_result"
        }
      ],
      "source": [
        "df.head()"
      ]
    },
    {
      "cell_type": "markdown",
      "metadata": {
        "id": "ZerBW4WCPNe6"
      },
      "source": [
        "### Creating New Features"
      ]
    },
    {
      "cell_type": "code",
      "execution_count": 28,
      "metadata": {
        "id": "whyGKeYmPOPj"
      },
      "outputs": [],
      "source": [
        "# Extracting the number of genres per movie as a new feature\n",
        "df['num_genres'] = df['genres'].apply(lambda x: len(x.split('|')))"
      ]
    },
    {
      "cell_type": "code",
      "execution_count": 29,
      "metadata": {
        "colab": {
          "base_uri": "https://localhost:8080/",
          "height": 457
        },
        "id": "gin618S3PdxU",
        "outputId": "503cf516-8f81-4f91-c1c3-6b991c1d5b25"
      },
      "outputs": [
        {
          "data": {
            "text/html": [
              "<div>\n",
              "<style scoped>\n",
              "    .dataframe tbody tr th:only-of-type {\n",
              "        vertical-align: middle;\n",
              "    }\n",
              "\n",
              "    .dataframe tbody tr th {\n",
              "        vertical-align: top;\n",
              "    }\n",
              "\n",
              "    .dataframe thead th {\n",
              "        text-align: right;\n",
              "    }\n",
              "</style>\n",
              "<table border=\"1\" class=\"dataframe\">\n",
              "  <thead>\n",
              "    <tr style=\"text-align: right;\">\n",
              "      <th></th>\n",
              "      <th>userId</th>\n",
              "      <th>movieId</th>\n",
              "      <th>rating</th>\n",
              "      <th>timestamp</th>\n",
              "      <th>title</th>\n",
              "      <th>genres</th>\n",
              "      <th>(no genres listed)</th>\n",
              "      <th>Action</th>\n",
              "      <th>Adventure</th>\n",
              "      <th>Animation</th>\n",
              "      <th>...</th>\n",
              "      <th>Horror</th>\n",
              "      <th>IMAX</th>\n",
              "      <th>Musical</th>\n",
              "      <th>Mystery</th>\n",
              "      <th>Romance</th>\n",
              "      <th>Sci-Fi</th>\n",
              "      <th>Thriller</th>\n",
              "      <th>War</th>\n",
              "      <th>Western</th>\n",
              "      <th>num_genres</th>\n",
              "    </tr>\n",
              "  </thead>\n",
              "  <tbody>\n",
              "    <tr>\n",
              "      <th>0</th>\n",
              "      <td>1</td>\n",
              "      <td>1</td>\n",
              "      <td>4.0</td>\n",
              "      <td>2008-11-03 17:52:19</td>\n",
              "      <td>Toy Story (1995)</td>\n",
              "      <td>Adventure|Animation|Children|Comedy|Fantasy</td>\n",
              "      <td>0</td>\n",
              "      <td>0</td>\n",
              "      <td>1</td>\n",
              "      <td>1</td>\n",
              "      <td>...</td>\n",
              "      <td>0</td>\n",
              "      <td>0</td>\n",
              "      <td>0</td>\n",
              "      <td>0</td>\n",
              "      <td>0</td>\n",
              "      <td>0</td>\n",
              "      <td>0</td>\n",
              "      <td>0</td>\n",
              "      <td>0</td>\n",
              "      <td>5</td>\n",
              "    </tr>\n",
              "    <tr>\n",
              "      <th>1</th>\n",
              "      <td>2</td>\n",
              "      <td>1</td>\n",
              "      <td>5.0</td>\n",
              "      <td>1996-06-26 19:06:11</td>\n",
              "      <td>Toy Story (1995)</td>\n",
              "      <td>Adventure|Animation|Children|Comedy|Fantasy</td>\n",
              "      <td>0</td>\n",
              "      <td>0</td>\n",
              "      <td>1</td>\n",
              "      <td>1</td>\n",
              "      <td>...</td>\n",
              "      <td>0</td>\n",
              "      <td>0</td>\n",
              "      <td>0</td>\n",
              "      <td>0</td>\n",
              "      <td>0</td>\n",
              "      <td>0</td>\n",
              "      <td>0</td>\n",
              "      <td>0</td>\n",
              "      <td>0</td>\n",
              "      <td>5</td>\n",
              "    </tr>\n",
              "    <tr>\n",
              "      <th>2</th>\n",
              "      <td>7</td>\n",
              "      <td>1</td>\n",
              "      <td>4.0</td>\n",
              "      <td>2000-11-18 03:27:04</td>\n",
              "      <td>Toy Story (1995)</td>\n",
              "      <td>Adventure|Animation|Children|Comedy|Fantasy</td>\n",
              "      <td>0</td>\n",
              "      <td>0</td>\n",
              "      <td>1</td>\n",
              "      <td>1</td>\n",
              "      <td>...</td>\n",
              "      <td>0</td>\n",
              "      <td>0</td>\n",
              "      <td>0</td>\n",
              "      <td>0</td>\n",
              "      <td>0</td>\n",
              "      <td>0</td>\n",
              "      <td>0</td>\n",
              "      <td>0</td>\n",
              "      <td>0</td>\n",
              "      <td>5</td>\n",
              "    </tr>\n",
              "    <tr>\n",
              "      <th>3</th>\n",
              "      <td>10</td>\n",
              "      <td>1</td>\n",
              "      <td>3.0</td>\n",
              "      <td>2015-05-03 15:19:54</td>\n",
              "      <td>Toy Story (1995)</td>\n",
              "      <td>Adventure|Animation|Children|Comedy|Fantasy</td>\n",
              "      <td>0</td>\n",
              "      <td>0</td>\n",
              "      <td>1</td>\n",
              "      <td>1</td>\n",
              "      <td>...</td>\n",
              "      <td>0</td>\n",
              "      <td>0</td>\n",
              "      <td>0</td>\n",
              "      <td>0</td>\n",
              "      <td>0</td>\n",
              "      <td>0</td>\n",
              "      <td>0</td>\n",
              "      <td>0</td>\n",
              "      <td>0</td>\n",
              "      <td>5</td>\n",
              "    </tr>\n",
              "    <tr>\n",
              "      <th>4</th>\n",
              "      <td>12</td>\n",
              "      <td>1</td>\n",
              "      <td>5.0</td>\n",
              "      <td>1997-05-01 15:32:18</td>\n",
              "      <td>Toy Story (1995)</td>\n",
              "      <td>Adventure|Animation|Children|Comedy|Fantasy</td>\n",
              "      <td>0</td>\n",
              "      <td>0</td>\n",
              "      <td>1</td>\n",
              "      <td>1</td>\n",
              "      <td>...</td>\n",
              "      <td>0</td>\n",
              "      <td>0</td>\n",
              "      <td>0</td>\n",
              "      <td>0</td>\n",
              "      <td>0</td>\n",
              "      <td>0</td>\n",
              "      <td>0</td>\n",
              "      <td>0</td>\n",
              "      <td>0</td>\n",
              "      <td>5</td>\n",
              "    </tr>\n",
              "  </tbody>\n",
              "</table>\n",
              "<p>5 rows × 27 columns</p>\n",
              "</div>"
            ],
            "text/plain": [
              "   userId  movieId  rating           timestamp             title  \\\n",
              "0       1        1     4.0 2008-11-03 17:52:19  Toy Story (1995)   \n",
              "1       2        1     5.0 1996-06-26 19:06:11  Toy Story (1995)   \n",
              "2       7        1     4.0 2000-11-18 03:27:04  Toy Story (1995)   \n",
              "3      10        1     3.0 2015-05-03 15:19:54  Toy Story (1995)   \n",
              "4      12        1     5.0 1997-05-01 15:32:18  Toy Story (1995)   \n",
              "\n",
              "                                        genres  (no genres listed)  Action  \\\n",
              "0  Adventure|Animation|Children|Comedy|Fantasy                   0       0   \n",
              "1  Adventure|Animation|Children|Comedy|Fantasy                   0       0   \n",
              "2  Adventure|Animation|Children|Comedy|Fantasy                   0       0   \n",
              "3  Adventure|Animation|Children|Comedy|Fantasy                   0       0   \n",
              "4  Adventure|Animation|Children|Comedy|Fantasy                   0       0   \n",
              "\n",
              "   Adventure  Animation  ...  Horror  IMAX  Musical  Mystery  Romance  Sci-Fi  \\\n",
              "0          1          1  ...       0     0        0        0        0       0   \n",
              "1          1          1  ...       0     0        0        0        0       0   \n",
              "2          1          1  ...       0     0        0        0        0       0   \n",
              "3          1          1  ...       0     0        0        0        0       0   \n",
              "4          1          1  ...       0     0        0        0        0       0   \n",
              "\n",
              "   Thriller  War  Western  num_genres  \n",
              "0         0    0        0           5  \n",
              "1         0    0        0           5  \n",
              "2         0    0        0           5  \n",
              "3         0    0        0           5  \n",
              "4         0    0        0           5  \n",
              "\n",
              "[5 rows x 27 columns]"
            ]
          },
          "execution_count": 29,
          "metadata": {},
          "output_type": "execute_result"
        }
      ],
      "source": [
        "df.head()"
      ]
    },
    {
      "cell_type": "code",
      "execution_count": 30,
      "metadata": {
        "colab": {
          "base_uri": "https://localhost:8080/"
        },
        "id": "6sP1gpEvhQ_A",
        "outputId": "10f999a3-3d9a-4db7-babd-f8b9121e1c6c"
      },
      "outputs": [
        {
          "name": "stdout",
          "output_type": "stream",
          "text": [
            "Spearman's Correlation Coefficient: 0.0031106949888586475, P-value: 0.27075241756247964\n",
            "There is no statistically significant correlation between 'rating' and 'num_genres'.\n"
          ]
        }
      ],
      "source": [
        "# Correlation between 'rating' and 'num_genres'\n",
        "spearman_corr, spearman_p_value = spearmanr(df['rating'], df['num_genres'])\n",
        "print(f\"Spearman's Correlation Coefficient: {spearman_corr}, P-value: {spearman_p_value}\")\n",
        "\n",
        "# Interpretation of Spearman's correlation\n",
        "if spearman_p_value < 0.05:\n",
        "    if spearman_corr > 0:\n",
        "        print(\"There is a statistically significant positive correlation between 'rating' and 'num_genres'.\")\n",
        "    elif spearman_corr < 0:\n",
        "        print(\"There is a statistically significant negative correlation between 'rating' and 'num_genres'.\")\n",
        "    else:\n",
        "        print(\"There is a statistically significant but no linear correlation between 'rating' and 'num_genres'.\")\n",
        "else:\n",
        "    print(\"There is no statistically significant correlation between 'rating' and 'num_genres'.\")\n"
      ]
    },
    {
      "cell_type": "markdown",
      "metadata": {
        "id": "YdwzN29MZ5cK"
      },
      "source": [
        "## Model Implementation"
      ]
    },
    {
      "cell_type": "markdown",
      "metadata": {
        "id": "zA_xgX6t9ex8"
      },
      "source": [
        "### 1. Create Train/Validation/Test Datasets"
      ]
    },
    {
      "cell_type": "code",
      "execution_count": 31,
      "metadata": {
        "id": "Xv7X5xFI9jNp"
      },
      "outputs": [],
      "source": [
        "# splitting the data into three parts: training, validation, and testing datasets.\n",
        "\n",
        "train_data, temp_data = train_test_split(df, test_size=0.4, random_state=42)\n",
        "validation_data, test_data = train_test_split(temp_data, test_size=0.5, random_state=42)"
      ]
    },
    {
      "cell_type": "markdown",
      "metadata": {
        "id": "uhQJgx8Camsz"
      },
      "source": [
        "### 2. Preprocessing Data"
      ]
    },
    {
      "cell_type": "markdown",
      "metadata": {},
      "source": [
        " This part prepares the user-item matrices, fills missing values with 0, and then converts these matrices into sparse matrix format."
      ]
    },
    {
      "cell_type": "code",
      "execution_count": 32,
      "metadata": {
        "id": "eEl7mInSDqN3"
      },
      "outputs": [],
      "source": [
        "def create_user_item_matrix(df):    #This line creates a user-item matrix using pivot_table and fills missing values with 0.\n",
        "    \"\"\"\n",
        "    Transforms the DataFrame into a user-item matrix\n",
        "    \"\"\"\n",
        "    pivot_table = df.pivot(index='userId', columns='movieId', values='rating').fillna(0)\n",
        "    return pivot_table\n",
        "\n",
        "train_matrix_df = create_user_item_matrix(train_data)\n",
        "validation_matrix_df = create_user_item_matrix(validation_data)\n",
        "test_matrix_df = create_user_item_matrix(test_data)\n",
        "\n",
        "\n",
        "# Convert the DataFrame to a sparse matrix\n",
        "train_matrix = csr_matrix(train_matrix_df.values)\n",
        "validation_matrix = csr_matrix(validation_matrix_df.values)\n",
        "test_matrix = csr_matrix(test_matrix_df.values)"
      ]
    },
    {
      "cell_type": "markdown",
      "metadata": {
        "id": "deTeDWh5ZlKv"
      },
      "source": [
        "### 3. Applying SVD on Training Data"
      ]
    },
    {
      "cell_type": "code",
      "execution_count": 33,
      "metadata": {
        "id": "0ZJtgHEJRgs3"
      },
      "outputs": [],
      "source": [
        "# Performs Singular Value Decomposition on the training matrix (the CSR matrix)\n",
        "U, sigma, Vt = svds(train_matrix, k=50)  # k is the number of singular values and vectors\n",
        "sigma_diag_matrix = np.diag(sigma)\n",
        "\n",
        "# Convert the matrices back to DataFrames for easier interpretation and processing\n",
        "user_factors_df = pd.DataFrame(U, index=train_matrix_df.index)\n",
        "movie_factors_df = pd.DataFrame(Vt.T, index=train_matrix_df.columns)  # Transpose Vt to align with movie IDs"
      ]
    },
    {
      "cell_type": "markdown",
      "metadata": {},
      "source": [
        "### 4. Prediction Function"
      ]
    },
    {
      "cell_type": "code",
      "execution_count": 34,
      "metadata": {
        "id": "-EUmrvyGUA0s"
      },
      "outputs": [],
      "source": [
        "def predict_ratings(user_factors, sigma_diag_matrix, item_factors, user_item_matrix):\n",
        "    # Prediction using dot product\n",
        "    predictions = np.dot(np.dot(user_factors, sigma_diag_matrix), item_factors.T)\n",
        "\n",
        "    # Convert predictions to a DataFrame with the same structure as the training set\n",
        "    preds_df_temp = pd.DataFrame(predictions, columns=train_matrix_df.columns, index=train_matrix_df.index)\n",
        "\n",
        "    # Reindex the predictions DataFrame to match the validation/test user-item matrix, filling missing values with 0\n",
        "    preds_df = preds_df_temp.reindex(index=user_item_matrix.index, columns=user_item_matrix.columns, fill_value=0)\n",
        "\n",
        "    return preds_df"
      ]
    },
    {
      "cell_type": "markdown",
      "metadata": {},
      "source": [
        "### 5. Evaluation Function"
      ]
    },
    {
      "cell_type": "code",
      "execution_count": 35,
      "metadata": {
        "id": "IlL3QL-IUHOw"
      },
      "outputs": [],
      "source": [
        "# Evaluate the model's accuracy function remains unchanged\n",
        "def evaluate_accuracy(predictions_df, actual_matrix_df):\n",
        "    predicted_ratings = predictions_df.values.flatten()\n",
        "    actual_ratings = actual_matrix_df.values.flatten()\n",
        "\n",
        "    non_zero_indices = actual_ratings.nonzero() # finds the indices where actual ratings are non-zero. \n",
        "    actual_ratings_filtered = actual_ratings[non_zero_indices] # filters out the actual ratings corresponding to the non-zero indices found in the previous step.\n",
        "    predicted_ratings_filtered = predicted_ratings[non_zero_indices]\n",
        "\n",
        "    rmse = math.sqrt(mean_squared_error(actual_ratings_filtered, predicted_ratings_filtered))\n",
        "    mae = mean_absolute_error(actual_ratings_filtered, predicted_ratings_filtered)\n",
        "\n",
        "    return rmse, mae"
      ]
    },
    {
      "cell_type": "code",
      "execution_count": 36,
      "metadata": {
        "colab": {
          "base_uri": "https://localhost:8080/"
        },
        "id": "s2vDHFqSUKVc",
        "outputId": "5859fb70-bb0a-43ba-d088-8172add49472"
      },
      "outputs": [
        {
          "name": "stdout",
          "output_type": "stream",
          "text": [
            "Validation RMSE: 3.375471440216466, Validation MAE: 3.185848849888439\n"
          ]
        }
      ],
      "source": [
        "# Evaluate on validation set\n",
        "validation_preds_df = predict_ratings(U, sigma_diag_matrix, movie_factors_df, validation_matrix_df)\n",
        "validation_rmse, validation_mae = evaluate_accuracy(validation_preds_df, validation_matrix_df)\n",
        "print(f\"Validation RMSE: {validation_rmse}, Validation MAE: {validation_mae}\")\n"
      ]
    },
    {
      "cell_type": "code",
      "execution_count": 37,
      "metadata": {
        "colab": {
          "base_uri": "https://localhost:8080/"
        },
        "id": "jg3zDYoMVVKQ",
        "outputId": "73084234-dc2c-4d58-ea37-4dbe315484d2"
      },
      "outputs": [
        {
          "name": "stdout",
          "output_type": "stream",
          "text": [
            "Test RMSE: 3.372914002810467, Test MAE: 3.178107781669154\n"
          ]
        }
      ],
      "source": [
        "# Final evaluation on the test set\n",
        "test_preds_df = predict_ratings(U, sigma_diag_matrix, movie_factors_df, test_matrix_df)\n",
        "test_rmse, test_mae = evaluate_accuracy(test_preds_df, test_matrix_df)\n",
        "print(f\"Test RMSE: {test_rmse}, Test MAE: {test_mae}\")\n"
      ]
    },
    {
      "cell_type": "markdown",
      "metadata": {},
      "source": [
        "### 6. Recommendation"
      ]
    },
    {
      "cell_type": "code",
      "execution_count": 38,
      "metadata": {
        "id": "xJskXn3RZdep"
      },
      "outputs": [],
      "source": [
        "def recommend_movies(predictions_df, userID, movies_df, original_ratings_df, num_recommendations=5):\n",
        "    user_row_number = predictions_df.index.get_loc(userID)  # Find the user's index\n",
        "    sorted_user_predictions = predictions_df.iloc[user_row_number].sort_values(ascending=False).reset_index()\n",
        "    sorted_user_predictions.columns = ['movieId', 'Predictions']\n",
        "\n",
        "    user_data = original_ratings_df[original_ratings_df.userId == userID] # retrieves the original ratings data for the specified user\n",
        "\n",
        "    recommendations = (movies_df[~movies_df['movieId'].isin(user_data['movieId'])]\n",
        "                       .merge(sorted_user_predictions, on='movieId')\n",
        "                       .sort_values('Predictions', ascending=False)\n",
        "                       .iloc[:num_recommendations, :])[['title', 'Predictions']]\n",
        "\n",
        "    return recommendations\n",
        "\n",
        "\n"
      ]
    },
    {
      "cell_type": "code",
      "execution_count": 39,
      "metadata": {
        "colab": {
          "base_uri": "https://localhost:8080/"
        },
        "id": "QxJQOk1RZinQ",
        "outputId": "f06200f2-6150-4456-c966-8d90708170d7"
      },
      "outputs": [
        {
          "name": "stdout",
          "output_type": "stream",
          "text": [
            "Recommendations for User ID 10:\n",
            "Dark Knight, The (2008) - Rating Prediction: 4.69\n",
            "Lord of the Rings: The Fellowship of the Ring, The (2001) - Rating Prediction: 4.56\n",
            "Lord of the Rings: The Return of the King, The (2003) - Rating Prediction: 4.13\n",
            "Lord of the Rings: The Two Towers, The (2002) - Rating Prediction: 3.67\n",
            "Matrix, The (1999) - Rating Prediction: 3.02\n"
          ]
        }
      ],
      "source": [
        "user_id = 10  # Example user ID\n",
        "recommendations = recommend_movies(validation_preds_df, user_id, movies, validation_data, 5)\n",
        "\n",
        "print(f\"Recommendations for User ID {user_id}:\")\n",
        "for index, row in recommendations.iterrows():\n",
        "    print(f\"{row['title']} - Rating Prediction: {row['Predictions']:.2f}\")"
      ]
    },
    {
      "cell_type": "markdown",
      "metadata": {
        "id": "dNsBsTMHO-Al"
      },
      "source": [
        "## SVD++"
      ]
    },
    {
      "cell_type": "markdown",
      "metadata": {},
      "source": [
        "### Random Sampling"
      ]
    },
    {
      "cell_type": "code",
      "execution_count": 40,
      "metadata": {
        "id": "1RLjOP3Gb3eJ"
      },
      "outputs": [],
      "source": [
        "# Calculate the number of rows corresponding to 10% of the DataFrame\n",
        "sample_size = int(len(df) * 0.01)\n",
        "\n",
        "# Take a sample of 10% of the DataFrame at the beginning\n",
        "sampled_df = df.iloc[:sample_size]"
      ]
    },
    {
      "cell_type": "code",
      "execution_count": 41,
      "metadata": {
        "id": "o1k-uq_0PB_G"
      },
      "outputs": [],
      "source": [
        "num_users = sampled_df['userId'].nunique()\n",
        "num_items = sampled_df['movieId'].nunique()\n",
        "num_factors = 50  # This is an arbitrary choice\n"
      ]
    },
    {
      "cell_type": "markdown",
      "metadata": {},
      "source": [
        "### Creating Implicit Feedback"
      ]
    },
    {
      "cell_type": "code",
      "execution_count": 42,
      "metadata": {
        "colab": {
          "base_uri": "https://localhost:8080/"
        },
        "id": "v4PZlsxWOe8S",
        "outputId": "15bbc0d6-2cb7-4395-93e0-392527c98e65"
      },
      "outputs": [
        {
          "name": "stderr",
          "output_type": "stream",
          "text": [
            "C:\\Users\\nafla\\AppData\\Local\\Temp\\ipykernel_8528\\303424862.py:2: SettingWithCopyWarning: \n",
            "A value is trying to be set on a copy of a slice from a DataFrame.\n",
            "Try using .loc[row_indexer,col_indexer] = value instead\n",
            "\n",
            "See the caveats in the documentation: https://pandas.pydata.org/pandas-docs/stable/user_guide/indexing.html#returning-a-view-versus-a-copy\n",
            "  sampled_df['implicit_feedback'] = 1  # Indicates interaction\n"
          ]
        }
      ],
      "source": [
        "# Creating a binary implicit feedback dataset from the ratings data\n",
        "sampled_df['implicit_feedback'] = 1  # Indicates interaction\n"
      ]
    },
    {
      "cell_type": "code",
      "execution_count": 43,
      "metadata": {
        "id": "xV3k6mdvRshU"
      },
      "outputs": [],
      "source": [
        "# Now we need to update the implicit feedback column based on certain conditions,\n",
        "# for example, we can set it to 1 if the rating is above a certain threshold.\n",
        "# we consider ratings above 3 as implicit positive feedback.\n",
        "\n",
        "sampled_df.loc[df['rating'] > 3, 'implicit_feedback'] = 1\n"
      ]
    },
    {
      "cell_type": "code",
      "execution_count": 44,
      "metadata": {
        "id": "RQZ4MCZuOiRW"
      },
      "outputs": [],
      "source": [
        "# Initialize implicit user factors randomly\n",
        "# Assuming 'num_users' and 'num_factors' are defined\n",
        "user_factors_implicit = np.random.normal(0, .1, (num_users, num_factors))\n"
      ]
    },
    {
      "cell_type": "markdown",
      "metadata": {},
      "source": [
        "### Splitting the Data"
      ]
    },
    {
      "cell_type": "code",
      "execution_count": 45,
      "metadata": {
        "colab": {
          "base_uri": "https://localhost:8080/"
        },
        "id": "yPRwbK6Od-1q",
        "outputId": "9d1df2ae-fd00-4893-fb48-7be40487eb02"
      },
      "outputs": [
        {
          "name": "stdout",
          "output_type": "stream",
          "text": [
            "Train data shape: (751, 28)\n",
            "Validation data shape: (251, 28)\n",
            "Test data shape: (251, 28)\n"
          ]
        }
      ],
      "source": [
        "from sklearn.model_selection import train_test_split\n",
        "\n",
        "# Split the data into training and temporary data\n",
        "train_data, temp_data = train_test_split(sampled_df, test_size=0.4, random_state=42)\n",
        "\n",
        "# Further split the temporary data into validation and testing sets\n",
        "validation_data, test_data = train_test_split(temp_data, test_size=0.5, random_state=42)\n",
        "\n",
        "print(\"Train data shape:\", train_data.shape)\n",
        "print(\"Validation data shape:\", validation_data.shape)\n",
        "print(\"Test data shape:\", test_data.shape)\n"
      ]
    },
    {
      "cell_type": "code",
      "execution_count": 46,
      "metadata": {
        "id": "3gpBFcIzWBR7"
      },
      "outputs": [],
      "source": [
        "# Convert the DataFrame to a CSR matrix\n",
        "train_matrix_csr = csr_matrix(train_matrix_df.values)\n",
        "validation_matrix_csr = csr_matrix(validation_matrix_df.values)"
      ]
    },
    {
      "cell_type": "markdown",
      "metadata": {},
      "source": [
        "### Prediction Function\n",
        "The function predicts user-item ratings by combining explicit and implicit feedback through a variant of Singular Value Decomposition with Probabilistic Matrix Factorization (SVD++). It adjusts implicit user factors based on confidence factors derived from the number of items rated by each user. Predictions are computed iteratively for each user, considering both explicit and adjusted implicit feedback, and then converted into a DataFrame format for easy interpretation and further analysis."
      ]
    },
    {
      "cell_type": "code",
      "execution_count": 48,
      "metadata": {
        "id": "1Ui0NXsOPQrO"
      },
      "outputs": [],
      "source": [
        "def predict_ratings_svdpp_csr(user_factors_explicit, sigma_diag_matrix, item_factors, user_implicit_factors, user_item_matrix):\n",
        "    # Calculate the contribution of implicit feedback for each user\n",
        "\n",
        "    # Calculate the confidence factors based on the number of items rated by each user\n",
        "    confidence_factors = np.sqrt(np.array(user_item_matrix.sum(axis=1)))\n",
        "\n",
        "    # Adjust the implicit user factors by confidence factors\n",
        "    user_factors_implicit_adjusted = user_implicit_factors * confidence_factors[:, np.newaxis]\n",
        "\n",
        "    # Initialize an empty array to store predictions\n",
        "    predictions = []\n",
        "\n",
        "    # Reshape implicit feedback to match the number of rows in user_factors_implicit_adjusted\n",
        "    implicit_feedback_repeated = np.repeat(user_factors_implicit_adjusted, user_item_matrix.shape[1], axis=1)\n",
        "\n",
        "    # Iterate over users to compute predictions\n",
        "    for i in range(user_factors_explicit.shape[0]):\n",
        "        # Compute prediction for the ith user\n",
        "        user_prediction = np.dot(user_factors_explicit[i, :], sigma_diag_matrix) @ item_factors.T\n",
        "\n",
        "        # Add the contribution of implicit feedback\n",
        "        implicit_feedback = implicit_feedback_repeated[i, :]\n",
        "\n",
        "        # Compute the final prediction for the ith user\n",
        "        user_prediction += implicit_feedback\n",
        "\n",
        "        # Append the prediction for the ith user to the list\n",
        "        predictions.append(user_prediction)\n",
        "\n",
        "    # Convert predictions list to array\n",
        "    predictions_array = np.array(predictions)\n",
        "\n",
        "    # Convert predictions array to DataFrame\n",
        "    preds_df = pd.DataFrame(predictions_array, columns=user_item_matrix.columns, index=user_item_matrix.index)\n",
        "\n",
        "    return preds_df\n",
        "\n"
      ]
    },
    {
      "cell_type": "code",
      "execution_count": null,
      "metadata": {},
      "outputs": [],
      "source": [
        "# # For example, to predict ratings on the validation set using CSR matrices:\n",
        "# validation_preds_df_svdpp_csr = predict_ratings_svdpp_csr(U, sigma_diag_matrix, Vt.T, user_factors_implicit, validation_matrix_csr)\n"
      ]
    },
    {
      "cell_type": "markdown",
      "metadata": {},
      "source": [
        "##### Because of the computational issues, we couldn't go further without using the Surprise library #####"
      ]
    },
    {
      "cell_type": "markdown",
      "metadata": {},
      "source": [
        "## SVD With surprise library"
      ]
    },
    {
      "cell_type": "code",
      "execution_count": 50,
      "metadata": {},
      "outputs": [],
      "source": [
        "from surprise import Dataset, Reader, SVD\n",
        "from surprise.model_selection import train_test_split\n",
        "from surprise.accuracy import rmse\n",
        "from surprise.model_selection import GridSearchCV"
      ]
    },
    {
      "cell_type": "code",
      "execution_count": 51,
      "metadata": {},
      "outputs": [],
      "source": [
        "# Defining rating scale\n",
        "reader = Reader(rating_scale=(1, 5))\n",
        "# Loading data to surprise data set\n",
        "data = Dataset.load_from_df(df[['userId', 'movieId', 'rating']], reader)"
      ]
    },
    {
      "cell_type": "markdown",
      "metadata": {},
      "source": [
        "### Hyperparameter Tuning with Grid Search in Surprise Package\n",
        "\n",
        "\n",
        "1. **Define Hyperparameters**: The `param_grid` dictionary defines a grid of hyperparameters that we want to search over. It includes parameters such as `n_epochs`, `lr_all`, `reg_all`, and `n_factors`.\n",
        "\n",
        "2. **Create GridSearchCV Object**: We create a `GridSearchCV` object named `grid_search`. This object is configured with:\n",
        "   - The algorithm class (`SVD` in this case) that we want to tune.\n",
        "   - The parameter grid defined earlier (`param_grid`).\n",
        "   - Evaluation measures (`\"rmse\"` and `\"mae\"`).\n",
        "   - Number of folds for cross-validation (`cv=5` for 5-fold cross-validation).\n",
        "\n",
        "3. **Fit GridSearchCV Object**: We fit the `GridSearchCV` object to our data (`data`). This performs an exhaustive search over the hyperparameter grid and evaluates each combination using cross-validation.\n",
        "\n",
        "4. **Get Best Hyperparameters**: After fitting, we access the best hyperparameters found by the grid search using `best_score` and `best_params` attributes.\n",
        "\n",
        "5. **Print Results**: Finally, we print out the best RMSE score achieved and the corresponding best hyperparameters.\n"
      ]
    },
    {
      "cell_type": "code",
      "execution_count": 52,
      "metadata": {},
      "outputs": [
        {
          "name": "stdout",
          "output_type": "stream",
          "text": [
            "Best rmse: 0.9078712679734575\n",
            "Best hyperparameters: {'n_epochs': 10, 'lr_all': 0.005, 'reg_all': 0.4, 'n_factors': 10}\n"
          ]
        }
      ],
      "source": [
        "# Define params for gread search\n",
        "\n",
        "# n_epochs: The total number of iterations over the entire dataset during the training process.\n",
        "# lr_all: The learning rate for all parameters, controlling the step size in the gradient descent optimization.\n",
        "# reg_all: The regularization term for all parameters, used to penalize larger parameter values to prevent overfitting.\n",
        "# n_factors: The number of latent factors to use, which represents the dimensionality of the user/item feature space.\n",
        "\n",
        "param_grid = {\"n_epochs\": [5, 10], \"lr_all\": [0.002, 0.005], \"reg_all\": [0.4, 0.6], \"n_factors\": [5 ,10 ,30 ,50, 100, 150]}\n",
        "\n",
        "# Create a GridSearchCV object\n",
        "grid_search = GridSearchCV(SVD, param_grid, measures=[\"rmse\", \"mae\"], cv=5)\n",
        "\n",
        "# Fit the GridSearchCV object\n",
        "grid_search.fit(data)\n",
        "\n",
        "# Get the best hyperparameters\n",
        "# best RMSE score\n",
        "print(\"Best rmse:\", grid_search.best_score[\"rmse\"])\n",
        "\n",
        "# combination of parameters that gave the best RMSE score\n",
        "print(\"Best hyperparameters:\", grid_search.best_params[\"rmse\"])"
      ]
    },
    {
      "cell_type": "code",
      "execution_count": 53,
      "metadata": {},
      "outputs": [
        {
          "data": {
            "text/plain": [
              "<surprise.prediction_algorithms.matrix_factorization.SVD at 0x2f77ca706d0>"
            ]
          },
          "execution_count": 53,
          "metadata": {},
          "output_type": "execute_result"
        }
      ],
      "source": [
        "# fit the algorithm that yields the best rmse:\n",
        "algo = grid_search.best_estimator[\"rmse\"]\n",
        "algo.fit(data.build_full_trainset())"
      ]
    },
    {
      "cell_type": "code",
      "execution_count": 56,
      "metadata": {},
      "outputs": [
        {
          "name": "stdout",
          "output_type": "stream",
          "text": [
            "Predicted rating: 3.584323220397125\n"
          ]
        }
      ],
      "source": [
        "# Predict rating for a specific user-item pair\n",
        "user_id = '1'\n",
        "item_id = '1'\n",
        "predicted_rating = algo.predict(user_id, item_id)\n",
        "print(\"Predicted rating:\", predicted_rating.est)"
      ]
    },
    {
      "cell_type": "markdown",
      "metadata": {},
      "source": [
        "###  Defining movie recommendation function\n",
        "\n",
        "This function `recommend_top_n_unseen_movies` recommends the top N unseen movies to a given user based on a trained model. Here's an explanation of the function:\n",
        "\n",
        "- **Parameters**:\n",
        "  - `user_id`: ID of the user for whom recommendations are to be made.\n",
        "  - `model`: Trained recommender system model (e.g., SVD or SVD++).\n",
        "  - `movies_df`: DataFrame containing information about movies, including MovieID and MovieTitle.\n",
        "  - `n`: Number of recommendations to be made (default is 10).\n",
        "\n",
        "**Steps**:\n",
        "1. **Get Rated Movie IDs**: Extract the movie IDs rated by the user from the dataset.\n",
        "2. **Get All Movie IDs**: Retrieve all unique movie IDs available in the dataset.\n",
        "3. **Identify Unseen Movies**: Find the movie IDs that the user has not rated (unseen movies).\n",
        "4. **Predict Ratings**: Use the trained model to predict ratings for the unseen movies.\n",
        "5. **Sort Predictions**: Sort the predicted ratings in descending order to identify the top N predictions.\n",
        "6. **Get Movie Titles**: Retrieve the movie titles corresponding to the top N predicted ratings.\n",
        "7. **Return Recommendations**: Return the top N recommended movies along with their IDs, titles, and predicted ratings.\n",
        "\n",
        "**Output**:\n",
        "The function returns a list of tuples, where each tuple contains the MovieID, MovieTitle, and predicted rating for one of the top N recommended movies.\n",
        "\n",
        "This function simplifies the process of recommending movies to users by automating the steps involved in predicting ratings for unseen movies and selecting the top recommendations based on these ratings."
      ]
    },
    {
      "cell_type": "code",
      "execution_count": 59,
      "metadata": {},
      "outputs": [],
      "source": [
        "def recommend_top_n_unseen_movies(user_id, model, movies_df, n=10):\n",
        "    # Get all the movie IDs rated by the user\n",
        "    rated_movie_ids = df[df['userId'] == user_id]['movieId'].tolist()\n",
        "    \n",
        "    # Get all the movie IDs in the dataset\n",
        "    all_movie_ids = movies_df['movieId'].unique()\n",
        "    \n",
        "    # Identify the unseen movies (movies not rated by the user)\n",
        "    unseen_movie_ids = [movie_id for movie_id in all_movie_ids if movie_id not in rated_movie_ids]\n",
        "    \n",
        "    # Predict ratings for unseen movies\n",
        "    predictions = [(movie_id, model.predict(user_id, movie_id).est) for movie_id in unseen_movie_ids]\n",
        "    \n",
        "    # Sort the predictions based on predicted rating in descending order\n",
        "    top_n_predictions = sorted(predictions, key=lambda x: x[1], reverse=True)[:n]\n",
        "    \n",
        "    # Get movie titles corresponding to the top N predicted ratings\n",
        "    top_n_movies = [(movie_id, movies_df[movies_df['movieId'] == movie_id]['title'].iloc[0], rating) for movie_id, rating in top_n_predictions]\n",
        "    \n",
        "    return top_n_movies\n",
        "\n",
        "\n"
      ]
    },
    {
      "cell_type": "code",
      "execution_count": 62,
      "metadata": {},
      "outputs": [
        {
          "name": "stdout",
          "output_type": "stream",
          "text": [
            "Movie ID: 1272, Movie Title: Patton (1970), Predicted Rating: 4.146596735476239\n",
            "Movie ID: 750, Movie Title: Dr. Strangelove or: How I Learned to Stop Worrying and Love the Bomb (1964), Predicted Rating: 4.125893933161743\n",
            "Movie ID: 318, Movie Title: Shawshank Redemption, The (1994), Predicted Rating: 4.11749940131104\n",
            "Movie ID: 1227, Movie Title: Once Upon a Time in America (1984), Predicted Rating: 4.112075020275929\n",
            "Movie ID: 913, Movie Title: Maltese Falcon, The (1941), Predicted Rating: 4.093381767773169\n",
            "Movie ID: 1221, Movie Title: Godfather: Part II, The (1974), Predicted Rating: 4.089814866780365\n",
            "Movie ID: 1213, Movie Title: Goodfellas (1990), Predicted Rating: 4.088390953021232\n",
            "Movie ID: 858, Movie Title: Godfather, The (1972), Predicted Rating: 4.050690380907453\n",
            "Movie ID: 109487, Movie Title: Interstellar (2014), Predicted Rating: 4.049908667362402\n",
            "Movie ID: 1252, Movie Title: Chinatown (1974), Predicted Rating: 4.047183021229272\n"
          ]
        }
      ],
      "source": [
        "# Example usage:\n",
        "user_id = '10'\n",
        "top_n_recommendations = recommend_top_n_unseen_movies(user_id, algo, df, n=10)\n",
        "for movie_id, movie_title, predicted_rating in top_n_recommendations:\n",
        "    print(f\"Movie ID: {movie_id}, Movie Title: {movie_title}, Predicted Rating: {predicted_rating}\")"
      ]
    },
    {
      "cell_type": "markdown",
      "metadata": {},
      "source": [
        "## SVD++ with Surprise"
      ]
    },
    {
      "cell_type": "code",
      "execution_count": 65,
      "metadata": {},
      "outputs": [],
      "source": [
        "df['implicit_feedback'] = 1"
      ]
    },
    {
      "cell_type": "code",
      "execution_count": 66,
      "metadata": {},
      "outputs": [],
      "source": [
        "# Defining data for implicit and explicit rating\n",
        "implicit_data = df[['userId', 'movieId', 'implicit_feedback']]\n",
        "explicit_data = df[['userId', 'movieId', 'rating']]\n",
        "\n",
        "# Rename columns to match Surprise library's requirements\n",
        "implicit_data.columns = ['userID', 'itemID', 'rating']\n",
        "explicit_data.columns = ['userID', 'itemID', 'rating']\n",
        "\n",
        "explicit_rating_scale = (1, 5)  # For explicit feedback,  ratings are between 1 and 5\n",
        "implicit_rating_scale = (0, 1)  # For implicit feedback,  binary (0 or 1) feedback\n",
        "\n",
        "# Create a custom reader\n",
        "reader = Reader(rating_scale=(0, 5))\n",
        "\n",
        "\n",
        "# Concatenate implicit and explicit data\n",
        "data = pd.concat([implicit_data, explicit_data])\n",
        "\n",
        "# Load the data into Surprise dataset\n",
        "data = Dataset.load_from_df(data, reader)"
      ]
    },
    {
      "cell_type": "code",
      "execution_count": 68,
      "metadata": {},
      "outputs": [
        {
          "name": "stdout",
          "output_type": "stream",
          "text": [
            "RMSE: 1.6403\n",
            "RMSE: 1.6411\n",
            "RMSE: 1.6453\n"
          ]
        }
      ],
      "source": [
        "from surprise import accuracy, SVDpp\n",
        "from surprise.model_selection import KFold\n",
        "\n",
        "# define a cross-validation iterator\n",
        "kf = KFold(n_splits=3)\n",
        "\n",
        "algo = SVDpp()\n",
        "\n",
        "for trainset, testset in kf.split(data):\n",
        "\n",
        "    # train and test algorithm.\n",
        "    algo.fit(trainset)\n",
        "    predictions = algo.test(testset)\n",
        "\n",
        "    # Compute and print Root Mean Squared Error\n",
        "    accuracy.rmse(predictions, verbose=True)"
      ]
    },
    {
      "cell_type": "markdown",
      "metadata": {},
      "source": [
        "### Cross Validation for Recommender System\n",
        "This function implements cross-validation for evaluating the performance of a recommender system algorithm using Surprise package. The algorithm used in this function is SVD++.\n",
        "\n",
        "#### Algorithm:\n",
        "1. Initialize the SVD++ algorithm.\n",
        "2. Initialize a KFold cross-validation iterator with the specified number of splits (`n_splits`).\n",
        "3. Iterate over the cross-validation splits:\n",
        "   - Train the SVD++ algorithm on the training set.\n",
        "   - Test the algorithm on the test set.\n",
        "   - Compute the Root Mean Squared Error (RMSE) for the predictions.\n",
        "   - Print the RMSE for each fold.\n",
        "4. After all folds are processed, print the average RMSE across all folds.\n",
        "\n",
        "#### Output:\n",
        "- For each fold, the function prints the RMSE.\n",
        "- At the end, it prints the average RMSE across all folds."
      ]
    },
    {
      "cell_type": "code",
      "execution_count": 71,
      "metadata": {},
      "outputs": [
        {
          "name": "stdout",
          "output_type": "stream",
          "text": [
            "RMSE: 1.6401\n",
            "RMSE: 1.6445\n",
            "RMSE: 1.6373\n",
            "Best RMSE: 1.637295257399767\n",
            "Best Model: <surprise.prediction_algorithms.matrix_factorization.SVDpp object at 0x000002F73CE2D990>\n"
          ]
        }
      ],
      "source": [
        "from surprise import accuracy, SVDpp\n",
        "from surprise.model_selection import KFold\n",
        "\n",
        "# define a cross-validation iterator\n",
        "kf = KFold(n_splits=3)\n",
        "\n",
        "algo = SVDpp()\n",
        "\n",
        "# Dictionary to store models and their RMSE scores\n",
        "models_rmse = {}\n",
        "\n",
        "for i, (trainset, testset) in enumerate(kf.split(data), 1):\n",
        "\n",
        "    # train and test algorithm.\n",
        "    algo.fit(trainset)\n",
        "    predictions = algo.test(testset)\n",
        "\n",
        "    # Compute and print Root Mean Squared Error\n",
        "    rmse = accuracy.rmse(predictions, verbose=True)\n",
        "    \n",
        "    # Store the model and its RMSE score\n",
        "    models_rmse[f\"Model_{i}\"] = {\"model\": algo, \"rmse\": rmse}\n",
        "\n",
        "# Find the model with the lowest RMSE\n",
        "best_model_key = min(models_rmse, key=lambda k: models_rmse[k][\"rmse\"])\n",
        "best_model = models_rmse[best_model_key][\"model\"]\n",
        "best_rmse = models_rmse[best_model_key][\"rmse\"]\n",
        "\n",
        "print(\"Best RMSE:\", best_rmse)\n",
        "print(\"Best Model:\", best_model)\n"
      ]
    },
    {
      "cell_type": "markdown",
      "metadata": {},
      "source": [
        "###  Fitting the SVD++ model"
      ]
    },
    {
      "cell_type": "code",
      "execution_count": 72,
      "metadata": {},
      "outputs": [
        {
          "data": {
            "text/plain": [
              "<surprise.prediction_algorithms.matrix_factorization.SVDpp at 0x2f73ce2d990>"
            ]
          },
          "execution_count": 72,
          "metadata": {},
          "output_type": "execute_result"
        }
      ],
      "source": [
        "# fit the algorithm that yields the best rmse:\n",
        "algo_pp = best_model\n",
        "algo_pp.fit(data.build_full_trainset())"
      ]
    },
    {
      "cell_type": "markdown",
      "metadata": {},
      "source": [
        "### Making prediction"
      ]
    },
    {
      "cell_type": "code",
      "execution_count": 74,
      "metadata": {},
      "outputs": [
        {
          "name": "stdout",
          "output_type": "stream",
          "text": [
            "Predicted rating: 2.2921616101985625\n"
          ]
        }
      ],
      "source": [
        "# predict rating for one user as example\n",
        "user_id = '10'\n",
        "item_id = '1'\n",
        "predicted_rating = algo_pp.predict(user_id, item_id)\n",
        "print(\"Predicted rating:\", predicted_rating.est)"
      ]
    },
    {
      "cell_type": "markdown",
      "metadata": {},
      "source": [
        "### Movie recommendation to one user"
      ]
    },
    {
      "cell_type": "code",
      "execution_count": 76,
      "metadata": {},
      "outputs": [
        {
          "name": "stdout",
          "output_type": "stream",
          "text": [
            "Movie ID: 2920, Movie Title: Children of Paradise (Les enfants du paradis) (1945), Predicted Rating: 2.9717862084964866\n",
            "Movie ID: 179135, Movie Title: Blue Planet II (2017), Predicted Rating: 2.880297406782756\n",
            "Movie ID: 318, Movie Title: Shawshank Redemption, The (1994), Predicted Rating: 2.868117109047219\n",
            "Movie ID: 326, Movie Title: To Live (Huozhe) (1994), Predicted Rating: 2.8525104205931995\n",
            "Movie ID: 1224, Movie Title: Henry V (1989), Predicted Rating: 2.8350122640978\n",
            "Movie ID: 159817, Movie Title: Planet Earth (2006), Predicted Rating: 2.826865918643177\n",
            "Movie ID: 296, Movie Title: Pulp Fiction (1994), Predicted Rating: 2.8158573398838938\n",
            "Movie ID: 1227, Movie Title: Once Upon a Time in America (1984), Predicted Rating: 2.815141928109008\n",
            "Movie ID: 2905, Movie Title: Sanjuro (Tsubaki Sanjûrô) (1962), Predicted Rating: 2.805614891805144\n",
            "Movie ID: 1272, Movie Title: Patton (1970), Predicted Rating: 2.8014893065084583\n"
          ]
        }
      ],
      "source": [
        "# Example usage:\n",
        "user_id = '100'\n",
        "top_n_recommendations = recommend_top_n_unseen_movies(user_id, algo_pp, df, n=10)\n",
        "for movie_id, movie_title, predicted_rating in top_n_recommendations:\n",
        "    print(f\"Movie ID: {movie_id}, Movie Title: {movie_title}, Predicted Rating: {predicted_rating}\")"
      ]
    }
  ],
  "metadata": {
    "colab": {
      "collapsed_sections": [
        "IvfBOR3u9GTs",
        "omzocC60Fghw"
      ],
      "provenance": []
    },
    "kernelspec": {
      "display_name": "Python 3",
      "name": "python3"
    },
    "language_info": {
      "codemirror_mode": {
        "name": "ipython",
        "version": 3
      },
      "file_extension": ".py",
      "mimetype": "text/x-python",
      "name": "python",
      "nbconvert_exporter": "python",
      "pygments_lexer": "ipython3",
      "version": "3.11.4"
    }
  },
  "nbformat": 4,
  "nbformat_minor": 0
}
